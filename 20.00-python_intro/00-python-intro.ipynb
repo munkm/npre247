{
 "cells": [
  {
   "cell_type": "markdown",
   "id": "fc277dd1",
   "metadata": {},
   "source": [
    "# Introduction to programming with Python \n",
    "\n",
    "Before we begin I'd like to add a list of resources that you can use to help with your computing project: \n",
    "\n",
    "* [python tutorial from the PSF](https://docs.python.org/3/tutorial/)\n",
    "* [the numpy documentation](https://numpy.org/doc/stable/)\n",
    "* [numpy reference docs](https://numpy.org/devdocs/reference/index.html#reference)\n",
    "* [numpy tutorials](https://numpy.org/numpy-tutorials/)\n",
    "* [software carpentry python lesson](http://swcarpentry.github.io/python-novice-gapminder/)\n",
    "* [Effective computation in Physics](http://physics.codes/)\n",
    "* [Scientific Visualization with Python and Matplotlib](https://www.labri.fr/perso/nrougier/scientific-visualization.html)\n",
    "* [matplotlib cheatsheets](https://matplotlib.org/cheatsheets/)\n",
    "* [matplotlib gallery examples](https://matplotlib.org/stable/gallery/index)\n",
    "* [pytest examples](https://docs.pytest.org/en/7.0.x/)"
   ]
  },
  {
   "cell_type": "markdown",
   "id": "27c63dee",
   "metadata": {},
   "source": [
    "## Importing \n",
    "\n",
    "* Python has a standard library that is very strong \n",
    "    * includes file i/o and basic math functions\n",
    "* Packages that extend python make it even more powerful\n",
    "    * The SciPy stack (not the package) includes just about everything you need to know"
   ]
  },
  {
   "cell_type": "code",
   "execution_count": null,
   "id": "11d9bad4",
   "metadata": {},
   "outputs": [],
   "source": [
    "import numpy as np \n",
    "import matplotlib.pyplot as plt \n",
    "%matplotlib inline "
   ]
  },
  {
   "cell_type": "code",
   "execution_count": null,
   "id": "808b98fb",
   "metadata": {},
   "outputs": [],
   "source": [
    "my_first_variable = np.array([1,2,3])"
   ]
  },
  {
   "cell_type": "code",
   "execution_count": null,
   "id": "81f098cf",
   "metadata": {},
   "outputs": [],
   "source": [
    "my_first_variable"
   ]
  },
  {
   "cell_type": "code",
   "execution_count": null,
   "id": "388b55d7",
   "metadata": {},
   "outputs": [],
   "source": [
    "type(my_first_variable)"
   ]
  },
  {
   "cell_type": "code",
   "execution_count": null,
   "id": "85175502",
   "metadata": {},
   "outputs": [],
   "source": [
    "type(True)"
   ]
  },
  {
   "cell_type": "code",
   "execution_count": null,
   "id": "eae50cbc",
   "metadata": {},
   "outputs": [],
   "source": [
    "type(My_First_Variable)"
   ]
  },
  {
   "cell_type": "code",
   "execution_count": null,
   "id": "45513c6a",
   "metadata": {},
   "outputs": [],
   "source": [
    "\n",
    "\n",
    "## Variables\n",
    "\n",
    "* specific requirements for variables\n",
    "* naming\n",
    "* differences from functions "
   ]
  },
  {
   "cell_type": "code",
   "execution_count": null,
   "id": "42dfd919",
   "metadata": {},
   "outputs": [],
   "source": [
    "def my_first_function(t_half, t):\n",
    "    fraction_remaining = np.exp(-(np.log(2)/t_half)*t)\n",
    "    return fraction_remaining "
   ]
  },
  {
   "cell_type": "code",
   "execution_count": null,
   "id": "222ea1e3",
   "metadata": {},
   "outputs": [],
   "source": [
    "four_half_lives = my_first_function(1,4)"
   ]
  },
  {
   "cell_type": "code",
   "execution_count": null,
   "id": "f36e2b1d",
   "metadata": {},
   "outputs": [],
   "source": [
    "four_half_lives"
   ]
  },
  {
   "cell_type": "code",
   "execution_count": null,
   "id": "6e6f491d",
   "metadata": {},
   "outputs": [],
   "source": [
    "fraction_remaining"
   ]
  },
  {
   "cell_type": "code",
   "execution_count": null,
   "id": "7ff82492",
   "metadata": {},
   "outputs": [],
   "source": [
    "time"
   ]
  },
  {
   "cell_type": "code",
   "execution_count": null,
   "id": "fc207afb",
   "metadata": {},
   "outputs": [],
   "source": [
    "np.array([4,5,6])"
   ]
  },
  {
   "cell_type": "code",
   "execution_count": null,
   "id": "4a8db4fc",
   "metadata": {},
   "outputs": [],
   "source": [
    "type(t_half)"
   ]
  },
  {
   "cell_type": "code",
   "execution_count": null,
   "id": "c87f8d06",
   "metadata": {},
   "outputs": [],
   "source": [
    "t_half = 'the half life'"
   ]
  },
  {
   "cell_type": "code",
   "execution_count": null,
   "id": "29f42859",
   "metadata": {},
   "outputs": [],
   "source": [
    "type(t_half)"
   ]
  },
  {
   "cell_type": "code",
   "execution_count": null,
   "id": "ea94dd60",
   "metadata": {},
   "outputs": [],
   "source": [
    "t_half = 6.2e8 "
   ]
  },
  {
   "cell_type": "code",
   "execution_count": null,
   "id": "849b4fea",
   "metadata": {},
   "outputs": [],
   "source": [
    "type(t_half )"
   ]
  },
  {
   "cell_type": "markdown",
   "id": "370233ca",
   "metadata": {},
   "source": [
    "## Objects \n",
    "* tuple\n",
    "* list\n",
    "* dictionary\n",
    "* array \n",
    "* bool "
   ]
  },
  {
   "cell_type": "code",
   "execution_count": null,
   "id": "e73e806a",
   "metadata": {},
   "outputs": [],
   "source": [
    "my_fruits = ['apple', 'orange', 'banana']\n",
    "my_numbers = [42, 122, 1456]"
   ]
  },
  {
   "cell_type": "code",
   "execution_count": null,
   "id": "8ebb868b",
   "metadata": {},
   "outputs": [],
   "source": [
    "print(my_numbers)\n",
    "print(my_fruits)"
   ]
  },
  {
   "cell_type": "code",
   "execution_count": null,
   "id": "4a81908d",
   "metadata": {},
   "outputs": [],
   "source": [
    "type(my_fruits)"
   ]
  },
  {
   "cell_type": "code",
   "execution_count": null,
   "id": "18871bf4",
   "metadata": {},
   "outputs": [],
   "source": [
    "my_fruits[1:]"
   ]
  },
  {
   "cell_type": "code",
   "execution_count": null,
   "id": "0f011c53",
   "metadata": {},
   "outputs": [],
   "source": [
    "my_number_tuple = (42, 122, 1456)"
   ]
  },
  {
   "cell_type": "code",
   "execution_count": null,
   "id": "53211bae",
   "metadata": {},
   "outputs": [],
   "source": [
    "my_fruits[0] = 'kiwi'"
   ]
  },
  {
   "cell_type": "code",
   "execution_count": null,
   "id": "94829080",
   "metadata": {},
   "outputs": [],
   "source": [
    "isotopes = {'Na-22':{'half-life': 122, 'lambda': np.log(2)/122, \n",
    "                    'N_0': 100},\n",
    "            'Na-24':{'half-life': 0, 'lambda': 0, \"N_0\":100}}"
   ]
  },
  {
   "cell_type": "code",
   "execution_count": null,
   "id": "d9946cee",
   "metadata": {},
   "outputs": [],
   "source": [
    "type(isotopes['Na-22']['half-life'])"
   ]
  },
  {
   "cell_type": "markdown",
   "id": "dde259aa",
   "metadata": {},
   "source": [
    "## Commenting Code"
   ]
  },
  {
   "cell_type": "code",
   "execution_count": null,
   "id": "40eb7183",
   "metadata": {},
   "outputs": [],
   "source": [
    "q_kr = 1.024 # MeV, this is an inline comment \n",
    "\n",
    "# this is where I am iterating timesteps \n",
    "for i in np.linspace(1,10):\n",
    "    n_tot = i*20\n",
    "    n_min = i/20\n",
    "    \n",
    "    cats = ['calico', 'persian', 'absynnian']\n",
    "    \n",
    "    print(i, n_tot, n_min)\n",
    "    "
   ]
  },
  {
   "cell_type": "code",
   "execution_count": null,
   "id": "8a2d8b7f",
   "metadata": {},
   "outputs": [],
   "source": [
    "def pirate_miles(t):\n",
    "    random = 23425\n",
    "    stuff = 1231451\n",
    "    in_my_func = 77777\n",
    "    \"\"\"\n",
    "    returns the number of miles a pirate travels in time t\n",
    "    \n",
    "    Parameters\n",
    "    ----------\n",
    "    t : the time in days traveled\n",
    "    \n",
    "    Returns\n",
    "    -------\n",
    "    number of nautical miles\n",
    "    \"\"\"\n",
    "    return t*200"
   ]
  },
  {
   "cell_type": "code",
   "execution_count": null,
   "id": "080d34da",
   "metadata": {},
   "outputs": [],
   "source": [
    "pirate_miles?"
   ]
  },
  {
   "cell_type": "markdown",
   "id": "38d8d7e0",
   "metadata": {},
   "source": [
    "## Slicing "
   ]
  },
  {
   "cell_type": "code",
   "execution_count": null,
   "id": "efed177f",
   "metadata": {},
   "outputs": [],
   "source": []
  },
  {
   "cell_type": "code",
   "execution_count": null,
   "id": "b59719d0",
   "metadata": {},
   "outputs": [],
   "source": [
    "small_array = np.arange(6).reshape((3,2))\n",
    "small_array"
   ]
  },
  {
   "cell_type": "code",
   "execution_count": null,
   "id": "29fa65a4",
   "metadata": {},
   "outputs": [],
   "source": [
    "small_array[:,0]"
   ]
  },
  {
   "cell_type": "code",
   "execution_count": null,
   "id": "b3c75daf",
   "metadata": {},
   "outputs": [],
   "source": []
  },
  {
   "cell_type": "code",
   "execution_count": null,
   "id": "0823b7e5",
   "metadata": {},
   "outputs": [],
   "source": [
    "small_array = np.arange(6)\n",
    "for i in small_array:\n",
    "    if i%4==0:\n",
    "        print('this is even and a multiple of 4')\n",
    "    elif i%2:\n",
    "        print('this is even')\n",
    "    else:\n",
    "        print('this is odd')\n",
    "        \n",
    "    "
   ]
  },
  {
   "cell_type": "code",
   "execution_count": null,
   "id": "54c22a50",
   "metadata": {},
   "outputs": [],
   "source": []
  },
  {
   "cell_type": "code",
   "execution_count": null,
   "id": "cd6fbe56",
   "metadata": {},
   "outputs": [],
   "source": []
  },
  {
   "cell_type": "code",
   "execution_count": null,
   "id": "5e4884bb",
   "metadata": {},
   "outputs": [],
   "source": [
    "type(small_array)"
   ]
  },
  {
   "cell_type": "code",
   "execution_count": null,
   "id": "afc8712c",
   "metadata": {},
   "outputs": [],
   "source": [
    "x3 = np.array([1,2,3])\n",
    "x4 = np.array([[4,5,6]])"
   ]
  },
  {
   "cell_type": "code",
   "execution_count": null,
   "id": "ce6d703a",
   "metadata": {},
   "outputs": [],
   "source": [
    "x3*x4"
   ]
  },
  {
   "cell_type": "code",
   "execution_count": null,
   "id": "b8bbd9d4",
   "metadata": {},
   "outputs": [],
   "source": [
    "x4@x3"
   ]
  },
  {
   "cell_type": "markdown",
   "id": "82f04497",
   "metadata": {},
   "source": [
    "## Plotting"
   ]
  },
  {
   "cell_type": "code",
   "execution_count": null,
   "id": "0c4ee362",
   "metadata": {},
   "outputs": [],
   "source": []
  },
  {
   "cell_type": "code",
   "execution_count": null,
   "id": "b6d28f5e",
   "metadata": {},
   "outputs": [],
   "source": [
    "x = np.linspace(0, 10, 500)\n",
    "y = np.sin(x)\n",
    "\n",
    "fig, ax = plt.subplots()\n",
    "\n",
    "# Using set_dashes() to modify dashing of an existing line\n",
    "line1, = ax.plot(x, y, label='Using set_dashes()', color='cyan')\n",
    "line1.set_dashes([2, 2, 10, 2])  # 2pt line, 2pt break, 10pt line, 2pt break\n",
    "\n",
    "# Using plot(..., dashes=...) to set the dashing when creating a line\n",
    "line2, = ax.plot(x, y - 0.2, dashes=[6, 2], label='Using the dashes parameter')\n",
    "\n",
    "ax.legend()\n",
    "ax.set_xlabel('x values')\n",
    "ax.set_ylabel('sin(x)')\n",
    "ax.set_title('title')\n",
    "plt.show()\n",
    "\n",
    "# adding x, y, and title labels? "
   ]
  },
  {
   "cell_type": "code",
   "execution_count": null,
   "id": "a1a795b8",
   "metadata": {},
   "outputs": [],
   "source": [
    "ax.set_xlabel('x values')"
   ]
  },
  {
   "cell_type": "markdown",
   "id": "fc87cd11",
   "metadata": {},
   "source": [
    "## Other important things\n",
    "* Line continuation within function definitions\n",
    "* Do not repeat yourself\n",
    "* indexing is different in different languages \n",
    "* ipython magic \n",
    "\n",
    "\n",
    "* There are packages that can do stuff for you, but in this project I *expect* you to write out your own algorithms. That is, you cannot use a package to do the solves for you. "
   ]
  },
  {
   "cell_type": "code",
   "execution_count": null,
   "id": "7a8919f2",
   "metadata": {},
   "outputs": [],
   "source": []
  },
  {
   "cell_type": "code",
   "execution_count": null,
   "id": "2ada79a0",
   "metadata": {},
   "outputs": [],
   "source": []
  }
 ],
 "metadata": {
  "kernelspec": {
   "display_name": "Python 3 (ipykernel)",
   "language": "python",
   "name": "python3"
  },
  "language_info": {
   "codemirror_mode": {
    "name": "ipython",
    "version": 3
   },
   "file_extension": ".py",
   "mimetype": "text/x-python",
   "name": "python",
   "nbconvert_exporter": "python",
   "pygments_lexer": "ipython3",
   "version": "3.9.9"
  }
 },
 "nbformat": 4,
 "nbformat_minor": 5
}

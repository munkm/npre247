{
 "cells": [
  {
   "cell_type": "markdown",
   "id": "fc277dd1",
   "metadata": {},
   "source": [
    "# Introduction to programming with Python \n",
    "\n",
    "Before we begin I'd like to add a list of resources that you can use to help with your computing project: \n",
    "\n",
    "* [python tutorial from the PSF](https://docs.python.org/3/tutorial/)\n",
    "* [the numpy documentation](https://numpy.org/doc/stable/)\n",
    "* [numpy reference docs](https://numpy.org/devdocs/reference/index.html#reference)\n",
    "* [numpy tutorials](https://numpy.org/numpy-tutorials/)\n",
    "* [common numpy operations](https://scipy-lectures.org/intro/numpy/operations.html)\n",
    "* [software carpentry python lesson](http://swcarpentry.github.io/python-novice-gapminder/)\n",
    "* [Effective computation in Physics](http://physics.codes/)\n",
    "* [Scientific Visualization with Python and Matplotlib](https://www.labri.fr/perso/nrougier/scientific-visualization.html)\n",
    "* [matplotlib cheatsheets](https://matplotlib.org/cheatsheets/)\n",
    "* [matplotlib gallery examples](https://matplotlib.org/stable/gallery/index)\n",
    "* [pytest examples](https://docs.pytest.org/en/7.0.x/)"
   ]
  },
  {
   "cell_type": "markdown",
   "id": "27c63dee",
   "metadata": {},
   "source": [
    "## Importing \n",
    "\n",
    "* Python has a standard library that is very strong \n",
    "    * includes file i/o and basic math functions\n",
    "* Packages that extend python make it even more powerful\n",
    "    * The SciPy stack (not the package) includes just about everything you need to know"
   ]
  },
  {
   "cell_type": "code",
   "execution_count": null,
   "id": "f10d8f5f",
   "metadata": {},
   "outputs": [],
   "source": [
    "np.array([1])"
   ]
  },
  {
   "cell_type": "code",
   "execution_count": null,
   "id": "277cd200",
   "metadata": {},
   "outputs": [],
   "source": [
    "my_variable"
   ]
  },
  {
   "cell_type": "code",
   "execution_count": null,
   "id": "11d9bad4",
   "metadata": {},
   "outputs": [],
   "source": [
    "import numpy as np \n",
    "import matplotlib.pyplot as plt \n",
    "%matplotlib inline "
   ]
  },
  {
   "cell_type": "code",
   "execution_count": null,
   "id": "0cc3dd0a",
   "metadata": {},
   "outputs": [],
   "source": [
    "lam_235U = 135\n",
    "lam_na22 = 222\n",
    "lam_92235 = 5 "
   ]
  },
  {
   "cell_type": "code",
   "execution_count": null,
   "id": "b3f16cc7",
   "metadata": {},
   "outputs": [],
   "source": [
    "type(lam_92235)"
   ]
  },
  {
   "cell_type": "code",
   "execution_count": null,
   "id": "b19018f5",
   "metadata": {},
   "outputs": [],
   "source": [
    "units_lam_92235 = 'seconds'"
   ]
  },
  {
   "cell_type": "code",
   "execution_count": null,
   "id": "37764f3d",
   "metadata": {},
   "outputs": [],
   "source": [
    "type(units_lam_92235)"
   ]
  },
  {
   "cell_type": "code",
   "execution_count": null,
   "id": "b22c1e13",
   "metadata": {},
   "outputs": [],
   "source": [
    "mass_235U = 235.0539 "
   ]
  },
  {
   "cell_type": "code",
   "execution_count": null,
   "id": "656611cf",
   "metadata": {},
   "outputs": [],
   "source": [
    "type(mass_235U)"
   ]
  },
  {
   "cell_type": "markdown",
   "id": "370233ca",
   "metadata": {},
   "source": [
    "## Objects \n",
    "* tuple\n",
    "* list\n",
    "* dictionary\n",
    "* array \n",
    "* bool "
   ]
  },
  {
   "cell_type": "code",
   "execution_count": null,
   "id": "65270bb6",
   "metadata": {},
   "outputs": [],
   "source": [
    "list_of_nums = [1,2,3]"
   ]
  },
  {
   "cell_type": "code",
   "execution_count": null,
   "id": "560141c9",
   "metadata": {},
   "outputs": [],
   "source": [
    "type(list_of_nums)"
   ]
  },
  {
   "cell_type": "code",
   "execution_count": null,
   "id": "e0ad5cbb",
   "metadata": {},
   "outputs": [],
   "source": [
    "for i in list_of_nums:\n",
    "    print(i*2)"
   ]
  },
  {
   "cell_type": "code",
   "execution_count": null,
   "id": "276a4ef1",
   "metadata": {},
   "outputs": [],
   "source": [
    "U235 = {'mass': 235.0539,\n",
    "        'num_p' : 92,\n",
    "        'num_a' : 235, \n",
    "}"
   ]
  },
  {
   "cell_type": "code",
   "execution_count": null,
   "id": "03a18490",
   "metadata": {},
   "outputs": [],
   "source": [
    "U235['mass']"
   ]
  },
  {
   "cell_type": "code",
   "execution_count": null,
   "id": "60d1cf17",
   "metadata": {},
   "outputs": [],
   "source": [
    "U238 = {'mass': 238.0507,\n",
    "        'num_p' : 92,\n",
    "        'num_a' : 238, \n",
    "}"
   ]
  },
  {
   "cell_type": "code",
   "execution_count": null,
   "id": "eae46523",
   "metadata": {},
   "outputs": [],
   "source": [
    "isotopes = {'U235': U235,\n",
    "            'U238': U238}"
   ]
  },
  {
   "cell_type": "code",
   "execution_count": null,
   "id": "0ecd4787",
   "metadata": {},
   "outputs": [],
   "source": [
    "isotopes['U235']['mass']"
   ]
  },
  {
   "cell_type": "code",
   "execution_count": null,
   "id": "834bf6d6",
   "metadata": {},
   "outputs": [],
   "source": [
    "type(isotopes['U235'])"
   ]
  },
  {
   "cell_type": "code",
   "execution_count": null,
   "id": "dcf08c19",
   "metadata": {},
   "outputs": [],
   "source": [
    "np.array?"
   ]
  },
  {
   "cell_type": "code",
   "execution_count": null,
   "id": "a6eb8566",
   "metadata": {},
   "outputs": [],
   "source": [
    "np.array(isotopes)"
   ]
  },
  {
   "cell_type": "code",
   "execution_count": null,
   "id": "808b98fb",
   "metadata": {},
   "outputs": [],
   "source": [
    "my_nth_variable = np.array([1,2,3], dtype=np.float64)"
   ]
  },
  {
   "cell_type": "code",
   "execution_count": null,
   "id": "6daf0f0e",
   "metadata": {},
   "outputs": [],
   "source": [
    "my_extra_variable = np.array([1,2,3], dtype=float)"
   ]
  },
  {
   "cell_type": "code",
   "execution_count": null,
   "id": "f2942642",
   "metadata": {},
   "outputs": [],
   "source": [
    "my_extra_variable.dtype"
   ]
  },
  {
   "cell_type": "code",
   "execution_count": null,
   "id": "81f098cf",
   "metadata": {},
   "outputs": [],
   "source": [
    "my_nth_variable"
   ]
  },
  {
   "cell_type": "code",
   "execution_count": null,
   "id": "388b55d7",
   "metadata": {},
   "outputs": [],
   "source": [
    "my_nth_variable.dtype"
   ]
  },
  {
   "cell_type": "code",
   "execution_count": null,
   "id": "85175502",
   "metadata": {},
   "outputs": [],
   "source": [
    "type(True)"
   ]
  },
  {
   "cell_type": "code",
   "execution_count": null,
   "id": "eae50cbc",
   "metadata": {},
   "outputs": [],
   "source": [
    "type(My_First_Variable)"
   ]
  },
  {
   "cell_type": "markdown",
   "id": "22f75e31",
   "metadata": {},
   "source": [
    "\n",
    "\n",
    "## Variables\n",
    "\n",
    "* specific requirements for variables\n",
    "* naming\n",
    "* differences from functions "
   ]
  },
  {
   "cell_type": "code",
   "execution_count": null,
   "id": "42dfd919",
   "metadata": {},
   "outputs": [],
   "source": [
    "def my_first_function(t_half, t):\n",
    "    fraction_remaining = np.exp(-(np.log(2)/t_half)*t)\n",
    "    return fraction_remaining "
   ]
  },
  {
   "cell_type": "code",
   "execution_count": null,
   "id": "222ea1e3",
   "metadata": {},
   "outputs": [],
   "source": [
    "four_half_lives = my_first_function(1,4)"
   ]
  },
  {
   "cell_type": "code",
   "execution_count": null,
   "id": "f36e2b1d",
   "metadata": {},
   "outputs": [],
   "source": [
    "four_half_lives"
   ]
  },
  {
   "cell_type": "code",
   "execution_count": null,
   "id": "6e6f491d",
   "metadata": {},
   "outputs": [],
   "source": [
    "fraction_remaining"
   ]
  },
  {
   "cell_type": "code",
   "execution_count": null,
   "id": "7ff82492",
   "metadata": {},
   "outputs": [],
   "source": [
    "time"
   ]
  },
  {
   "cell_type": "code",
   "execution_count": null,
   "id": "fc207afb",
   "metadata": {},
   "outputs": [],
   "source": [
    "np.array([4,5,6])"
   ]
  },
  {
   "cell_type": "code",
   "execution_count": null,
   "id": "4a8db4fc",
   "metadata": {},
   "outputs": [],
   "source": [
    "type(t_half)"
   ]
  },
  {
   "cell_type": "code",
   "execution_count": null,
   "id": "c87f8d06",
   "metadata": {},
   "outputs": [],
   "source": [
    "t_half = 'the half life'"
   ]
  },
  {
   "cell_type": "code",
   "execution_count": null,
   "id": "9d19b2ab",
   "metadata": {},
   "outputs": [],
   "source": [
    "t_half"
   ]
  },
  {
   "cell_type": "code",
   "execution_count": null,
   "id": "29f42859",
   "metadata": {},
   "outputs": [],
   "source": [
    "type(t_half)"
   ]
  },
  {
   "cell_type": "code",
   "execution_count": null,
   "id": "ea94dd60",
   "metadata": {},
   "outputs": [],
   "source": [
    "t_half = 6.2e8 "
   ]
  },
  {
   "cell_type": "code",
   "execution_count": null,
   "id": "849b4fea",
   "metadata": {},
   "outputs": [],
   "source": [
    "type(t_half )"
   ]
  },
  {
   "cell_type": "markdown",
   "id": "dde259aa",
   "metadata": {},
   "source": [
    "## Commenting Code"
   ]
  },
  {
   "cell_type": "code",
   "execution_count": null,
   "id": "40eb7183",
   "metadata": {},
   "outputs": [],
   "source": [
    "q_kr = 1.024 # MeV, this is an inline comment \n",
    "\n",
    "# this is where I am iterating timesteps \n",
    "for i in np.linspace(1,10):\n",
    "    n_tot = i*20\n",
    "    n_min = i/20\n",
    "    \n",
    "    cats = ['calico', 'persian', 'absynnian']\n",
    "    \n",
    "    print(i, n_tot, n_min)\n",
    "    "
   ]
  },
  {
   "cell_type": "code",
   "execution_count": null,
   "id": "45dda2e9",
   "metadata": {},
   "outputs": [],
   "source": [
    "np.array?"
   ]
  },
  {
   "cell_type": "code",
   "execution_count": null,
   "id": "8a2d8b7f",
   "metadata": {},
   "outputs": [],
   "source": [
    "def pirate_miles(t):\n",
    "    \"\"\"\n",
    "    returns the number of miles a pirate travels in time t\n",
    "    \n",
    "    Parameters\n",
    "    ----------\n",
    "    t : the time in days traveled\n",
    "    \n",
    "    Returns\n",
    "    -------\n",
    "    number of nautical miles\n",
    "    \"\"\"\n",
    "    nautical_miles = t*200\n",
    "    return nautical_miles "
   ]
  },
  {
   "cell_type": "code",
   "execution_count": null,
   "id": "080d34da",
   "metadata": {},
   "outputs": [],
   "source": [
    "pirate_miles?"
   ]
  },
  {
   "cell_type": "markdown",
   "id": "38d8d7e0",
   "metadata": {},
   "source": [
    "## Slicing "
   ]
  },
  {
   "cell_type": "code",
   "execution_count": null,
   "id": "efed177f",
   "metadata": {},
   "outputs": [],
   "source": [
    "np.arange(1,12.5,0.5)"
   ]
  },
  {
   "cell_type": "code",
   "execution_count": null,
   "id": "a5d2b5f2",
   "metadata": {},
   "outputs": [],
   "source": [
    "len(np.arange(1,12,0.5))"
   ]
  },
  {
   "cell_type": "code",
   "execution_count": null,
   "id": "7271d6dd",
   "metadata": {},
   "outputs": [],
   "source": [
    "np.linspace(1,12,22)"
   ]
  },
  {
   "cell_type": "code",
   "execution_count": null,
   "id": "a465fb13",
   "metadata": {},
   "outputs": [],
   "source": [
    "ones_array = np.ones(20)"
   ]
  },
  {
   "cell_type": "code",
   "execution_count": null,
   "id": "0ba5075d",
   "metadata": {},
   "outputs": [],
   "source": [
    "ones_array[3] = 2.0"
   ]
  },
  {
   "cell_type": "code",
   "execution_count": null,
   "id": "fdbead9f",
   "metadata": {},
   "outputs": [],
   "source": [
    "np.arange(6)"
   ]
  },
  {
   "cell_type": "code",
   "execution_count": null,
   "id": "464512bf",
   "metadata": {},
   "outputs": [],
   "source": [
    "ones_array"
   ]
  },
  {
   "cell_type": "code",
   "execution_count": null,
   "id": "b59719d0",
   "metadata": {},
   "outputs": [],
   "source": [
    "small_array = np.arange(6).reshape((3,2))\n",
    "small_array"
   ]
  },
  {
   "cell_type": "code",
   "execution_count": null,
   "id": "29fa65a4",
   "metadata": {},
   "outputs": [],
   "source": [
    "small_array[0,:]"
   ]
  },
  {
   "cell_type": "code",
   "execution_count": null,
   "id": "b3c75daf",
   "metadata": {},
   "outputs": [],
   "source": [
    "small_array = np.arange(6)\n",
    "for i in small_array: \n",
    "    print(i)"
   ]
  },
  {
   "cell_type": "code",
   "execution_count": null,
   "id": "0823b7e5",
   "metadata": {},
   "outputs": [],
   "source": [
    "small_array = np.arange(6)\n",
    "for i in small_array:\n",
    "    if i%4==0:\n",
    "        print('this is even and a multiple of 4')\n",
    "    elif i%2:\n",
    "        print('this is even')\n",
    "    else:\n",
    "        print('this is odd')\n",
    "        \n",
    "    "
   ]
  },
  {
   "cell_type": "code",
   "execution_count": null,
   "id": "54c22a50",
   "metadata": {},
   "outputs": [],
   "source": [
    "extra_array = np.ones(len(small_array))\n",
    "print(extra_array)\n",
    "for i in small_array: \n",
    "    new_val = (i+3)/2\n",
    "    extra_array[i] = new_val \n",
    "    print(i, new_val)\n",
    "    "
   ]
  },
  {
   "cell_type": "code",
   "execution_count": null,
   "id": "cd6fbe56",
   "metadata": {},
   "outputs": [],
   "source": [
    "extra_array"
   ]
  },
  {
   "cell_type": "code",
   "execution_count": null,
   "id": "5e4884bb",
   "metadata": {},
   "outputs": [],
   "source": [
    "type(small_array)"
   ]
  },
  {
   "cell_type": "code",
   "execution_count": null,
   "id": "afc8712c",
   "metadata": {},
   "outputs": [],
   "source": [
    "x3 = np.array([1,2,3])\n",
    "x4 = np.array([[4,5,6]])"
   ]
  },
  {
   "cell_type": "code",
   "execution_count": null,
   "id": "ce6d703a",
   "metadata": {},
   "outputs": [],
   "source": [
    "x3*x4"
   ]
  },
  {
   "cell_type": "code",
   "execution_count": null,
   "id": "286ec6cc",
   "metadata": {},
   "outputs": [],
   "source": [
    "np.dot(x4,x3)"
   ]
  },
  {
   "cell_type": "markdown",
   "id": "82f04497",
   "metadata": {},
   "source": [
    "## Plotting"
   ]
  },
  {
   "cell_type": "code",
   "execution_count": null,
   "id": "b6d28f5e",
   "metadata": {},
   "outputs": [],
   "source": [
    "x = np.linspace(0, 10, 500)\n",
    "y = np.sin(x)\n",
    "\n",
    "fig, ax = plt.subplots()\n",
    "\n",
    "# Using set_dashes() to modify dashing of an existing line\n",
    "line1, = ax.plot(x, y, label='Using set_dashes()', color='cyan')\n",
    "line1.set_dashes([2, 2, 10, 2])  # 2pt line, 2pt break, 10pt line, 2pt break\n",
    "line1.set_linewidth(4)\n",
    "line1.set_color('red')\n",
    "\n",
    "# Using plot(..., dashes=...) to set the dashing when creating a line\n",
    "line2, = ax.plot(x, y - 0.2, dashes=[6, 2], \n",
    "                 label='Using the dashes parameter')\n",
    "\n",
    "ax.legend()\n",
    "ax.set_xlabel('x values')\n",
    "ax.set_ylabel('sin(x)')\n",
    "ax.ticklabel_format(style='sci')\n",
    "ax.set_title('sin plot of y and y-0.2')\n",
    "plt.show()\n",
    "\n",
    "# adding x, y, and title labels? "
   ]
  },
  {
   "cell_type": "code",
   "execution_count": null,
   "id": "a1a795b8",
   "metadata": {},
   "outputs": [],
   "source": [
    "ax.set_xlabel('x values')"
   ]
  },
  {
   "cell_type": "markdown",
   "id": "fc87cd11",
   "metadata": {},
   "source": [
    "## Other important things\n",
    "* Line continuation within function definitions\n",
    "* Do not repeat yourself\n",
    "* indexing is different in different languages \n",
    "* ipython magic \n",
    "\n",
    "\n",
    "* There are packages that can do stuff for you, but in this project I *expect* you to write out your own algorithms. That is, you cannot use a package to do the solves for you. "
   ]
  },
  {
   "cell_type": "code",
   "execution_count": null,
   "id": "f5f6e25b",
   "metadata": {},
   "outputs": [],
   "source": [
    "a = np.ones(5) + np.ones(5) + np.ones(5) + np.ones(5) \\\n",
    "    + np.ones(5) + np.ones(5) + np.ones(5) + np.ones(5) \\ \n",
    "    + np.ones(5) + np.ones(5)"
   ]
  },
  {
   "cell_type": "code",
   "execution_count": null,
   "id": "03e4b0ce",
   "metadata": {},
   "outputs": [],
   "source": [
    "a "
   ]
  },
  {
   "cell_type": "markdown",
   "id": "d4c31e71",
   "metadata": {},
   "source": [
    "### Some other helpful links:\n",
    "\n",
    "https://scipy-lectures.org/intro/numpy/operations.html\n"
   ]
  },
  {
   "cell_type": "code",
   "execution_count": null,
   "id": "2ada79a0",
   "metadata": {},
   "outputs": [],
   "source": [
    "a = np.ones(5)"
   ]
  },
  {
   "cell_type": "code",
   "execution_count": null,
   "id": "8411e1b2",
   "metadata": {},
   "outputs": [],
   "source": [
    "a.dtype"
   ]
  },
  {
   "cell_type": "code",
   "execution_count": null,
   "id": "2cdb402c",
   "metadata": {},
   "outputs": [],
   "source": [
    "np.linspace(1,10,100)"
   ]
  },
  {
   "cell_type": "code",
   "execution_count": null,
   "id": "cdea3659",
   "metadata": {},
   "outputs": [],
   "source": [
    "np.arange(1,10.1,0.1)"
   ]
  },
  {
   "cell_type": "code",
   "execution_count": null,
   "id": "a527b968",
   "metadata": {},
   "outputs": [],
   "source": []
  }
 ],
 "metadata": {
  "kernelspec": {
   "display_name": "Python 3 (ipykernel)",
   "language": "python",
   "name": "python3"
  },
  "language_info": {
   "codemirror_mode": {
    "name": "ipython",
    "version": 3
   },
   "file_extension": ".py",
   "mimetype": "text/x-python",
   "name": "python",
   "nbconvert_exporter": "python",
   "pygments_lexer": "ipython3",
   "version": "3.9.9"
  }
 },
 "nbformat": 4,
 "nbformat_minor": 5
}

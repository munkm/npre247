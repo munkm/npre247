{
 "cells": [
  {
   "cell_type": "markdown",
   "metadata": {},
   "source": [
    "# Announcements\n",
    "\n",
    "* Today we will continue with our radioactivity lecture\n",
    "* Friday we will go over exam results and CP1 (which will be posted Friday). \n",
    "* The homework will be over radioactive decay and include some review material on common issues from the exam "
   ]
  },
  {
   "cell_type": "code",
   "execution_count": 1,
   "metadata": {},
   "outputs": [],
   "source": [
    "%matplotlib widget\n",
    "\n",
    "import matplotlib\n",
    "import numpy as np\n",
    "import matplotlib.pyplot as plt\n",
    "import mplcursors"
   ]
  },
  {
   "cell_type": "code",
   "execution_count": 2,
   "metadata": {},
   "outputs": [
    {
     "ename": "KeyError",
     "evalue": "''",
     "output_type": "error",
     "traceback": [
      "\u001b[0;31m---------------------------------------------------------------------------\u001b[0m",
      "\u001b[0;31mKeyError\u001b[0m                                  Traceback (most recent call last)",
      "Input \u001b[0;32mIn [2]\u001b[0m, in \u001b[0;36m<module>\u001b[0;34m\u001b[0m\n\u001b[1;32m      2\u001b[0m plt\u001b[38;5;241m.\u001b[39mrcParams[\u001b[38;5;124m\"\u001b[39m\u001b[38;5;124mfigure.figsize\u001b[39m\u001b[38;5;124m\"\u001b[39m] \u001b[38;5;241m=\u001b[39m (\u001b[38;5;241m8\u001b[39m, \u001b[38;5;241m6\u001b[39m)\n\u001b[1;32m      3\u001b[0m plt\u001b[38;5;241m.\u001b[39mrcParams[\u001b[38;5;124m\"\u001b[39m\u001b[38;5;124mfont.size\u001b[39m\u001b[38;5;124m\"\u001b[39m] \u001b[38;5;241m=\u001b[39m \u001b[38;5;241m16\u001b[39m\n\u001b[0;32m----> 4\u001b[0m \u001b[43mplt\u001b[49m\u001b[38;5;241;43m.\u001b[39;49m\u001b[43mrcParams\u001b[49m\u001b[43m[\u001b[49m\u001b[38;5;124;43m\"\u001b[39;49m\u001b[38;5;124;43m\"\u001b[39;49m\u001b[43m]\u001b[49m\n",
      "File \u001b[0;32m~/miniconda3/envs/npre247/lib/python3.9/site-packages/matplotlib/__init__.py:674\u001b[0m, in \u001b[0;36mRcParams.__getitem__\u001b[0;34m(self, key)\u001b[0m\n\u001b[1;32m    671\u001b[0m         \u001b[38;5;28;01mfrom\u001b[39;00m \u001b[38;5;21;01mmatplotlib\u001b[39;00m \u001b[38;5;28;01mimport\u001b[39;00m pyplot \u001b[38;5;28;01mas\u001b[39;00m plt\n\u001b[1;32m    672\u001b[0m         plt\u001b[38;5;241m.\u001b[39mswitch_backend(rcsetup\u001b[38;5;241m.\u001b[39m_auto_backend_sentinel)\n\u001b[0;32m--> 674\u001b[0m \u001b[38;5;28;01mreturn\u001b[39;00m \u001b[38;5;28;43mdict\u001b[39;49m\u001b[38;5;241;43m.\u001b[39;49m\u001b[38;5;21;43m__getitem__\u001b[39;49m\u001b[43m(\u001b[49m\u001b[38;5;28;43mself\u001b[39;49m\u001b[43m,\u001b[49m\u001b[43m \u001b[49m\u001b[43mkey\u001b[49m\u001b[43m)\u001b[49m\n",
      "\u001b[0;31mKeyError\u001b[0m: ''"
     ]
    }
   ],
   "source": [
    "# Scale plot to fit page \n",
    "plt.rcParams[\"figure.figsize\"] = (8, 6)\n",
    "plt.rcParams[\"font.size\"] = 16"
   ]
  },
  {
   "cell_type": "markdown",
   "metadata": {},
   "source": [
    "## Review\n",
    "\n",
    "### Radioactive Decay\n",
    "\n",
    "Earlier last week we derived the decay equation:\n",
    "\n",
    "\n",
    "\\begin{align}\n",
    "        \\frac{dN}{dt} &= -\\lambda N \\\\\n",
    "       \\Rightarrow N_i(t) &= N_i(0)e^{-\\lambda t}\\\\\n",
    "\\end{align}\n",
    "\n",
    "where\n",
    "\n",
    "\\begin{align}\n",
    "        N_i(t) &= \\mbox{number of isotopes i adjusted for decay}\\\\\n",
    "        N_i(0)&= \\mbox{initial condition}\\\\\n",
    "        \\end{align}\n",
    "        \n",
    "We also defined our decay constant $\\lambda$ and how it relates to the half-life of an isotope\n",
    "\n",
    "\\begin{align}\n",
    "        A = N\\lambda \\\\\n",
    "        \\lambda = \\frac{ln(2)}{\\tau_{1/2}} \\\\\n",
    "        \\end{align}\n",
    "        \n",
    "### Radioactive decay with a stable daughter product\n",
    "\n",
    "If the decay of an element goes into a stable daughter, then the buildup of the daughter looks like: \n",
    "\n",
    "given the parent decay\n",
    "\\begin{align}\n",
    "N_1(t) = N_1(0)\\exp{^{\\lambda t}}\n",
    "\\end{align}\n",
    "\n",
    "the daugter buildup is the eqivalent of the nuclides lost from the parent:\n",
    "\\begin{align}\n",
    "N_2(t) = N_1(0)\\left[1-\\exp{^{\\lambda t}}\\right]\n",
    "\\end{align}\n",
    "\n",
    "if you know $N_2(t)$ and $N_1(t)$, you can calcualte how long a sample has been decaying\n",
    "\\begin{align}\n",
    "t = \\frac{1}{\\lambda_1}ln\\left(1+\\frac{N_2(t)}{N_1(t)}\\right)\n",
    "\\end{align}\n",
    "        \n",
    "### And radioactive decay with production\n",
    "\n",
    "\\begin{align}\n",
    "\\frac{dN(t)}{dt} &= -\\mbox{rate of decay} + \\mbox{rate of production}\\\\\n",
    "\\implies N(t) &= N_0 e^{-\\lambda t} + \\int_0^t dt'Q(t')e^{-\\lambda (t-t')}\\\\\n",
    "\\end{align}\n",
    "\n",
    "If the production rate is constant $(Q(t)=Q_0)$, this simplifies:\n",
    "\n",
    "\\begin{align}\n",
    "N(t) &= N_0 e^{-\\lambda t} + \\frac{Q_0}{\\lambda}\\left[1-e^{-\\lambda t}\\right]\\\\\n",
    "\\end{align}"
   ]
  },
  {
   "cell_type": "markdown",
   "metadata": {},
   "source": [
    "## Radioactivity part 2, decay dynamics\n",
    "\n",
    "In radioactive decay we can have long chains of unstable nuclei. This is common in the heavy nuclei. \n",
    "\n",
    "<p><a href=\"https://commons.wikimedia.org/wiki/File:Decay_Chain_Thorium.svg#/media/File:Decay_Chain_Thorium.svg\"><img src=\"https://upload.wikimedia.org/wikipedia/commons/thumb/2/25/Decay_Chain_Thorium.svg/1200px-Decay_Chain_Thorium.svg.png\" alt=\"Decay Chain Thorium.svg\"></a><br>By &lt;a class=\"external free\" href=\"https://commons.wikimedia.org/wiki/User:BatesIsBack\"&gt;http://commons.wikimedia.org/wiki/User:BatesIsBack&lt;/a&gt; - &lt;a class=\"external free\" href=\"https://commons.wikimedia.org/wiki/File:Decay_Chain_of_Thorium.svg\"&gt;http://commons.wikimedia.org/wiki/File:Decay_Chain_of_Thorium.svg&lt;/a&gt;, <a href=\"https://creativecommons.org/licenses/by-sa/3.0\" title=\"Creative Commons Attribution-Share Alike 3.0\">CC BY-SA 3.0</a>, <a href=\"https://commons.wikimedia.org/w/index.php?curid=16983885\">Link</a></p>"
   ]
  },
  {
   "cell_type": "markdown",
   "metadata": {},
   "source": [
    "## Series Decay Calculations\n",
    "\n",
    "In these series, calculating activities of many products gets quite complex. Let's formulate some equations for a three decay series: \n",
    "\n",
    "Each series begins with $N_1$, which is governed by a familiar equation:\n",
    "\\begin{align}\n",
    "        \\frac{dN_1}{dt} &= -\\lambda_1 N_1 \\\\\n",
    "\\end{align}\n",
    "\n",
    "The second nuclide in the series is produced by a rate of the parents decay, and is removed by its own decay\n",
    "\n",
    "\\begin{align}\n",
    "        \\frac{dN_2}{dt} &= \\mbox{+decay of parent - decay of itself}\\\\\n",
    "                        &= \\lambda_1 N_1 -\\lambda_2 N_2 \\\\\n",
    "\\end{align}\n",
    "\n",
    "The next isotope in the series is similar:\n",
    "\n",
    "\n",
    "\\begin{align}\n",
    "        \\frac{dN_3}{dt} &= \\mbox{+decay of parent - decay of itself}\\\\\n",
    "                        &= \\lambda_2 N_2 -\\lambda_3 N_3 \\\\\n",
    "\\end{align}\n",
    "\n",
    "The $i$th in the series is:\n",
    "\n",
    "\\begin{align}\n",
    "        \\frac{dN_i}{dt} &= \\mbox{+decay of parent - decay of itself}\\\\\n",
    "                        &= \\lambda_{i-1} N_{i-1} -\\lambda_i N_i \\\\\n",
    "\\end{align}\n",
    "\n",
    "### Solutions to a multi-component decay\n",
    "\n",
    "#### Nuclide 1\n",
    "\n",
    "The solution for the first nuclide in the series is something we've already solved\n",
    "\n",
    "\\begin{align}\n",
    "        N_1(t) &= N_1(0)e^{-\\lambda_1*t}\n",
    "\\end{align}\n",
    "\n",
    "#### Nuclide 2 \n",
    "\n",
    "We can use this solution in our general formulation for Nuclide 2 \n",
    "\n",
    "\\begin{align}\n",
    "        \\frac{dN_2}{dt} &= \\lambda_1 N_1 -\\lambda_2 N_2 \\\\\n",
    "                        &= \\lambda_1 N_1(0)e^{-\\lambda_1*t} - \\lambda_2 N_2 \\\\\n",
    "        \\frac{dN_2}{dt} + \\lambda_2 N_2 &= \\lambda_1 N_1(0)e^{-\\lambda_1*t}\n",
    "\\end{align}\n",
    "\n",
    "We can use the integrating factor $e^{-\\lambda_2 t}$ to solve this\n",
    "\n",
    "\\begin{align}\n",
    "e^{-\\lambda_2 t}\\frac{dN_2}{dt} + e^{-\\lambda_2 t}\\lambda_2 N_2 &= \\lambda_1 N_1(0)e^{(\\lambda_2-\\lambda_1)*t} \\\\ \n",
    "\\frac{d}{dt}\\left(N_2 e^{\\lambda_2*t}\\right) &= \\lambda_1 N_1(0)e^{(\\lambda_2-\\lambda_1)*t}\n",
    "\\end{align}\n",
    "\n",
    "We can integrate this\n",
    "\n",
    "\\begin{align}\n",
    "N_2e^{\\lambda_2t} &= \\frac{\\lambda_1}{\\lambda_2-\\lambda_1}N_1(0)e^{\\lambda_2-\\lambda_1}t + C \\\\\n",
    "C &= \\frac{\\lambda_1}{\\lambda_2-\\lambda_1}N_1(0)\n",
    "\\end{align}\n",
    "\n",
    "So $N_2$ as a function of time is: \n",
    "\\begin{align}\n",
    "N_2(t) = \\frac{\\lambda_1}{\\lambda_2-\\lambda_1}N_1(0)\\left(e^{-\\lambda_1t}-e^{-\\lambda_2t}\\right)\n",
    "\\end{align}\n",
    "\n",
    "#### Nuclide 3 \n",
    "\n",
    "\\begin{align}\n",
    "        \\frac{dN_3}{dt} &= \\lambda_2 N_2 -\\lambda_3 N_3 \\\\\n",
    "\\end{align}\n",
    "\n",
    "We use a similar process as our solution to nuclide 2. The solution is:\n",
    "\n",
    "\\begin{align}\n",
    "        N_3(t) &= \\lambda_1 \\lambda_2 N_1(0)\\left[\\frac{e^{-\\lambda_1t}}{(\\lambda_2-\\lambda_1)(\\lambda_3-\\lambda_1)}+\\frac{e^{-\\lambda_2t}}{(\\lambda_1-\\lambda_2)(\\lambda_3-\\lambda_2)}+ \\frac{e^{-\\lambda_3t}}{(\\lambda_1-\\lambda_3)(\\lambda_2-\\lambda_3)}\\right] \\\\\n",
    "\\end{align}\n",
    "\n",
    "If Nuclide 3 is *stable*, this looks like:\n",
    "\n",
    "\\begin{align}\n",
    "N_3(t) &= N_1(0)\\left(1 - \\frac{\\lambda_2}{\\lambda_2-\\lambda_1}e^{-\\lambda_1t} - \\frac{\\lambda_1}{\\lambda_1-\\lambda_2}e^{-\\lambda_2t}\\right)\n",
    "\\end{align}\n",
    "\n",
    "\n",
    "#### The batemann equations\n",
    "\n",
    "If you continue the series farther past three daughters, the solutions have a generalized form called the **batemann equations**. These are used throughout nuclear engineering, and especially in fuel cycles. "
   ]
  },
  {
   "cell_type": "markdown",
   "metadata": {},
   "source": [
    "### Transient Equilibrium $t_{p}>t_d$"
   ]
  },
  {
   "cell_type": "markdown",
   "metadata": {},
   "source": [
    "### Secular Equilibrium $t_{p}>>t_d$"
   ]
  },
  {
   "cell_type": "markdown",
   "metadata": {},
   "source": [
    "### Daughter Decays Slower than parent $t_p < t_d$"
   ]
  },
  {
   "cell_type": "markdown",
   "metadata": {},
   "source": [
    "### Daughter is Stable $t_d = 0$"
   ]
  },
  {
   "cell_type": "code",
   "execution_count": null,
   "metadata": {},
   "outputs": [],
   "source": [
    "import math\n",
    "def n_decay(t, n_initial=100, lam=0.4):\n",
    "    \"\"\"This function describes the decay of an isotope\"\"\"\n",
    "    return n_initial*math.exp(-lam*t)\n",
    "\n",
    "\n",
    "# This code plots the decay of an isotope\n",
    "import numpy as np\n",
    "y = np.arange(26.0)\n",
    "x = np.arange(26.0)\n",
    "for t in range(0,26):\n",
    "    x[t] = t\n",
    "    y[t] = n_decay(t)\n",
    "    \n",
    "# creates a figure and axes with matplotlib\n",
    "fig, ax = plt.subplots()\n",
    "scatter = plt.scatter(x, y, color='blue', s=y*20, alpha=0.4)    \n",
    "ax.plot(x, y, color='red')    \n",
    "\n",
    "# adds labels to the plot\n",
    "ax.set_ylabel('N_i(t)')\n",
    "ax.set_xlabel('Time')\n",
    "ax.set_title('N_i')\n",
    "\n",
    "# adds tooltips\n",
    "import mpld3\n",
    "labels = ['{0}% remaining'.format(i) for i in y]\n",
    "\n",
    "tooltip = mpld3.plugins.PointLabelTooltip(scatter, labels=labels)\n",
    "mpld3.plugins.connect(fig, tooltip)\n",
    "\n",
    "mpld3.display()"
   ]
  },
  {
   "cell_type": "code",
   "execution_count": null,
   "metadata": {},
   "outputs": [],
   "source": []
  }
 ],
 "metadata": {
  "kernelspec": {
   "display_name": "Python 3 (ipykernel)",
   "language": "python",
   "name": "python3"
  },
  "language_info": {
   "codemirror_mode": {
    "name": "ipython",
    "version": 3
   },
   "file_extension": ".py",
   "mimetype": "text/x-python",
   "name": "python",
   "nbconvert_exporter": "python",
   "pygments_lexer": "ipython3",
   "version": "3.9.9"
  }
 },
 "nbformat": 4,
 "nbformat_minor": 1
}

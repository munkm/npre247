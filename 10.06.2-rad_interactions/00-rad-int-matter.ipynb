{
 "cells": [
  {
   "cell_type": "code",
   "execution_count": 10,
   "metadata": {
    "collapsed": false,
    "deletable": true,
    "editable": true
   },
   "outputs": [],
   "source": [
    "%matplotlib inline\n",
    "\n",
    "import matplotlib\n",
    "import numpy as np\n",
    "import matplotlib.pyplot as plt\n",
    "\n",
    "plt.rcParams[\"font.size\"] = 18"
   ]
  },
  {
   "cell_type": "markdown",
   "metadata": {
    "deletable": true,
    "editable": true
   },
   "source": [
    "# Radiation Interatctions with Matter\n",
    "\n",
    "### Learning Objectives\n",
    "\n",
    "- Define uncollided flux\n",
    "- Define linear interaction coefficient\n",
    "- Apply linear interaction coefficients to a slab problem\n",
    "- Identify the units of intensity, flux density, fluence, reaction rate\n",
    "- Compare linear interaction coefficient and cross section\n",
    "- Calculate uncollided flux in a medium \n",
    "- Calculate mean free path of a particle in a medium\n",
    "- Define the half thickness in a medium\n",
    "- Apply the concept of buildup factor to attenuation in a slab\n",
    "- Define microscopic cross section\n",
    "- Calculate macroscopic cross sections, given a microscopic cross section\n",
    "- Calculate the mass interaction coefficients of mixtures\n",
    "- Calculate flux density\n",
    "- Calculate Reaction Rate Density\n",
    "- Recognize the dependence of flux on energy, position, and time\n",
    "- Define radiation fluence\n",
    "- Calculate uncollided flux density from isotropic point sources\n",
    "- Apply the Kelin-Nishina formula to Compton Scattering\n",
    "- Compare energy dependence of photon interaction cross sections\n",
    "- Describe energy dependence of neutron interaction cross sections\n",
    "- Recognize the comparative range of heavy vs. light particles \n",
    "- Recognize the comparative range of charged particles"
   ]
  },
  {
   "cell_type": "markdown",
   "metadata": {
    "deletable": true,
    "editable": true
   },
   "source": [
    "## Linear Interaction Coefficient\n",
    "\n",
    "- The interaction of radiation with matter is always statistical in nature, and, therefore, must be described in probabilistic terms. \n",
    "\n",
    "Consider a particle travelling through a homogeneous material.\n",
    "\n",
    "\\begin{align}\n",
    "P_i(\\Delta x) &= \\mbox{probability the particle, causes a reaction of type i in distance }\\Delta x\\\\\n",
    "\\end{align}\n",
    "\n",
    "Empirically, we find that this probability becomes constant as $\\Delta x \\longrightarrow 0$. Thus:\n",
    "\n",
    "\n",
    "\\begin{align}\n",
    "\\mu_i &= \\lim_{\\Delta x \\rightarrow 0}\\frac{P_i(\\Delta x)}{\\Delta x}\\\\\n",
    "\\end{align}\n",
    "\n",
    "Facts about $\\mu_𝑖$:\n",
    "\n",
    "- $\\mu_i$ is an *intrinsic* property of the material for a given incident particle and interaction. \n",
    "- $\\mu_i$ is independent of the path length traveled prior to the interaction. \n",
    "- $\\mu_i$ may represent many types of interaction (scattering: $\\mu_s$, absorption: $\\mu_a$, ...)\n",
    "- $\\mu_i$ typically depends on particle energy\n",
    "\n",
    "\n",
    "The probability, per unit path length, that a neutral particle undergoes some sort of reaction, is the sum of the probabilities, per unit path length of travel, for each type :\n",
    "\n",
    "\\begin{align}\n",
    "\\mu_t(E) = \\sum_i \\mu_i(E)\n",
    "\\end{align}"
   ]
  },
  {
   "cell_type": "markdown",
   "metadata": {
    "deletable": true,
    "editable": true
   },
   "source": [
    "## Think Pair Share:\n",
    "\n",
    "What are the units of the linear interaction coefficient?"
   ]
  },
  {
   "cell_type": "markdown",
   "metadata": {
    "deletable": true,
    "editable": true
   },
   "source": [
    "### Attenuation of Uncollided Flux\n",
    "\n",
    "Imagine a plane of neutral particles strike a slab of some material, normal to the surface. \n",
    "\n",
    "We can describe this using $\\mu_t$ or, equivalently, the macroscopic total cross section $\\Sigma_t$. \n",
    "\n",
    "\n",
    "\\begin{align}\n",
    "I(x) &= I_0e^{-\\mu_t x}\\\\\n",
    "I(x) &= I_0e^{-\\Sigma_t x}\\\\\n",
    "\\end{align}\n",
    "\n",
    "where\n",
    "\n",
    "\\begin{align}\n",
    "        I(x) &= \\mbox{uncollided intensity at distance x}\\\\\n",
    "        I_0 &= \\mbox{initial uncollided intensity}\\\\\n",
    "        \\mu_t &= \\mbox{total linear interaction coefficient} \\\\\n",
    "        \\Sigma_t &= \\mbox{macroscopic total cross section} \\\\\n",
    "        x &= \\mbox{distance into material [m]}\\\\\n",
    "\\end{align}\n"
   ]
  },
  {
   "cell_type": "code",
   "execution_count": 11,
   "metadata": {
    "collapsed": true,
    "deletable": true,
    "editable": true
   },
   "outputs": [],
   "source": [
    "import math\n",
    "def attenuation(distance, initial=100, sig_t=1):\n",
    "    \"\"\"This function describes neutron attenuation into the slab\"\"\"\n",
    "    return initial*math.exp(-sig_t*distance)\n"
   ]
  },
  {
   "cell_type": "markdown",
   "metadata": {
    "deletable": true,
    "editable": true
   },
   "source": [
    "Rather than intensity, one can find the probability density:\n",
    "\n",
    "We have a strong analogy between decay and attenuation, as above. In the case of decay the probability of decay in a time interval dt is:\n",
    "\n",
    "\\begin{align}\n",
    "P(t)dt &= \\lambda e^{-\\lambda t}dt\\\\\n",
    " &= \\mbox{probability of decay in interval dt}\n",
    "\\end{align}\n",
    "\n",
    "From this, one can find the mean lifetime of a neutron before decay:\n",
    "\n",
    "\\begin{align}\n",
    "\\bar{t} &= \\int_0^\\infty t'P(t')dt'\\\\\n",
    "        &= \\int_0^\\infty t'\\lambda e^{-\\lambda t'}dt'\\\\        \n",
    "        &= \\frac{1}{\\lambda}\n",
    "\\end{align}\n",
    "\n",
    "In the case of attenuation:\n",
    "\\begin{align}\n",
    "P(x)dx &= \\Sigma_te^{-\\Sigma_tx}dx\n",
    "\\end{align}\n",
    "\n",
    "Such that: \n",
    "\n",
    "\\begin{align}\n",
    "P(x)dx &= \\mu_t e^{-\\mu_t x}dx\\\\\n",
    " &= \\Sigma_t e^{-\\Sigma_t x}dx\\\\\n",
    " &= \\mbox{probability of interaction in interval dx}\n",
    "\\end{align}\n",
    "\n",
    "\n",
    "So, the mean free path is:\n",
    "\n",
    "\\begin{align}\n",
    "\\bar{l} &= \\int_0^\\infty x'P(x')dx'\\\\\n",
    "        &= \\int_0^\\infty x'\\Sigma_te^{-\\Sigma_t x'}dx'\\\\        \n",
    "        &= \\frac{1}{\\Sigma_t}\n",
    "\\end{align}\n",
    "\n",
    "\n",
    "Or, equivalently in $\\mu_t$ notation:\n",
    "\n",
    "\\begin{align}\n",
    "\\bar{x} &= \\int_0^\\infty x'P(x')dx'\\\\\n",
    "        &= \\int_0^\\infty x'\\mu_te^{-\\mu_t x'}dx'\\\\        \n",
    "        &= \\frac{1}{\\mu_t}\n",
    "\\end{align}\n"
   ]
  },
  {
   "cell_type": "code",
   "execution_count": 12,
   "metadata": {
    "collapsed": true,
    "deletable": true,
    "editable": true
   },
   "outputs": [],
   "source": [
    "def prob_dens(distance, initial=100, sig_t=1):\n",
    "    return sig_t*attenuation(distance, initial=100, sig_t=1)\n"
   ]
  },
  {
   "cell_type": "code",
   "execution_count": 13,
   "metadata": {
    "collapsed": false,
    "deletable": true,
    "editable": true
   },
   "outputs": [
    {
     "data": {
      "text/html": [
       "\n",
       "\n",
       "<style>\n",
       "\n",
       "</style>\n",
       "\n",
       "<div id=\"fig_el110744994849125629229592\"></div>\n",
       "<script>\n",
       "function mpld3_load_lib(url, callback){\n",
       "  var s = document.createElement('script');\n",
       "  s.src = url;\n",
       "  s.async = true;\n",
       "  s.onreadystatechange = s.onload = callback;\n",
       "  s.onerror = function(){console.warn(\"failed to load library \" + url);};\n",
       "  document.getElementsByTagName(\"head\")[0].appendChild(s);\n",
       "}\n",
       "\n",
       "if(typeof(mpld3) !== \"undefined\" && mpld3._mpld3IsLoaded){\n",
       "   // already loaded: just create the figure\n",
       "   !function(mpld3){\n",
       "       \n",
       "       mpld3.draw_figure(\"fig_el110744994849125629229592\", {\"width\": 480.0, \"id\": \"el11074499484912\", \"data\": {\"data01\": [[0.0, 100.0, 20.0], [1.0, 81.0, 7.0], [2.0, 67.0, 2.0], [3.0, 54.0, 0.0], [4.0, 44.0, 0.0], [5.0, 36.0, 0.0], [6.0, 30.0, 0.0], [7.0, 24.0, 0.0], [8.0, 20.0, 0.0], [9.0, 16.0, 0.0], [10.0, 13.0, 0.0], [11.0, 11.0, 0.0], [12.0, 9.0, 0.0], [13.0, 7.0, 0.0], [14.0, 6.0, 0.0], [15.0, 4.0, 0.0], [16.0, 4.0, 0.0], [17.0, 3.0, 0.0], [18.0, 2.0, 0.0], [19.0, 2.0, 0.0], [20.0, 1.0, 0.0], [21.0, 1.0, 0.0], [22.0, 1.0, 0.0], [23.0, 1.0, 0.0]]}, \"height\": 320.0, \"axes\": [{\"axesbg\": \"#FFFFFF\", \"id\": \"el11074499388176\", \"xscale\": \"linear\", \"sharex\": [], \"lines\": [{\"alpha\": 1, \"id\": \"el11074533435640\", \"data\": \"data01\", \"linewidth\": 1.0, \"zorder\": 2, \"yindex\": 1, \"color\": \"#FF0000\", \"dasharray\": \"10,0\", \"xindex\": 0, \"coordinates\": \"data\"}, {\"alpha\": 1, \"id\": \"el11074533435584\", \"data\": \"data01\", \"linewidth\": 1.0, \"zorder\": 2, \"yindex\": 2, \"color\": \"#008000\", \"dasharray\": \"10,0\", \"xindex\": 0, \"coordinates\": \"data\"}], \"zoomable\": true, \"sharey\": [], \"texts\": [{\"id\": \"el11074499488552\", \"zorder\": 3, \"rotation\": -0.0, \"fontsize\": 18.0, \"text\": \"Distance into slab\", \"color\": \"#000000\", \"h_anchor\": \"middle\", \"alpha\": 1, \"v_baseline\": \"hanging\", \"position\": [0.5, -0.11693548387096772], \"coordinates\": \"axes\"}, {\"id\": \"el11074499592752\", \"zorder\": 3, \"rotation\": -90.0, \"fontsize\": 18.0, \"text\": \"Percent of Neutrons\", \"color\": \"#000000\", \"h_anchor\": \"middle\", \"alpha\": 1, \"v_baseline\": \"auto\", \"position\": [-0.14045698924731184, 0.5], \"coordinates\": \"axes\"}, {\"id\": \"el11074533266920\", \"zorder\": 3, \"rotation\": -0.0, \"fontsize\": 21.599999999999998, \"text\": \"Attenuation\", \"color\": \"#000000\", \"h_anchor\": \"middle\", \"alpha\": 1, \"v_baseline\": \"auto\", \"position\": [0.5, 1.0224014336917562], \"coordinates\": \"axes\"}], \"ydomain\": [-20.0, 120.0], \"images\": [], \"axes\": [{\"scale\": \"linear\", \"grid\": {\"gridOn\": false}, \"tickvalues\": null, \"fontsize\": 18.0, \"nticks\": 7, \"position\": \"bottom\", \"tickformat\": null}, {\"scale\": \"linear\", \"grid\": {\"gridOn\": false}, \"tickvalues\": null, \"fontsize\": 18.0, \"nticks\": 8, \"position\": \"left\", \"tickformat\": null}], \"xlim\": [-5.0, 25.0], \"paths\": [], \"bbox\": [0.125, 0.125, 0.775, 0.775], \"markers\": [], \"xdomain\": [-5.0, 25.0], \"ylim\": [-20.0, 120.0], \"axesbgalpha\": null, \"collections\": [{\"offsetcoordinates\": \"data\", \"zorder\": 1, \"yindex\": 1, \"paths\": [[[[0.0, -0.5], [0.13260155, -0.5], [0.25978993539242673, -0.44731684579412084], [0.3535533905932738, -0.3535533905932738], [0.44731684579412084, -0.25978993539242673], [0.5, -0.13260155], [0.5, 0.0], [0.5, 0.13260155], [0.44731684579412084, 0.25978993539242673], [0.3535533905932738, 0.3535533905932738], [0.25978993539242673, 0.44731684579412084], [0.13260155, 0.5], [0.0, 0.5], [-0.13260155, 0.5], [-0.25978993539242673, 0.44731684579412084], [-0.3535533905932738, 0.3535533905932738], [-0.44731684579412084, 0.25978993539242673], [-0.5, 0.13260155], [-0.5, 0.0], [-0.5, -0.13260155], [-0.44731684579412084, -0.25978993539242673], [-0.3535533905932738, -0.3535533905932738], [-0.25978993539242673, -0.44731684579412084], [-0.13260155, -0.5], [0.0, -0.5]], [\"M\", \"C\", \"C\", \"C\", \"C\", \"C\", \"C\", \"C\", \"C\", \"Z\"]]], \"edgecolors\": [\"#0000FF\"], \"xindex\": 0, \"alphas\": [0.4], \"facecolors\": [\"#0000FF\"], \"id\": \"el11074499485080\", \"pathcoordinates\": \"display\", \"offsets\": \"data01\", \"edgewidths\": [1.0], \"pathtransforms\": [[49.69039949999532, 0.0, 0.0, 49.69039949999532, 0.0, 0.0], [44.721359549995796, 0.0, 0.0, 44.721359549995796, 0.0, 0.0], [40.673344928273615, 0.0, 0.0, 40.673344928273615, 0.0, 0.0], [36.51483716701107, 0.0, 0.0, 36.51483716701107, 0.0, 0.0], [32.960882164869616, 0.0, 0.0, 32.960882164869616, 0.0, 0.0], [29.814239699997202, 0.0, 0.0, 29.814239699997202, 0.0, 0.0], [27.216552697590867, 0.0, 0.0, 27.216552697590867, 0.0, 0.0], [24.343224778007382, 0.0, 0.0, 24.343224778007382, 0.0, 0.0], [22.22222222222222, 0.0, 0.0, 22.22222222222222, 0.0, 0.0], [19.87615979999813, 0.0, 0.0, 19.87615979999813, 0.0, 0.0], [17.916128329552333, 0.0, 0.0, 17.916128329552333, 0.0, 0.0], [16.480441082434808, 0.0, 0.0, 16.480441082434808, 0.0, 0.0], [14.907119849998601, 0.0, 0.0, 14.907119849998601, 0.0, 0.0], [13.14684396244359, 0.0, 0.0, 13.14684396244359, 0.0, 0.0], [12.171612389003691, 0.0, 0.0, 12.171612389003691, 0.0, 0.0], [9.938079899999066, 0.0, 0.0, 9.938079899999066, 0.0, 0.0], [9.938079899999066, 0.0, 0.0, 9.938079899999066, 0.0, 0.0], [8.606629658238704, 0.0, 0.0, 8.606629658238704, 0.0, 0.0], [7.027283689263066, 0.0, 0.0, 7.027283689263066, 0.0, 0.0], [7.027283689263066, 0.0, 0.0, 7.027283689263066, 0.0, 0.0], [4.969039949999533, 0.0, 0.0, 4.969039949999533, 0.0, 0.0], [4.969039949999533, 0.0, 0.0, 4.969039949999533, 0.0, 0.0], [4.969039949999533, 0.0, 0.0, 4.969039949999533, 0.0, 0.0], [4.969039949999533, 0.0, 0.0, 4.969039949999533, 0.0, 0.0]]}], \"yscale\": \"linear\"}], \"plugins\": [{\"type\": \"reset\"}, {\"type\": \"zoom\", \"button\": true, \"enabled\": false}, {\"type\": \"boxzoom\", \"button\": true, \"enabled\": false}, {\"type\": \"tooltip\", \"id\": \"el11074499485080\", \"hoffset\": 0, \"labels\": [\"100% intensity\", \"81% intensity\", \"67% intensity\", \"54% intensity\", \"44% intensity\", \"36% intensity\", \"30% intensity\", \"24% intensity\", \"20% intensity\", \"16% intensity\", \"13% intensity\", \"11% intensity\", \"9% intensity\", \"7% intensity\", \"6% intensity\", \"4% intensity\", \"4% intensity\", \"3% intensity\", \"2% intensity\", \"2% intensity\", \"1% intensity\", \"1% intensity\", \"1% intensity\", \"1% intensity\"], \"location\": \"mouse\", \"voffset\": 10}]});\n",
       "   }(mpld3);\n",
       "}else if(typeof define === \"function\" && define.amd){\n",
       "   // require.js is available: use it to load d3/mpld3\n",
       "   require.config({paths: {d3: \"https://mpld3.github.io/js/d3.v3.min\"}});\n",
       "   require([\"d3\"], function(d3){\n",
       "      window.d3 = d3;\n",
       "      mpld3_load_lib(\"https://mpld3.github.io/js/mpld3.v0.2.js\", function(){\n",
       "         \n",
       "         mpld3.draw_figure(\"fig_el110744994849125629229592\", {\"width\": 480.0, \"id\": \"el11074499484912\", \"data\": {\"data01\": [[0.0, 100.0, 20.0], [1.0, 81.0, 7.0], [2.0, 67.0, 2.0], [3.0, 54.0, 0.0], [4.0, 44.0, 0.0], [5.0, 36.0, 0.0], [6.0, 30.0, 0.0], [7.0, 24.0, 0.0], [8.0, 20.0, 0.0], [9.0, 16.0, 0.0], [10.0, 13.0, 0.0], [11.0, 11.0, 0.0], [12.0, 9.0, 0.0], [13.0, 7.0, 0.0], [14.0, 6.0, 0.0], [15.0, 4.0, 0.0], [16.0, 4.0, 0.0], [17.0, 3.0, 0.0], [18.0, 2.0, 0.0], [19.0, 2.0, 0.0], [20.0, 1.0, 0.0], [21.0, 1.0, 0.0], [22.0, 1.0, 0.0], [23.0, 1.0, 0.0]]}, \"height\": 320.0, \"axes\": [{\"axesbg\": \"#FFFFFF\", \"id\": \"el11074499388176\", \"xscale\": \"linear\", \"sharex\": [], \"lines\": [{\"alpha\": 1, \"id\": \"el11074533435640\", \"data\": \"data01\", \"linewidth\": 1.0, \"zorder\": 2, \"yindex\": 1, \"color\": \"#FF0000\", \"dasharray\": \"10,0\", \"xindex\": 0, \"coordinates\": \"data\"}, {\"alpha\": 1, \"id\": \"el11074533435584\", \"data\": \"data01\", \"linewidth\": 1.0, \"zorder\": 2, \"yindex\": 2, \"color\": \"#008000\", \"dasharray\": \"10,0\", \"xindex\": 0, \"coordinates\": \"data\"}], \"zoomable\": true, \"sharey\": [], \"texts\": [{\"id\": \"el11074499488552\", \"zorder\": 3, \"rotation\": -0.0, \"fontsize\": 18.0, \"text\": \"Distance into slab\", \"color\": \"#000000\", \"h_anchor\": \"middle\", \"alpha\": 1, \"v_baseline\": \"hanging\", \"position\": [0.5, -0.11693548387096772], \"coordinates\": \"axes\"}, {\"id\": \"el11074499592752\", \"zorder\": 3, \"rotation\": -90.0, \"fontsize\": 18.0, \"text\": \"Percent of Neutrons\", \"color\": \"#000000\", \"h_anchor\": \"middle\", \"alpha\": 1, \"v_baseline\": \"auto\", \"position\": [-0.14045698924731184, 0.5], \"coordinates\": \"axes\"}, {\"id\": \"el11074533266920\", \"zorder\": 3, \"rotation\": -0.0, \"fontsize\": 21.599999999999998, \"text\": \"Attenuation\", \"color\": \"#000000\", \"h_anchor\": \"middle\", \"alpha\": 1, \"v_baseline\": \"auto\", \"position\": [0.5, 1.0224014336917562], \"coordinates\": \"axes\"}], \"ydomain\": [-20.0, 120.0], \"images\": [], \"axes\": [{\"scale\": \"linear\", \"grid\": {\"gridOn\": false}, \"tickvalues\": null, \"fontsize\": 18.0, \"nticks\": 7, \"position\": \"bottom\", \"tickformat\": null}, {\"scale\": \"linear\", \"grid\": {\"gridOn\": false}, \"tickvalues\": null, \"fontsize\": 18.0, \"nticks\": 8, \"position\": \"left\", \"tickformat\": null}], \"xlim\": [-5.0, 25.0], \"paths\": [], \"bbox\": [0.125, 0.125, 0.775, 0.775], \"markers\": [], \"xdomain\": [-5.0, 25.0], \"ylim\": [-20.0, 120.0], \"axesbgalpha\": null, \"collections\": [{\"offsetcoordinates\": \"data\", \"zorder\": 1, \"yindex\": 1, \"paths\": [[[[0.0, -0.5], [0.13260155, -0.5], [0.25978993539242673, -0.44731684579412084], [0.3535533905932738, -0.3535533905932738], [0.44731684579412084, -0.25978993539242673], [0.5, -0.13260155], [0.5, 0.0], [0.5, 0.13260155], [0.44731684579412084, 0.25978993539242673], [0.3535533905932738, 0.3535533905932738], [0.25978993539242673, 0.44731684579412084], [0.13260155, 0.5], [0.0, 0.5], [-0.13260155, 0.5], [-0.25978993539242673, 0.44731684579412084], [-0.3535533905932738, 0.3535533905932738], [-0.44731684579412084, 0.25978993539242673], [-0.5, 0.13260155], [-0.5, 0.0], [-0.5, -0.13260155], [-0.44731684579412084, -0.25978993539242673], [-0.3535533905932738, -0.3535533905932738], [-0.25978993539242673, -0.44731684579412084], [-0.13260155, -0.5], [0.0, -0.5]], [\"M\", \"C\", \"C\", \"C\", \"C\", \"C\", \"C\", \"C\", \"C\", \"Z\"]]], \"edgecolors\": [\"#0000FF\"], \"xindex\": 0, \"alphas\": [0.4], \"facecolors\": [\"#0000FF\"], \"id\": \"el11074499485080\", \"pathcoordinates\": \"display\", \"offsets\": \"data01\", \"edgewidths\": [1.0], \"pathtransforms\": [[49.69039949999532, 0.0, 0.0, 49.69039949999532, 0.0, 0.0], [44.721359549995796, 0.0, 0.0, 44.721359549995796, 0.0, 0.0], [40.673344928273615, 0.0, 0.0, 40.673344928273615, 0.0, 0.0], [36.51483716701107, 0.0, 0.0, 36.51483716701107, 0.0, 0.0], [32.960882164869616, 0.0, 0.0, 32.960882164869616, 0.0, 0.0], [29.814239699997202, 0.0, 0.0, 29.814239699997202, 0.0, 0.0], [27.216552697590867, 0.0, 0.0, 27.216552697590867, 0.0, 0.0], [24.343224778007382, 0.0, 0.0, 24.343224778007382, 0.0, 0.0], [22.22222222222222, 0.0, 0.0, 22.22222222222222, 0.0, 0.0], [19.87615979999813, 0.0, 0.0, 19.87615979999813, 0.0, 0.0], [17.916128329552333, 0.0, 0.0, 17.916128329552333, 0.0, 0.0], [16.480441082434808, 0.0, 0.0, 16.480441082434808, 0.0, 0.0], [14.907119849998601, 0.0, 0.0, 14.907119849998601, 0.0, 0.0], [13.14684396244359, 0.0, 0.0, 13.14684396244359, 0.0, 0.0], [12.171612389003691, 0.0, 0.0, 12.171612389003691, 0.0, 0.0], [9.938079899999066, 0.0, 0.0, 9.938079899999066, 0.0, 0.0], [9.938079899999066, 0.0, 0.0, 9.938079899999066, 0.0, 0.0], [8.606629658238704, 0.0, 0.0, 8.606629658238704, 0.0, 0.0], [7.027283689263066, 0.0, 0.0, 7.027283689263066, 0.0, 0.0], [7.027283689263066, 0.0, 0.0, 7.027283689263066, 0.0, 0.0], [4.969039949999533, 0.0, 0.0, 4.969039949999533, 0.0, 0.0], [4.969039949999533, 0.0, 0.0, 4.969039949999533, 0.0, 0.0], [4.969039949999533, 0.0, 0.0, 4.969039949999533, 0.0, 0.0], [4.969039949999533, 0.0, 0.0, 4.969039949999533, 0.0, 0.0]]}], \"yscale\": \"linear\"}], \"plugins\": [{\"type\": \"reset\"}, {\"type\": \"zoom\", \"button\": true, \"enabled\": false}, {\"type\": \"boxzoom\", \"button\": true, \"enabled\": false}, {\"type\": \"tooltip\", \"id\": \"el11074499485080\", \"hoffset\": 0, \"labels\": [\"100% intensity\", \"81% intensity\", \"67% intensity\", \"54% intensity\", \"44% intensity\", \"36% intensity\", \"30% intensity\", \"24% intensity\", \"20% intensity\", \"16% intensity\", \"13% intensity\", \"11% intensity\", \"9% intensity\", \"7% intensity\", \"6% intensity\", \"4% intensity\", \"4% intensity\", \"3% intensity\", \"2% intensity\", \"2% intensity\", \"1% intensity\", \"1% intensity\", \"1% intensity\", \"1% intensity\"], \"location\": \"mouse\", \"voffset\": 10}]});\n",
       "      });\n",
       "    });\n",
       "}else{\n",
       "    // require.js not available: dynamically load d3 & mpld3\n",
       "    mpld3_load_lib(\"https://mpld3.github.io/js/d3.v3.min.js\", function(){\n",
       "         mpld3_load_lib(\"https://mpld3.github.io/js/mpld3.v0.2.js\", function(){\n",
       "                 \n",
       "                 mpld3.draw_figure(\"fig_el110744994849125629229592\", {\"width\": 480.0, \"id\": \"el11074499484912\", \"data\": {\"data01\": [[0.0, 100.0, 20.0], [1.0, 81.0, 7.0], [2.0, 67.0, 2.0], [3.0, 54.0, 0.0], [4.0, 44.0, 0.0], [5.0, 36.0, 0.0], [6.0, 30.0, 0.0], [7.0, 24.0, 0.0], [8.0, 20.0, 0.0], [9.0, 16.0, 0.0], [10.0, 13.0, 0.0], [11.0, 11.0, 0.0], [12.0, 9.0, 0.0], [13.0, 7.0, 0.0], [14.0, 6.0, 0.0], [15.0, 4.0, 0.0], [16.0, 4.0, 0.0], [17.0, 3.0, 0.0], [18.0, 2.0, 0.0], [19.0, 2.0, 0.0], [20.0, 1.0, 0.0], [21.0, 1.0, 0.0], [22.0, 1.0, 0.0], [23.0, 1.0, 0.0]]}, \"height\": 320.0, \"axes\": [{\"axesbg\": \"#FFFFFF\", \"id\": \"el11074499388176\", \"xscale\": \"linear\", \"sharex\": [], \"lines\": [{\"alpha\": 1, \"id\": \"el11074533435640\", \"data\": \"data01\", \"linewidth\": 1.0, \"zorder\": 2, \"yindex\": 1, \"color\": \"#FF0000\", \"dasharray\": \"10,0\", \"xindex\": 0, \"coordinates\": \"data\"}, {\"alpha\": 1, \"id\": \"el11074533435584\", \"data\": \"data01\", \"linewidth\": 1.0, \"zorder\": 2, \"yindex\": 2, \"color\": \"#008000\", \"dasharray\": \"10,0\", \"xindex\": 0, \"coordinates\": \"data\"}], \"zoomable\": true, \"sharey\": [], \"texts\": [{\"id\": \"el11074499488552\", \"zorder\": 3, \"rotation\": -0.0, \"fontsize\": 18.0, \"text\": \"Distance into slab\", \"color\": \"#000000\", \"h_anchor\": \"middle\", \"alpha\": 1, \"v_baseline\": \"hanging\", \"position\": [0.5, -0.11693548387096772], \"coordinates\": \"axes\"}, {\"id\": \"el11074499592752\", \"zorder\": 3, \"rotation\": -90.0, \"fontsize\": 18.0, \"text\": \"Percent of Neutrons\", \"color\": \"#000000\", \"h_anchor\": \"middle\", \"alpha\": 1, \"v_baseline\": \"auto\", \"position\": [-0.14045698924731184, 0.5], \"coordinates\": \"axes\"}, {\"id\": \"el11074533266920\", \"zorder\": 3, \"rotation\": -0.0, \"fontsize\": 21.599999999999998, \"text\": \"Attenuation\", \"color\": \"#000000\", \"h_anchor\": \"middle\", \"alpha\": 1, \"v_baseline\": \"auto\", \"position\": [0.5, 1.0224014336917562], \"coordinates\": \"axes\"}], \"ydomain\": [-20.0, 120.0], \"images\": [], \"axes\": [{\"scale\": \"linear\", \"grid\": {\"gridOn\": false}, \"tickvalues\": null, \"fontsize\": 18.0, \"nticks\": 7, \"position\": \"bottom\", \"tickformat\": null}, {\"scale\": \"linear\", \"grid\": {\"gridOn\": false}, \"tickvalues\": null, \"fontsize\": 18.0, \"nticks\": 8, \"position\": \"left\", \"tickformat\": null}], \"xlim\": [-5.0, 25.0], \"paths\": [], \"bbox\": [0.125, 0.125, 0.775, 0.775], \"markers\": [], \"xdomain\": [-5.0, 25.0], \"ylim\": [-20.0, 120.0], \"axesbgalpha\": null, \"collections\": [{\"offsetcoordinates\": \"data\", \"zorder\": 1, \"yindex\": 1, \"paths\": [[[[0.0, -0.5], [0.13260155, -0.5], [0.25978993539242673, -0.44731684579412084], [0.3535533905932738, -0.3535533905932738], [0.44731684579412084, -0.25978993539242673], [0.5, -0.13260155], [0.5, 0.0], [0.5, 0.13260155], [0.44731684579412084, 0.25978993539242673], [0.3535533905932738, 0.3535533905932738], [0.25978993539242673, 0.44731684579412084], [0.13260155, 0.5], [0.0, 0.5], [-0.13260155, 0.5], [-0.25978993539242673, 0.44731684579412084], [-0.3535533905932738, 0.3535533905932738], [-0.44731684579412084, 0.25978993539242673], [-0.5, 0.13260155], [-0.5, 0.0], [-0.5, -0.13260155], [-0.44731684579412084, -0.25978993539242673], [-0.3535533905932738, -0.3535533905932738], [-0.25978993539242673, -0.44731684579412084], [-0.13260155, -0.5], [0.0, -0.5]], [\"M\", \"C\", \"C\", \"C\", \"C\", \"C\", \"C\", \"C\", \"C\", \"Z\"]]], \"edgecolors\": [\"#0000FF\"], \"xindex\": 0, \"alphas\": [0.4], \"facecolors\": [\"#0000FF\"], \"id\": \"el11074499485080\", \"pathcoordinates\": \"display\", \"offsets\": \"data01\", \"edgewidths\": [1.0], \"pathtransforms\": [[49.69039949999532, 0.0, 0.0, 49.69039949999532, 0.0, 0.0], [44.721359549995796, 0.0, 0.0, 44.721359549995796, 0.0, 0.0], [40.673344928273615, 0.0, 0.0, 40.673344928273615, 0.0, 0.0], [36.51483716701107, 0.0, 0.0, 36.51483716701107, 0.0, 0.0], [32.960882164869616, 0.0, 0.0, 32.960882164869616, 0.0, 0.0], [29.814239699997202, 0.0, 0.0, 29.814239699997202, 0.0, 0.0], [27.216552697590867, 0.0, 0.0, 27.216552697590867, 0.0, 0.0], [24.343224778007382, 0.0, 0.0, 24.343224778007382, 0.0, 0.0], [22.22222222222222, 0.0, 0.0, 22.22222222222222, 0.0, 0.0], [19.87615979999813, 0.0, 0.0, 19.87615979999813, 0.0, 0.0], [17.916128329552333, 0.0, 0.0, 17.916128329552333, 0.0, 0.0], [16.480441082434808, 0.0, 0.0, 16.480441082434808, 0.0, 0.0], [14.907119849998601, 0.0, 0.0, 14.907119849998601, 0.0, 0.0], [13.14684396244359, 0.0, 0.0, 13.14684396244359, 0.0, 0.0], [12.171612389003691, 0.0, 0.0, 12.171612389003691, 0.0, 0.0], [9.938079899999066, 0.0, 0.0, 9.938079899999066, 0.0, 0.0], [9.938079899999066, 0.0, 0.0, 9.938079899999066, 0.0, 0.0], [8.606629658238704, 0.0, 0.0, 8.606629658238704, 0.0, 0.0], [7.027283689263066, 0.0, 0.0, 7.027283689263066, 0.0, 0.0], [7.027283689263066, 0.0, 0.0, 7.027283689263066, 0.0, 0.0], [4.969039949999533, 0.0, 0.0, 4.969039949999533, 0.0, 0.0], [4.969039949999533, 0.0, 0.0, 4.969039949999533, 0.0, 0.0], [4.969039949999533, 0.0, 0.0, 4.969039949999533, 0.0, 0.0], [4.969039949999533, 0.0, 0.0, 4.969039949999533, 0.0, 0.0]]}], \"yscale\": \"linear\"}], \"plugins\": [{\"type\": \"reset\"}, {\"type\": \"zoom\", \"button\": true, \"enabled\": false}, {\"type\": \"boxzoom\", \"button\": true, \"enabled\": false}, {\"type\": \"tooltip\", \"id\": \"el11074499485080\", \"hoffset\": 0, \"labels\": [\"100% intensity\", \"81% intensity\", \"67% intensity\", \"54% intensity\", \"44% intensity\", \"36% intensity\", \"30% intensity\", \"24% intensity\", \"20% intensity\", \"16% intensity\", \"13% intensity\", \"11% intensity\", \"9% intensity\", \"7% intensity\", \"6% intensity\", \"4% intensity\", \"4% intensity\", \"3% intensity\", \"2% intensity\", \"2% intensity\", \"1% intensity\", \"1% intensity\", \"1% intensity\", \"1% intensity\"], \"location\": \"mouse\", \"voffset\": 10}]});\n",
       "            })\n",
       "         });\n",
       "}\n",
       "</script>"
      ],
      "text/plain": [
       "<IPython.core.display.HTML object>"
      ]
     },
     "execution_count": 13,
     "metadata": {},
     "output_type": "execute_result"
    }
   ],
   "source": [
    "sig_t = 0.2\n",
    "i_0 = 100\n",
    "\n",
    "# This code plots attenuation\n",
    "import numpy as np\n",
    "z = np.arange(24)\n",
    "y = np.arange(24)\n",
    "x = np.arange(24)\n",
    "for h in range(0,24):\n",
    "    x[h] = h\n",
    "    y[h] = attenuation(h, initial=i_0, sig_t=sig_t)\n",
    "    z[h] = prob_dens(h, initial=i_0, sig_t=sig_t)\n",
    "\n",
    "# creates a figure and axes with matplotlib\n",
    "fig, ax = plt.subplots()\n",
    "scatter = plt.scatter(x, y, color='blue', s=y*20, alpha=0.4)    \n",
    "ax.plot(x, y, color='red')  \n",
    "ax.plot(x, z, color='green')    \n",
    "\n",
    "\n",
    "# adds labels to the plot\n",
    "ax.set_ylabel('Percent of Neutrons')\n",
    "ax.set_xlabel('Distance into slab')\n",
    "ax.set_title('Attenuation')\n",
    "\n",
    "# adds tooltips\n",
    "import mpld3\n",
    "labels = ['{0}% intensity'.format(i) for i in y]\n",
    "tooltip = mpld3.plugins.PointLabelTooltip(scatter, labels=labels)\n",
    "mpld3.plugins.connect(fig, tooltip)\n",
    "\n",
    "mpld3.display()"
   ]
  },
  {
   "cell_type": "markdown",
   "metadata": {
    "deletable": true,
    "editable": true
   },
   "source": [
    "## Half-thickness\n",
    "\n",
    "In another analog to decay, the **half-thickness** of a material is the distance required for half of the incident radiation to interact with a medium:\n",
    "\n",
    "\\begin{align}\n",
    "\\frac{I(x_{1/2})}{I(0)} &= e^{-\\mu_t x_{1/2}}\\\\\n",
    "\\implies x_{1/2} &= \\frac{\\ln{2}}{\\mu_t}\n",
    "\\end{align}\n",
    "\n",
    "## Think pair share: \n",
    "What is the concept in the context of decay that is analogous to the half-thickness?\n"
   ]
  },
  {
   "cell_type": "markdown",
   "metadata": {
    "deletable": true,
    "editable": true
   },
   "source": [
    "## Microscopic Cross Sections\n",
    "\n",
    "- The microscopic cross section $\\sigma_i$ is  the likelihood of the event per unit area. \n",
    "- The macroscopic cross section $\\Sigma_i$ is  the likelihood of the event per unit area of a certain density of target isotopes.\n",
    "- The macroscopid cross section $\\Sigma_i$ is equivalent to the linear interaction coefficient $\\mu_i$, but we tend to use $\\Sigma_i$ in nuclear interactions, reserving $\\mu_i$ for photon interactions.\n",
    "\n",
    "\\begin{align}\n",
    "\\mu_i &= \\mbox{linear interaction coefficient}\\\\\n",
    "\\Sigma_i &= \\mbox{macroscopic cross section}\\\\\\\\\n",
    " &= \\sigma_i N\\\\\n",
    " &= \\sigma_i \\frac{\\rho N_a}{A}\\\\\n",
    " \\mbox{where }& \\\\\n",
    " N &= \\mbox{atom density of medium}\\\\\n",
    " \\rho &= \\mbox{mass density of the medium}\\\\\n",
    " N_a &= \\mbox{Avogadro's number}\\\\\n",
    " A &= \\mbox{atomic weight of the medium}\n",
    "\\end{align}\n"
   ]
  },
  {
   "cell_type": "code",
   "execution_count": 14,
   "metadata": {
    "collapsed": true,
    "deletable": true,
    "editable": true
   },
   "outputs": [],
   "source": [
    "def macroscopic_xs(micro, N):\n",
    "    \"\"\"Returns the macroscopic cross section [cm^2] or [barns]\n",
    "        \n",
    "    Parameters\n",
    "    ----------\n",
    "    micro: double\n",
    "        microscopic cross section [cm^2] or [barns]\n",
    "    N: double\n",
    "        atom density in the medium [atoms/cm^3]\n",
    "    \"\"\"\n",
    "    return micro*N"
   ]
  },
  {
   "cell_type": "code",
   "execution_count": 15,
   "metadata": {
    "collapsed": true,
    "deletable": true,
    "editable": true
   },
   "outputs": [],
   "source": [
    "def NA():\n",
    "    \"\"\"Returns Avogadro's number \n",
    "    6.022x10^23 atoms per mole\n",
    "    \"\"\"\n",
    "    return 6.022E23\n",
    "\n",
    "def num_dens_from_rho(rho, na, a):\n",
    "    \"\"\"The atomic number density. \n",
    "    That is, the concentration of atoms or molecules per unit volume (V)\n",
    "    \n",
    "    Parameters\n",
    "    -----------\n",
    "    rho : double\n",
    "        material density (in units like g/cm^3 or kg/m^3) of the sample\n",
    "    na : double\n",
    "        Avogadro's number\n",
    "    a : double\n",
    "        The atomic or molecular weight of the atom or molecule of interest \n",
    "    \"\"\"\n",
    "    return rho*na/a"
   ]
  },
  {
   "cell_type": "markdown",
   "metadata": {
    "deletable": true,
    "editable": true
   },
   "source": [
    "## Example: \n",
    "Imagine a beam of neutrons striking a body of water, $H_2O$. Many will be absorbed by the hydrogen in the water, particularly $^1H$. "
   ]
  },
  {
   "cell_type": "code",
   "execution_count": 16,
   "metadata": {
    "collapsed": false,
    "deletable": true,
    "editable": true
   },
   "outputs": [
    {
     "name": "stdout",
     "output_type": "stream",
     "text": [
      "n_h2o [1/cm^3] =  3.342714248444378e+22\n",
      "n_h2o [10^(24)/cm^3] =  0.033427142484443784\n",
      "absorption in water from 1H =  0.02226247689463956\n"
     ]
    }
   ],
   "source": [
    "# Find the macroscpic absorption cross section \n",
    "# of the 1H in H2O\n",
    "sig_1h = 0.333 # barns\n",
    "\n",
    "# First, molecular density of water\n",
    "rho_h2o = 1 # g/cm^3\n",
    "a_h2o = 18.0153 # g/mol\n",
    "n_h2o = num_dens_from_rho(rho_h2o, NA(), a_h2o) # molecules water / cm^3\n",
    "n_h2o_barn = n_h2o/10**(24) # 10^24 molecules water / cm^3\n",
    "print('n_h2o [1/cm^3] = ', n_h2o)\n",
    "print('n_h2o [10^(24)/cm^3] = ', n_h2o_barn)\n",
    "\n",
    "# Now, there are two Hydrogens in each molecule of water, so:\n",
    "macroscopic_h1 = macroscopic_xs(sig_1h, 2*n_h2o_barn)\n",
    "print('absorption in water from 1H = ', macroscopic_h1)"
   ]
  },
  {
   "cell_type": "markdown",
   "metadata": {
    "deletable": true,
    "editable": true
   },
   "source": [
    "### Mixtures\n",
    "In a medium that is a mixture of isotopes (e.g. $H_2O$), we can calculate the total macroscopic cross section based on individual microscopic cross sections and number densities for each component of the mixture. We may need to include information about relative isotopic abundances (f).\n",
    "\n",
    "For the same problem as above (neutrons striking a body of water) we can calculate the absorption by *all* isotopes in the $H_2O$.\n",
    "\n",
    "\n",
    "\\begin{align}\n",
    "\\mu^{H_2O} \\equiv \\Sigma^{H_2O} &= N^1\\sigma_a^1 + N^2\\sigma_a^2 + N^{16}\\sigma_a^{16}\n",
    "+ N^{17}\\sigma_a^{17}  + N^{18}\\sigma_a^{18}\\\\\n",
    "&= f^1N^H\\sigma_a^1 + f^2N^H\\sigma_a^2 + f^{16}N^O\\sigma_a^{16} + f^{17}N^O\\sigma_a^{17} + f^{18}N^O\\sigma_a^{18}\n",
    "\\end{align}\n",
    "\n",
    "Superscripts 1, 2, 16, 17, and 18 indicate isotopes $^1H$, $^2H$, $^{16}O$,$^{17}O$, and $^{18}O$. \n",
    "\n",
    "\\begin{align}\n",
    "N^H = 2N^{H_2O}\\\\\n",
    "N^{O} = N^{H_2O}\\\\\n",
    "N^{H_2O} = \\frac{\\rho^{H_2O}N_a}{A^{H_2O}}\n",
    "\\end{align}\n",
    "\n",
    "Thus:\n",
    "\\begin{align}\n",
    "\\mu^{H_2O} \\equiv \\Sigma^{H_2O} &= N^{H_2O}\\left[2f^1\\sigma_a^1 + 2f^2\\sigma_a^2 + f^{16}\\sigma_a^{16} + f^{17}\\sigma_a^{17} + f^{18}\\sigma_a^{18}\\right]\n",
    "\\end{align}\n"
   ]
  },
  {
   "cell_type": "code",
   "execution_count": 17,
   "metadata": {
    "collapsed": false,
    "deletable": true,
    "editable": true
   },
   "outputs": [
    {
     "name": "stdout",
     "output_type": "stream",
     "text": [
      "absorption in water from all isos =  0.02226860496564809 \n",
      " while absorption in water from 1H =  0.02226247689463956 \n",
      " Thus, absorption in water is mostly from 1H.\n"
     ]
    }
   ],
   "source": [
    "# We need a lot of data\n",
    "\n",
    "# Abundances\n",
    "f_1 = 0.99985\n",
    "f_2 = 0.00015\n",
    "f_16 = 0.99756\n",
    "f_17 = 0.00039\n",
    "f_18 = 0.00205\n",
    "\n",
    "# Then, microscopic absorption cross sections\n",
    "sig_1 = 0.333\n",
    "sig_2 = 0.000506\n",
    "sig_16 = 0.000190\n",
    "sig_17 = 0.239\n",
    "sig_18 = 0.000160\n",
    "\n",
    "macroscopic_h2o = n_h2o_barn*(2*f_1*sig_1 \n",
    "                              + 2*f_2*sig_2\n",
    "                              + f_16*sig_16\n",
    "                              + f_17*sig_17 \n",
    "                              + f_18*sig_18) \n",
    "print('absorption in water from all isos = ', macroscopic_h2o,\"\\n\",\n",
    "     'while absorption in water from 1H = ', macroscopic_h1,\"\\n\",\n",
    "     'Thus, absorption in water is mostly from 1H.')"
   ]
  },
  {
   "cell_type": "markdown",
   "metadata": {
    "deletable": true,
    "editable": true
   },
   "source": [
    "### Reaction Rates\n",
    "\n",
    "- The microscopic cross section is just the likelihood of the event per unit area. \n",
    "- The macroscopic cross section is just the likelihood of the event per unit area of a certain density of target isotopes.\n",
    "- The reaction rate is the macroscopic cross section times the flux of incident neutrons.\n",
    "\n",
    "\\begin{align}\n",
    "R_{i,j}(\\vec{r}) &= N_j(\\vec{r})\\int dE \\phi(\\vec{r},E)\\sigma_{i,j}(E)\\\\\n",
    "R_{i,j}(\\vec{r}) &= \\mbox{reactions of type i involving isotope j } [reactions/cm^3s]\\\\\n",
    "N_j(\\vec{r}) &= \\mbox{number of nuclei participating in the reactions } [\\#/cm^3]\\\\\n",
    "E &= \\mbox{energy} [MeV]\\\\\n",
    "\\phi(\\vec{r},E)&= \\mbox{flux of neutrons with energy E at position i } [\\#/cm^2s]\\\\\n",
    "\\sigma_{i,j}(E)&= \\mbox{cross section } [cm^2]\\\\\n",
    "\\end{align}\n",
    "\n",
    "\n",
    "This can be written more simply as $R_x = \\Sigma_x I N$, where I is intensity of the neutron flux.\n",
    "\n",
    "\n",
    "Using flux notation, the density of ith type of neutron interaction with isotope j, per unit time is:\n",
    "\n",
    "\n",
    "\\begin{align}\n",
    "R_{i,j}(\\vec{r}) = \\Sigma_{i,j}\\phi(\\vec{r})\n",
    "\\end{align}"
   ]
  },
  {
   "cell_type": "markdown",
   "metadata": {
    "deletable": true,
    "editable": true
   },
   "source": [
    "### Reaction Rate Example: Fission Source term\n",
    "\n",
    "An example of an important use of reaction rates is the source of neutrons in a reactor are the neutrons from fission. \n",
    "\n",
    "\\begin{align}\n",
    "s &=\\nu \\Sigma_f \\phi\n",
    "\\end{align}\n",
    "\n",
    "where\n",
    "\n",
    "\\begin{align}\n",
    "s &= \\mbox{neutrons available for next generation of fissions}\\\\\n",
    "\\nu &= \\mbox{the number born per fission}\\\\\n",
    "\\Sigma_f &= \\mbox{the number of fissions in the material}\\\\\n",
    "\\phi &= \\mbox{initial neutron flux}\n",
    "\\end{align}\n",
    "\n",
    "This can also be written as:\n",
    "\n",
    "\\begin{align}\n",
    "s =& \\nu\\Sigma_f\\phi\\\\\n",
    "  =& \\nu\\frac{\\Sigma_f}{\\Sigma_{a,fuel}}\\frac{\\Sigma_{a,fuel}}{\\Sigma_a}{\\Sigma_a} \\phi\\\\\n",
    "  =& \\eta f {\\Sigma_a} \\phi\\\\\n",
    "\\eta =& \\frac{\\nu\\Sigma_f}{\\Sigma_{a,fuel}} \\\\\n",
    "      =& \\mbox{number of neutrons produced }\\\\\n",
    "      & \\mbox{  per neutron absorbed by the fuel}\\\\\n",
    "      =& \\mbox{\"neutron reproduction factor\"}\\\\\n",
    "f =& \\frac{\\Sigma_{a,fuel}}{\\Sigma_a} \\\\\n",
    "   =& \\mbox{number of neutrons absorbed in the fuel}\\\\\n",
    "   &\\mbox{  per neutron absorbed anywhere}\\\\\n",
    "   =&\\mbox{\"fuel utilization factor\"}\\\\\n",
    "\\end{align}\n",
    "\n",
    "This absorption and flux term at the end seeks to capture the fact that some of the neutrons escape. However, if we assume an infinite reactor, we know that all the neutrons are eventually absorbed in either the fuel or the coolant, so we can normalize by $\\Sigma_a\\phi$ and therefore:\n",
    "\n",
    "\n",
    "\\begin{align}\n",
    "k_\\infty &= \\frac{\\eta f \\Sigma_a\\phi}{\\Sigma_a \\phi}\\\\\n",
    "&= \\eta f\n",
    "\\end{align}"
   ]
  },
  {
   "cell_type": "markdown",
   "metadata": {
    "deletable": true,
    "editable": true
   },
   "source": [
    "## Flux density from Point Source\n",
    "Finding $\\phi(\\vec{r}0$ generally requires *particle transport calculations.*\n",
    "\n",
    "However, in some simple practical situations, the flux density can be approximated by the flux density of uncollided source particles.\n",
    "\n",
    "### Point Source in Vacuum\n",
    "\n",
    "Consider a source of particles:\n",
    "\n",
    "- it emits $S_p$ particles per unit time\n",
    "- all particles have energy E\n",
    "- and they are emitted radially outward into an infinite vacuum\n",
    "- isotropically (equally in all directions)\n",
    "- from a single point in space\n",
    "\n",
    "### Think-pair share: \n",
    "\n",
    "- How many interactions occur?\n",
    "\n",
    "\n",
    "### At a radius r: \n",
    "Because the source is isotropic, each unit area on an imaginary spherical shell of radius $r$ has the same number of particles crossing it. Thus:\n",
    "\n",
    "\\begin{align}\n",
    "\\phi^o(r) &= \\mbox{uncollided flux at radius r in any direction}\\\\\n",
    "&= \\frac{S_p}{4\\pi r^2}\n",
    "\\end{align}"
   ]
  },
  {
   "cell_type": "code",
   "execution_count": 18,
   "metadata": {
    "collapsed": true,
    "deletable": true,
    "editable": true
   },
   "outputs": [],
   "source": [
    "def phi_o_r(r, s):\n",
    "    \"\"\"Returns the uncolided flux at radius r\n",
    "    due to an isotropic point source in a vacuum\n",
    "        \n",
    "    Parameters\n",
    "    -----------\n",
    "    r : double\n",
    "        radius away from the point [length]\n",
    "    s : double\n",
    "        point source strength [particles/time]\n",
    "    \"\"\"\n",
    "    return s/(4*math.pi*pow(r,2))"
   ]
  },
  {
   "cell_type": "code",
   "execution_count": 19,
   "metadata": {
    "collapsed": false,
    "deletable": true,
    "editable": true
   },
   "outputs": [
    {
     "data": {
      "text/plain": [
       "[<matplotlib.lines.Line2D at 0x10e678c50>]"
      ]
     },
     "execution_count": 19,
     "metadata": {},
     "output_type": "execute_result"
    },
    {
     "data": {
      "image/png": "[encoded data removed]",
      "text/plain": [
       "<matplotlib.figure.Figure at 0x10c30dba8>"
      ]
     },
     "metadata": {},
     "output_type": "display_data"
    }
   ],
   "source": [
    "s=200\n",
    "\n",
    "plt.plot(range(1,10), [phi_o_r(r, s) for r in range(1,10)])"
   ]
  },
  {
   "cell_type": "markdown",
   "metadata": {
    "deletable": true,
    "editable": true
   },
   "source": [
    "The plot above, this $1/r^2$ reduction in flux and reaction rate, is occaisionally called \"geometric attenuation\"."
   ]
  },
  {
   "cell_type": "code",
   "execution_count": 20,
   "metadata": {
    "collapsed": false,
    "deletable": true,
    "editable": true
   },
   "outputs": [
    {
     "data": {
      "text/html": [
       "\n",
       "        <iframe\n",
       "            width=\"1000\"\n",
       "            height=\"500\"\n",
       "            src=\"https://bookshelf.vitalsource.com/books/9781498769303/pageid/211\"\n",
       "            frameborder=\"0\"\n",
       "            allowfullscreen\n",
       "        ></iframe>\n",
       "        "
      ],
      "text/plain": [
       "<IPython.lib.display.IFrame at 0x10c30db00>"
      ]
     },
     "execution_count": 20,
     "metadata": {},
     "output_type": "execute_result"
    }
   ],
   "source": [
    "# The below IFrame displays Page 189 of your textbook:\n",
    "# Shultis, J. K. (2016). Fundamentals of Nuclear Science and Engineering Third Edition, \n",
    "# 3rd Edition. [Vitalsource]. Retrieved from https://bookshelf.vitalsource.com/#/books/9781498769303/\n",
    "# Please take note of Figure 7.2\n",
    "\n",
    "from IPython.display import IFrame\n",
    "IFrame(\"https://bookshelf.vitalsource.com/books/9781498769303/pageid/211\", width=1000, height=500)\n"
   ]
  },
  {
   "cell_type": "markdown",
   "metadata": {
    "deletable": true,
    "editable": true
   },
   "source": [
    "## Point Source in an Attenuating Medium\n",
    "So, the unollided flux is \n",
    "\\begin{align}\n",
    "\\phi^o(r) &= \\frac{S_p}{4\\pi r^2}\n",
    "\\end{align}\n",
    "\n",
    "### A small volume\n",
    "\n",
    "At a distance r, we place a homogeneous mass with a volume $\\Delta V_d$. The interaction rate $R_d$ in the mass is: \n",
    "\n",
    "\\begin{align}\n",
    "&R^o(r)=\\mu_d(E)\\Delta V_d\\frac{S_p}{4\\pi r^2}\\\\\n",
    "\\mbox{where}&\\\\\n",
    "&\\mu_d(E)=\\mbox{linear interaction coefficient in the volume}\n",
    "\\end{align}\n",
    "\n",
    "### An inifinite volume\n",
    "\n",
    "From this, we can imagine the point source embeeded in an infinite medium of this material. A detector is at distance r in the volume:\n",
    "\n",
    "\\begin{align}\n",
    "&\\phi^o(r) = \\frac{S_p}{4\\pi r^2}e^{-\\mu r}\\\\\n",
    "\\mbox{where}&\\\\\n",
    "&e^{-\\mu r}=\\mbox{material attenuation}\n",
    "\\end{align}\n",
    "\n",
    "### A slab shield\n",
    "\n",
    "Imagine a slab shield, thickness t, at a distance r, between the point source and a detector.\n",
    "\n",
    "\\begin{align}\n",
    "&\\phi^o(r) = \\frac{S_p}{4\\pi r^2}e^{-\\mu t}\\\\\n",
    "\\mbox{where}&\\\\\n",
    "&t=\\mbox{thickness of the slab}\n",
    "\\end{align}\n",
    "\n",
    "If it were made of a series of materials $i$, with coefficients $\\mu_i$, and thicknesses $t_i$:\n",
    "\n",
    "\\begin{align}\n",
    "&\\phi^o(r) = \\frac{S_p}{4\\pi r^2}e^{\\sum_i -\\mu_i t_i}\\\\\n",
    "\\mbox{where}&\\\\\n",
    "&\\mu_i=\\mbox{linear interaction coefficient of ith slab}\\\\\n",
    "&t_i=\\mbox{thickness of ith slab}\n",
    "\\end{align}\n",
    "\n",
    "### Heterogeneous Medium\n",
    "\n",
    "An arbitrary heterogeneous medium can be described as having an interaction coefficient $\\mu(\\vec{r})$ at any point $\\vec{r}$ in the medium, a funciton of position in the medium.\n",
    "\n",
    "\\begin{align}\n",
    "&\\phi^o(r) = \\frac{S_p}{4\\pi r^2}e^{\\left[-\\int_0^r \\mu(s) ds\\right]}\\\\\n",
    "\\end{align}"
   ]
  },
  {
   "cell_type": "markdown",
   "metadata": {
    "deletable": true,
    "editable": true
   },
   "source": [
    "## Polyenergetic Point Source\n",
    "\n",
    "- Previous examples assume a **monoenergetic** point source (particles of a single energy, E). \n",
    "- But, a single source can emit particles at several discrete energies, or even a continuum of energies.\n",
    "\n",
    "Let's define some variables:\n",
    "\n",
    "\\begin{align}\n",
    "f_i &= \\mbox{fraction of the source emitted with energy }E_i\\\\\n",
    "E_i &= \\mbox{discrete energy of }f_iS_p\\mbox{ particles}\\\\\n",
    "S_p &= \\mbox{still the number of particles emitted from the point source}\n",
    "\\end{align}\n",
    "\n",
    "The total interaction rate caused by uncollided particles streaming through a small volume mass at distance r from the source is the following, **for some set of i discrete energies**.\n",
    "\n",
    "\\begin{align}\n",
    "R^o(r)=\\sum_i\\frac{S_p f_i\\mu_d(E_i) \\Delta V_d}{4\\pi r^2}e^{\\left[-\\int_0^r \\mu(s,E_i) ds\\right]}\\\\\n",
    "\\end{align}\n",
    "\n",
    "If the source emits a continuum of energies, it's best to define the fraction $f_i$ as a differential probability:\n",
    "\n",
    "\\begin{align}\n",
    "N(E)dE\\mbox{the probability that a source particle is emitted with energy in dE about E}\n",
    "\\end{align}\n",
    "\n",
    "\n",
    "With this definition, the sum over discrete energies becomes an integral.\n",
    "\n",
    "\\begin{align}\n",
    "R^o(r)=\\int_o^\\infty \\left[\\frac{S_p N(E)\\mu_d(E) \\Delta V_d}{4\\pi r^2}e^{\\left[-\\int_0^r \\mu(s,E) ds\\right]}\\right]dE\\\\\n",
    "\\end{align}\n",
    "\n",
    "Please note, you may see many nuclear texts list the dE first in the integral... don't be bamboozled. This is equivalent to the above:\n",
    "\n",
    "\\begin{align}\n",
    "R^o(r)=\\int_o^\\infty dE\\frac{S_p N(E)\\mu_d(E) \\Delta V_d}{4\\pi r^2}e^{\\left[-\\int_0^r \\mu(s,E) ds\\right]}\n",
    "\\end{align}\n"
   ]
  },
  {
   "cell_type": "markdown",
   "metadata": {
    "deletable": true,
    "editable": true
   },
   "source": [
    "### Example 7.4 from your book (Shultis & Faw)\n",
    "\n",
    "A point source with an activity of 500 Ci emits 2-MeV photons with a frequency of 70% per decay. \n",
    "\n",
    "\\begin{align}\n",
    "S_p = 500 Ci\\\\\n",
    "f_2 = 0.7\\\\\n",
    "\\end{align}\n",
    "\n",
    "What is the flux density of 2-MeV photons 1 meter from the source? \n"
   ]
  },
  {
   "cell_type": "code",
   "execution_count": 27,
   "metadata": {
    "collapsed": false,
    "deletable": true,
    "editable": true
   },
   "outputs": [
    {
     "name": "stdout",
     "output_type": "stream",
     "text": [
      "Uncollided flux is :  1030528256520.0223\n",
      "Uncollided flux with attenuation is :  1025032118881.2917\n"
     ]
    }
   ],
   "source": [
    "s_p = 500 # Ci\n",
    "f_2 = 0.7 # fraction emitted at 2MeV\n",
    "mu = 1.0/187.0 # mean free path of 2MeV photon in air is 187m\n",
    "\n",
    "# first, convert S_p is in number of particles per decay (Bq)\n",
    "bq_to_ci = 3.7e10 # Bq/Ci\n",
    "s_p = s_p*bq_to_ci \n",
    "\n",
    "# Now, find uncollided flux of 2MeV photons at 1 m\n",
    "r = 1.0 #m\n",
    "s = s_p*f_2 # just want 2MeV photons\n",
    "phi = phi_o_r(r, s)\n",
    "print(\"Uncollided flux is : \", phi)\n",
    "\n",
    "# Uh oh, we forgot the material attenuation!\n",
    "phi = phi_o_r(r, s)*math.exp(-mu*r)\n",
    "print(\"Uncollided flux with attenuation is : \", phi)"
   ]
  },
  {
   "cell_type": "markdown",
   "metadata": {
    "deletable": true,
    "editable": true
   },
   "source": [
    "### Think Pair Share\n",
    "\n",
    "What are the units of $\\phi^o$, above?\n"
   ]
  },
  {
   "cell_type": "markdown",
   "metadata": {
    "deletable": true,
    "editable": true
   },
   "source": [
    "# Photon Interactions\n",
    "\n",
    "**Recall:** \n",
    "     \n",
    "\\begin{align}\n",
    "c &= \\mbox{speed of light}\\\\ \n",
    "  &=2.9979\\times10^8\\left[\\frac{m}{s}\\right]\\\\\n",
    "E &= \\mbox{photon energy}\\\\\n",
    "  &=h\\nu\\\\\n",
    "  &=\\frac{hc}{\\lambda}\\\\\n",
    "h &= \\mbox{Planck's constant}\\\\\n",
    "  &= 6.62608\\times10^{−34} [J\\cdot s] \\\\\n",
    "\\nu &=\\mbox{photon frequency}\\\\\n",
    "\\lambda &= \\mbox{photon wavelength}\n",
    "\\end{align}\n",
    "\n",
    "**Nota bene:**\n",
    "- **10eV - 20MeV** photons are important in radiation sheilding\n",
    "- At **10eV - 20MeV**, only photoelectric effect, pair production, and Compton Scattering are significant\n",
    "\n",
    "![https://radiologykey.com/wp-content/uploads/2016/01/c4-fig-0004.jpg](https://radiologykey.com/wp-content/uploads/2016/01/c4-fig-0004.jpg)\n",
    "<center>Figure from: \"Radiation Interactions with Tissue.\" Radiology Key. Jan 8 2016.</center>\n",
    "\n",
    "\n",
    "![./cullen-1994.png](./cullen-1994.png)\n",
    "<center>Figure from: Cullen, D. E. 1994. \"Photon and Electron Interaction Databases and Their Use in Medical Applications.\" UCRL-JC--117419. Lawrence Livermore National Lab. http://inis.iaea.org/Search/search.aspx?orig_q=RN:26035330.</center>\n",
    "\n",
    "\n",
    "\n",
    "## Klein Nishina\n",
    "\n",
    "The total Compton cross section, per atom with Z electrons, based on the free-electron approximation, is given by the well-known Klein-Nishina formula [Evans 1955]:\n",
    "\n",
    "\\begin{align}\n",
    "\\sigma_c(E) =\\pi Zr_e^2\\lambda\\left[(-2\\lambda - 2\\lambda^2)\\ln{\\left(1+\\frac{2}{\\lambda}\\right)} + \\frac{2(1+9\\lambda + 8\\lambda^2 + 2\\lambda^3)}{(\\lambda + 2)^2}\\right]\n",
    "\\end{align}\n",
    "\n",
    "Here $\\lambda \\equiv \\frac{m_ec^2}{E}$, a dimensionless quantity, and $r_e$ is the classical electron radius. The value of $r_e$ is given by:\n",
    "\n",
    "\\begin{align}\n",
    "r_e &\\equiv \\frac{e^2}{4\\pi\\epsilon_om_ec^2}\\\\\n",
    "&= 2.8179\\times10^{-13}cm\n",
    "\\end{align}\n",
    "\n",
    "\n",
    "### Think pair share:\n",
    "Conceptually, in the above equation:\n",
    "\n",
    "- what is $r_e$?\n",
    "- what is $e$?\n",
    "- what is $\\epsilon_o$?\n",
    "- what is $m_ec^2$?\n",
    "\n",
    "\n",
    "\n",
    "### Total Photon Cross Section\n",
    "Various types of incoherent scattering, including Compton, are actually present in that intermediate energy range. It is occaisionally important to correct for all types of incoherent scattering, but it can typically be assumed to be primarily Compton scattering. \n",
    "\n",
    "For photons, then $\\mu$ becomes:\n",
    "\n",
    "\\begin{align} \n",
    "\\mu(E)&\\equiv N\\left[\\sigma_{ph}(E) + \\sigma_{inc}(E) + \\sigma_{pp}(E)\\right]\\\\\n",
    "      &\\simeq N\\left[\\sigma_{ph}(E) + \\sigma_{c}(E) + \\sigma_{pp}(E)\\right]\\\\\n",
    "    N &= \\mbox{atom density}\\\\\n",
    "      &= \\frac{\\rho N_a}{A} \n",
    "\\end{align}\n",
    "\n",
    "It is common to denote this as the total mass interaction coefficient:\n",
    "\n",
    "\\begin{align}\n",
    "\\frac{\\mu}{\\rho} &= \\frac{N_a}{A}\\left[\\sigma_{ph}(E) + \\sigma_{c}(E) + \\sigma_{pp}(E)\\right]\\\\\n",
    "&= \\frac{N_a}{A}\\left[\\frac{\\mu_{ph}(E)}{\\rho} + \\frac{\\mu_{c}(E)}{\\rho} + \\frac{\\mu_{pp}(E)}{\\rho}\\right]\n",
    "\\end{align}"
   ]
  },
  {
   "cell_type": "markdown",
   "metadata": {
    "deletable": true,
    "editable": true
   },
   "source": [
    "## Neutron Interactions\n",
    "\n",
    "Photons tend to interact with electrons in a target atom. **Neutrons tend to interact with the nucleus.**\n",
    "\n",
    "Neutron cross sections:\n",
    "\n",
    "- Vary rapidly with the incident neutron energy,\n",
    "- Vary erratically from one element to another \n",
    "- Even vary dramatically between isotopes of the same element.\n",
    "\n",
    "There are lots of sources of neutron cross sections. The best place to start is the Brookhaven National Laboratory National Nuclear Data Center [https://www.nndc.bnl.gov/](https://www.nndc.bnl.gov/).\n",
    "\n",
    "Your book has a clever table (7.1) listing some of the data needed for high and low energy interaction calculations. These include:\n",
    "\n",
    "- Elastic scattering cross sections \n",
    "- Angular distribution of elastically scattered neutrons \n",
    "- Inelastic scattering cross sections \n",
    "- Angular distribution of inelastically scattered neutrons \n",
    "- Gamma-photon yields from inelastic neutron scattering \n",
    "- Resonance absorption cross sections \n",
    "- Thermal-averaged absorption cross sections \n",
    "- Yield of neutron-capture gamma photons\n",
    "- Fission cross sections and associated gamma-photon and neutron yields\n",
    "\n",
    "\n",
    "# Total cross sections\n",
    "\n",
    "**For light nuclei** ($A<25$) and $E<1keV$, the cross section typically varies as:\n",
    "\n",
    "\\begin{align}\n",
    "\\sigma_t = \\sigma_1 + \\frac{\\sigma_2}{\\sqrt{E}}\n",
    "\\end{align}\n",
    "\n",
    "**For solids** at energies less than about 0.01 eV, Bragg cutoffs apply. These are energies below which no coherent scattering is possible from the material's crystalline planes.\n",
    "\n",
    "\n",
    "**For heavy nuclei**, the total cross section has a $\\frac{1}{\\sqrt{E}}$ behavior with low energy, narrow resonances and high energy broad resonances:\n",
    "\n",
    "\\begin{align}\n",
    "\\sigma_t \\propto \\frac{1}{\\sqrt{E}}\n",
    "\\end{align}"
   ]
  },
  {
   "cell_type": "code",
   "execution_count": 31,
   "metadata": {
    "collapsed": false,
    "deletable": true,
    "editable": true
   },
   "outputs": [
    {
     "data": {
      "text/html": [
       "\n",
       "        <iframe\n",
       "            width=\"1000\"\n",
       "            height=\"1000\"\n",
       "            src=\"https://bookshelf.vitalsource.com/books/9781498769303/pageid/222\"\n",
       "            frameborder=\"0\"\n",
       "            allowfullscreen\n",
       "        ></iframe>\n",
       "        "
      ],
      "text/plain": [
       "<IPython.lib.display.IFrame at 0x10e67fb38>"
      ]
     },
     "execution_count": 31,
     "metadata": {},
     "output_type": "execute_result"
    }
   ],
   "source": [
    "# The below IFrame displays Page 200 of your textbook:\n",
    "# Shultis, J. K. (2016). Fundamentals of Nuclear Science and Engineering Third Edition, \n",
    "# 3rd Edition. [Vitalsource]. Retrieved from https://bookshelf.vitalsource.com/#/books/9781498769303/\n",
    "# Please take note of Figure 7.2\n",
    "\n",
    "from IPython.display import IFrame\n",
    "IFrame(\"https://bookshelf.vitalsource.com/books/9781498769303/pageid/222\", width=1000, height=1000)\n"
   ]
  },
  {
   "cell_type": "markdown",
   "metadata": {
    "deletable": true,
    "editable": true
   },
   "source": [
    "### Recall fission cross sections :\n",
    "![https://universe-review.ca/I14-03-crossection.png](https://universe-review.ca/I14-03-crossection.png)"
   ]
  },
  {
   "cell_type": "code",
   "execution_count": null,
   "metadata": {
    "collapsed": true,
    "deletable": true,
    "editable": true
   },
   "outputs": [],
   "source": []
  }
 ],
 "metadata": {
  "kernelspec": {
   "display_name": "Python 3",
   "language": "python",
   "name": "python3"
  },
  "language_info": {
   "codemirror_mode": {
    "name": "ipython",
    "version": 3
   },
   "file_extension": ".py",
   "mimetype": "text/x-python",
   "name": "python",
   "nbconvert_exporter": "python",
   "pygments_lexer": "ipython3",
   "version": "3.5.2"
  }
 },
 "nbformat": 4,
 "nbformat_minor": 0
}

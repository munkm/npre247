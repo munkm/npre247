{
 "cells": [
  {
   "cell_type": "markdown",
   "metadata": {
    "deletable": true,
    "editable": true
   },
   "source": [
    "# Nuclear Fuel Cycle Overview\n",
    "\n",
    "The nuclear fuel cycle is the technical and economic system traversed by nuclear fuel during the generation of nuclear power.\n",
    "\n",
    "## Learning Objectives\n",
    "\n",
    "By the end of this lesson, you should be able to:\n",
    "\n",
    "- Categorize types of fission reactors by their fuels and coolants.\n",
    "- Summarize the history and key characteristics of reactor technology generations.\n",
    "- Weigh and compare advanced nuclear reactor types.\n",
    "- Name fuel cycle facilities and technologies that contribute to open and closed cycles.\n",
    "- Identify categories of nuclear fuel cycle strategies (open, closed, etc.)\n",
    "- Associate categories of fuel cycle with nations that implement them (USA, France, etc.)\n",
    "- Order the stages of such fuel cycle from mining to disposal, including reprocessing.\n",
    "- Identify the chemical and physical states of nuclear material passed between stages.\n"
   ]
  },
  {
   "cell_type": "markdown",
   "metadata": {
    "deletable": true,
    "editable": true
   },
   "source": [
    "## Fission Reactor Types\n",
    "\n",
    "Let's see what you know already.\n",
    "\n",
    "[pollev.com/katyhuff](pollev.com/katyhuff)"
   ]
  },
  {
   "cell_type": "code",
   "execution_count": 2,
   "metadata": {
    "collapsed": false,
    "deletable": true,
    "editable": true
   },
   "outputs": [
    {
     "data": {
      "text/html": [
       "\n",
       "        <iframe\n",
       "            width=\"1000\"\n",
       "            height=\"700\"\n",
       "            src=\"https://embed.polleverywhere.com/free_text_polls/YWUBNMDynR0yeiu?controls=none&short_poll=true?frameBorder=0\"\n",
       "            frameborder=\"0\"\n",
       "            allowfullscreen\n",
       "        ></iframe>\n",
       "        "
      ],
      "text/plain": [
       "<IPython.lib.display.IFrame at 0x104408668>"
      ]
     },
     "execution_count": 2,
     "metadata": {},
     "output_type": "execute_result"
    }
   ],
   "source": [
    "from IPython.display import IFrame\n",
    "IFrame(\"https://embed.polleverywhere.com/free_text_polls/YWUBNMDynR0yeiu?controls=none&short_poll=true\", width=\"1000\", height=\"700\", frameBorder=\"0\")"
   ]
  },
  {
   "cell_type": "code",
   "execution_count": 4,
   "metadata": {
    "collapsed": false,
    "deletable": true,
    "editable": true
   },
   "outputs": [
    {
     "data": {
      "text/html": [
       "\n",
       "        <iframe\n",
       "            width=\"1000\"\n",
       "            height=\"700\"\n",
       "            src=\"https://embed.polleverywhere.com/free_text_polls/rhvKnG3a6nKaNdU?controls=none&short_poll=true?frameBorder=0\"\n",
       "            frameborder=\"0\"\n",
       "            allowfullscreen\n",
       "        ></iframe>\n",
       "        "
      ],
      "text/plain": [
       "<IPython.lib.display.IFrame at 0x1044087b8>"
      ]
     },
     "execution_count": 4,
     "metadata": {},
     "output_type": "execute_result"
    }
   ],
   "source": [
    "from IPython.display import IFrame\n",
    "IFrame(\"https://embed.polleverywhere.com/free_text_polls/rhvKnG3a6nKaNdU?controls=none&short_poll=true\", width=\"1000\", height=\"700\", frameBorder=\"0\")"
   ]
  },
  {
   "cell_type": "code",
   "execution_count": 5,
   "metadata": {
    "collapsed": false,
    "deletable": true,
    "editable": true
   },
   "outputs": [
    {
     "data": {
      "text/html": [
       "\n",
       "        <iframe\n",
       "            width=\"1000\"\n",
       "            height=\"700\"\n",
       "            src=\"https://embed.polleverywhere.com/free_text_polls/zdDog6JmDGOQ1hJ?controls=none&short_poll=true?frameBorder=0\"\n",
       "            frameborder=\"0\"\n",
       "            allowfullscreen\n",
       "        ></iframe>\n",
       "        "
      ],
      "text/plain": [
       "<IPython.lib.display.IFrame at 0x1044089b0>"
      ]
     },
     "execution_count": 5,
     "metadata": {},
     "output_type": "execute_result"
    }
   ],
   "source": [
    "from IPython.display import IFrame\n",
    "IFrame(\"https://embed.polleverywhere.com/free_text_polls/zdDog6JmDGOQ1hJ?controls=none&short_poll=true\", width=\"1000\", height=\"700\", frameBorder=\"0\")"
   ]
  },
  {
   "cell_type": "code",
   "execution_count": 8,
   "metadata": {
    "collapsed": false,
    "deletable": true,
    "editable": true
   },
   "outputs": [
    {
     "data": {
      "text/html": [
       "\n",
       "        <iframe\n",
       "            width=\"1000\"\n",
       "            height=\"700\"\n",
       "            src=\"https://embed.polleverywhere.com/free_text_polls/YE5bPL6KecA5M3A?controls=none&short_poll=true?frameBorder=0\"\n",
       "            frameborder=\"0\"\n",
       "            allowfullscreen\n",
       "        ></iframe>\n",
       "        "
      ],
      "text/plain": [
       "<IPython.lib.display.IFrame at 0x104408ac8>"
      ]
     },
     "execution_count": 8,
     "metadata": {},
     "output_type": "execute_result"
    }
   ],
   "source": [
    "from IPython.display import IFrame\n",
    "IFrame(\"https://embed.polleverywhere.com/free_text_polls/YE5bPL6KecA5M3A?controls=none&short_poll=true\", width=\"1000\", height=\"700\", frameBorder=\"0\")"
   ]
  },
  {
   "cell_type": "code",
   "execution_count": 10,
   "metadata": {
    "collapsed": false,
    "deletable": true,
    "editable": true
   },
   "outputs": [
    {
     "data": {
      "text/html": [
       "\n",
       "        <iframe\n",
       "            width=\"1000\"\n",
       "            height=\"700\"\n",
       "            src=\"https://embed.polleverywhere.com/free_text_polls/BLojIJiKtPULpmw?controls=none&short_poll=true?frameBorder=0\"\n",
       "            frameborder=\"0\"\n",
       "            allowfullscreen\n",
       "        ></iframe>\n",
       "        "
      ],
      "text/plain": [
       "<IPython.lib.display.IFrame at 0x104408c18>"
      ]
     },
     "execution_count": 10,
     "metadata": {},
     "output_type": "execute_result"
    }
   ],
   "source": [
    "from IPython.display import IFrame\n",
    "IFrame(\"https://embed.polleverywhere.com/free_text_polls/BLojIJiKtPULpmw?controls=none&short_poll=true\", width=\"1000\", height=\"700\", frameBorder=\"0\")"
   ]
  },
  {
   "cell_type": "markdown",
   "metadata": {
    "deletable": true,
    "editable": true
   },
   "source": [
    "A really good summary, with images, can be found [here](http://www.theiet.org/factfiles/energy/nuc-reac-page.cfm?type=pdf)."
   ]
  },
  {
   "cell_type": "code",
   "execution_count": 11,
   "metadata": {
    "collapsed": false,
    "deletable": true,
    "editable": true
   },
   "outputs": [
    {
     "data": {
      "text/html": [
       "\n",
       "        <iframe\n",
       "            width=\"1000\"\n",
       "            height=\"700\"\n",
       "            src=\"http://www.theiet.org/factfiles/energy/nuc-reac-page.cfm?type=view-pdf\"\n",
       "            frameborder=\"0\"\n",
       "            allowfullscreen\n",
       "        ></iframe>\n",
       "        "
      ],
      "text/plain": [
       "<IPython.lib.display.IFrame at 0x104408c50>"
      ]
     },
     "execution_count": 11,
     "metadata": {},
     "output_type": "execute_result"
    }
   ],
   "source": [
    "\n",
    "from IPython.display import IFrame\n",
    "\n",
    "IFrame(\"http://www.theiet.org/factfiles/energy/nuc-reac-page.cfm?type=view-pdf\", width=1000, height=700)"
   ]
  },
  {
   "cell_type": "markdown",
   "metadata": {
    "deletable": true,
    "editable": true
   },
   "source": [
    "# Fuel Cycle Strategies\n",
    "\n",
    "## Once through\n",
    "\n",
    "Also known as an open fuel cycle, this is the fuel cycle currently underway in the United States. There is no reprocessing or recycling of any kind and all high level spent nuclear fuel is eventually destined for a geologic repository."
   ]
  },
  {
   "cell_type": "code",
   "execution_count": 12,
   "metadata": {
    "collapsed": false,
    "deletable": true,
    "editable": true
   },
   "outputs": [],
   "source": [
    "try:\n",
    "    import graphviz  \n",
    "except ImportError:\n",
    "    !y | conda install graphviz \n",
    "    !pip install graphviz"
   ]
  },
  {
   "cell_type": "code",
   "execution_count": 13,
   "metadata": {
    "collapsed": false,
    "deletable": true,
    "editable": true
   },
   "outputs": [
    {
     "data": {
      "image/svg+xml": [
       "<?xml version=\"1.0\" encoding=\"UTF-8\" standalone=\"no\"?>\n",
       "<!DOCTYPE svg PUBLIC \"-//W3C//DTD SVG 1.1//EN\"\n",
       " \"http://www.w3.org/Graphics/SVG/1.1/DTD/svg11.dtd\">\n",
       "<!-- Generated by graphviz version 2.38.0 (20140413.2041)\n",
       " -->\n",
       "<!-- Title: %3 Pages: 1 -->\n",
       "<svg width=\"163pt\" height=\"754pt\"\n",
       " viewBox=\"0.00 0.00 162.66 754.40\" xmlns=\"http://www.w3.org/2000/svg\" xmlns:xlink=\"http://www.w3.org/1999/xlink\">\n",
       "<g id=\"graph0\" class=\"graph\" transform=\"scale(1 1) rotate(0) translate(4 750.4)\">\n",
       "<title>%3</title>\n",
       "<polygon fill=\"white\" stroke=\"none\" points=\"-4,4 -4,-750.4 158.664,-750.4 158.664,4 -4,4\"/>\n",
       "<!-- A -->\n",
       "<g id=\"node1\" class=\"node\"><title>A</title>\n",
       "<ellipse fill=\"none\" stroke=\"black\" cx=\"74.5976\" cy=\"-728.4\" rx=\"31.339\" ry=\"18\"/>\n",
       "<text text-anchor=\"middle\" x=\"74.5976\" y=\"-724.2\" font-family=\"Times,serif\" font-size=\"14.00\">Mine</text>\n",
       "</g>\n",
       "<!-- B -->\n",
       "<g id=\"node2\" class=\"node\"><title>B</title>\n",
       "<ellipse fill=\"none\" stroke=\"black\" cx=\"74.5976\" cy=\"-639.6\" rx=\"27.8442\" ry=\"18\"/>\n",
       "<text text-anchor=\"middle\" x=\"74.5976\" y=\"-635.4\" font-family=\"Times,serif\" font-size=\"14.00\">Mill</text>\n",
       "</g>\n",
       "<!-- A&#45;&gt;B -->\n",
       "<g id=\"edge1\" class=\"edge\"><title>A&#45;&gt;B</title>\n",
       "<path fill=\"none\" stroke=\"black\" d=\"M74.5976,-710.251C74.5976,-698.125 74.5976,-681.619 74.5976,-667.719\"/>\n",
       "<polygon fill=\"black\" stroke=\"black\" points=\"78.0977,-667.713 74.5976,-657.713 71.0977,-667.713 78.0977,-667.713\"/>\n",
       "<text text-anchor=\"middle\" x=\"114.631\" y=\"-679.8\" font-family=\"Times,serif\" font-size=\"14.00\">Natural U Ore</text>\n",
       "</g>\n",
       "<!-- C -->\n",
       "<g id=\"node3\" class=\"node\"><title>C</title>\n",
       "<ellipse fill=\"none\" stroke=\"black\" cx=\"74.5976\" cy=\"-550.8\" rx=\"55.6198\" ry=\"18\"/>\n",
       "<text text-anchor=\"middle\" x=\"74.5976\" y=\"-546.6\" font-family=\"Times,serif\" font-size=\"14.00\">Conversion</text>\n",
       "</g>\n",
       "<!-- B&#45;&gt;C -->\n",
       "<g id=\"edge2\" class=\"edge\"><title>B&#45;&gt;C</title>\n",
       "<path fill=\"none\" stroke=\"black\" d=\"M74.5976,-621.451C74.5976,-609.325 74.5976,-592.819 74.5976,-578.919\"/>\n",
       "<polygon fill=\"black\" stroke=\"black\" points=\"78.0977,-578.913 74.5976,-568.913 71.0977,-578.913 78.0977,-578.913\"/>\n",
       "<text text-anchor=\"middle\" x=\"91.7042\" y=\"-591\" font-family=\"Times,serif\" font-size=\"14.00\">U3O8</text>\n",
       "</g>\n",
       "<!-- D -->\n",
       "<g id=\"node4\" class=\"node\"><title>D</title>\n",
       "<ellipse fill=\"none\" stroke=\"black\" cx=\"74.5976\" cy=\"-462\" rx=\"56.1782\" ry=\"18\"/>\n",
       "<text text-anchor=\"middle\" x=\"74.5976\" y=\"-457.8\" font-family=\"Times,serif\" font-size=\"14.00\">Enrichment</text>\n",
       "</g>\n",
       "<!-- C&#45;&gt;D -->\n",
       "<g id=\"edge3\" class=\"edge\"><title>C&#45;&gt;D</title>\n",
       "<path fill=\"none\" stroke=\"black\" d=\"M74.5976,-532.651C74.5976,-520.525 74.5976,-504.019 74.5976,-490.119\"/>\n",
       "<polygon fill=\"black\" stroke=\"black\" points=\"78.0977,-490.113 74.5976,-480.113 71.0977,-490.113 78.0977,-490.113\"/>\n",
       "<text text-anchor=\"middle\" x=\"87.0422\" y=\"-502.2\" font-family=\"Times,serif\" font-size=\"14.00\">UF6</text>\n",
       "</g>\n",
       "<!-- E -->\n",
       "<g id=\"node5\" class=\"node\"><title>E</title>\n",
       "<ellipse fill=\"none\" stroke=\"black\" cx=\"74.5976\" cy=\"-373.2\" rx=\"74.6952\" ry=\"18\"/>\n",
       "<text text-anchor=\"middle\" x=\"74.5976\" y=\"-369\" font-family=\"Times,serif\" font-size=\"14.00\">Fuel Fabrication</text>\n",
       "</g>\n",
       "<!-- D&#45;&gt;E -->\n",
       "<g id=\"edge4\" class=\"edge\"><title>D&#45;&gt;E</title>\n",
       "<path fill=\"none\" stroke=\"black\" d=\"M74.5976,-443.851C74.5976,-431.725 74.5976,-415.219 74.5976,-401.319\"/>\n",
       "<polygon fill=\"black\" stroke=\"black\" points=\"78.0977,-401.313 74.5976,-391.313 71.0977,-401.313 78.0977,-401.313\"/>\n",
       "<text text-anchor=\"middle\" x=\"114.059\" y=\"-413.4\" font-family=\"Times,serif\" font-size=\"14.00\">Enriched UF6</text>\n",
       "</g>\n",
       "<!-- F -->\n",
       "<g id=\"node6\" class=\"node\"><title>F</title>\n",
       "<ellipse fill=\"none\" stroke=\"black\" cx=\"74.5976\" cy=\"-284.4\" rx=\"41.1277\" ry=\"18\"/>\n",
       "<text text-anchor=\"middle\" x=\"74.5976\" y=\"-280.2\" font-family=\"Times,serif\" font-size=\"14.00\">Reactor</text>\n",
       "</g>\n",
       "<!-- E&#45;&gt;F -->\n",
       "<g id=\"edge5\" class=\"edge\"><title>E&#45;&gt;F</title>\n",
       "<path fill=\"none\" stroke=\"black\" d=\"M74.5976,-355.051C74.5976,-342.925 74.5976,-326.419 74.5976,-312.519\"/>\n",
       "<polygon fill=\"black\" stroke=\"black\" points=\"78.0977,-312.513 74.5976,-302.513 71.0977,-312.513 78.0977,-312.513\"/>\n",
       "<text text-anchor=\"middle\" x=\"104.343\" y=\"-324.6\" font-family=\"Times,serif\" font-size=\"14.00\">Fresh Fuel</text>\n",
       "</g>\n",
       "<!-- G -->\n",
       "<g id=\"node7\" class=\"node\"><title>G</title>\n",
       "<ellipse fill=\"none\" stroke=\"black\" cx=\"74.5976\" cy=\"-195.6\" rx=\"59.0669\" ry=\"18\"/>\n",
       "<text text-anchor=\"middle\" x=\"74.5976\" y=\"-191.4\" font-family=\"Times,serif\" font-size=\"14.00\">Wet Storage</text>\n",
       "</g>\n",
       "<!-- F&#45;&gt;G -->\n",
       "<g id=\"edge6\" class=\"edge\"><title>F&#45;&gt;G</title>\n",
       "<path fill=\"none\" stroke=\"black\" d=\"M74.5976,-266.251C74.5976,-254.125 74.5976,-237.619 74.5976,-223.719\"/>\n",
       "<polygon fill=\"black\" stroke=\"black\" points=\"78.0977,-223.713 74.5976,-213.713 71.0977,-223.713 78.0977,-223.713\"/>\n",
       "<text text-anchor=\"middle\" x=\"104.735\" y=\"-235.8\" font-family=\"Times,serif\" font-size=\"14.00\">Spent Fuel</text>\n",
       "</g>\n",
       "<!-- H -->\n",
       "<g id=\"node8\" class=\"node\"><title>H</title>\n",
       "<ellipse fill=\"none\" stroke=\"black\" cx=\"74.5976\" cy=\"-106.8\" rx=\"57.925\" ry=\"18\"/>\n",
       "<text text-anchor=\"middle\" x=\"74.5976\" y=\"-102.6\" font-family=\"Times,serif\" font-size=\"14.00\">Dry Storage</text>\n",
       "</g>\n",
       "<!-- G&#45;&gt;H -->\n",
       "<g id=\"edge7\" class=\"edge\"><title>G&#45;&gt;H</title>\n",
       "<path fill=\"none\" stroke=\"black\" d=\"M74.5976,-177.451C74.5976,-165.325 74.5976,-148.819 74.5976,-134.919\"/>\n",
       "<polygon fill=\"black\" stroke=\"black\" points=\"78.0977,-134.913 74.5976,-124.913 71.0977,-134.913 78.0977,-134.913\"/>\n",
       "<text text-anchor=\"middle\" x=\"109.404\" y=\"-147\" font-family=\"Times,serif\" font-size=\"14.00\">Cooled SNF</text>\n",
       "</g>\n",
       "<!-- I -->\n",
       "<g id=\"node9\" class=\"node\"><title>I</title>\n",
       "<ellipse fill=\"none\" stroke=\"black\" cx=\"74.5976\" cy=\"-18\" rx=\"53.3302\" ry=\"18\"/>\n",
       "<text text-anchor=\"middle\" x=\"74.5976\" y=\"-13.8\" font-family=\"Times,serif\" font-size=\"14.00\">Repository</text>\n",
       "</g>\n",
       "<!-- H&#45;&gt;I -->\n",
       "<g id=\"edge8\" class=\"edge\"><title>H&#45;&gt;I</title>\n",
       "<path fill=\"none\" stroke=\"black\" d=\"M74.5976,-88.6511C74.5976,-76.5249 74.5976,-60.019 74.5976,-46.119\"/>\n",
       "<polygon fill=\"black\" stroke=\"black\" points=\"78.0977,-46.1132 74.5976,-36.1133 71.0977,-46.1133 78.0977,-46.1132\"/>\n",
       "<text text-anchor=\"middle\" x=\"109.404\" y=\"-58.2\" font-family=\"Times,serif\" font-size=\"14.00\">Cooled SNF</text>\n",
       "</g>\n",
       "</g>\n",
       "</svg>\n"
      ],
      "text/plain": [
       "<graphviz.dot.Digraph at 0x104408ba8>"
      ]
     },
     "execution_count": 13,
     "metadata": {},
     "output_type": "execute_result"
    }
   ],
   "source": [
    "from graphviz import Digraph\n",
    "\n",
    "dot = Digraph(comment='The Round Table')\n",
    "dot.node('A', 'Mine')\n",
    "dot.node('B', 'Mill')\n",
    "dot.node('C', 'Conversion')\n",
    "dot.node('D', 'Enrichment')\n",
    "dot.node('E', 'Fuel Fabrication')\n",
    "dot.node('F', 'Reactor')\n",
    "dot.node('G', 'Wet Storage')\n",
    "dot.node('H', 'Dry Storage')\n",
    "dot.node('I', 'Repository')\n",
    "\n",
    "dot.edge('A', 'B', label='Natural U Ore')\n",
    "dot.edge('B', 'C', label='U3O8')\n",
    "dot.edge('C', 'D', label='UF6')\n",
    "dot.edge('D', 'E', label='Enriched UF6')\n",
    "dot.edge('E', 'F', label='Fresh Fuel')\n",
    "dot.edge('F', 'G', label='Spent Fuel')\n",
    "dot.edge('G', 'H', label='Cooled SNF')\n",
    "dot.edge('H', 'I', label='Cooled SNF')\n",
    "dot"
   ]
  },
  {
   "cell_type": "markdown",
   "metadata": {
    "deletable": true,
    "editable": true
   },
   "source": [
    "## Single Pass or Multi Pass Recycle\n",
    "\n",
    "To add reprocessing or recycling,  and all high level spent nuclear fuel is eventually destined for a geologic repository"
   ]
  },
  {
   "cell_type": "code",
   "execution_count": 14,
   "metadata": {
    "collapsed": false,
    "deletable": true,
    "editable": true
   },
   "outputs": [
    {
     "data": {
      "image/svg+xml": [
       "<?xml version=\"1.0\" encoding=\"UTF-8\" standalone=\"no\"?>\n",
       "<!DOCTYPE svg PUBLIC \"-//W3C//DTD SVG 1.1//EN\"\n",
       " \"http://www.w3.org/Graphics/SVG/1.1/DTD/svg11.dtd\">\n",
       "<!-- Generated by graphviz version 2.38.0 (20140413.2041)\n",
       " -->\n",
       "<!-- Title: %3 Pages: 1 -->\n",
       "<svg width=\"338pt\" height=\"843pt\"\n",
       " viewBox=\"0.00 0.00 338.03 843.20\" xmlns=\"http://www.w3.org/2000/svg\" xmlns:xlink=\"http://www.w3.org/1999/xlink\">\n",
       "<g id=\"graph0\" class=\"graph\" transform=\"scale(1 1) rotate(0) translate(4 839.2)\">\n",
       "<title>%3</title>\n",
       "<polygon fill=\"white\" stroke=\"none\" points=\"-4,4 -4,-839.2 334.028,-839.2 334.028,4 -4,4\"/>\n",
       "<!-- A -->\n",
       "<g id=\"node1\" class=\"node\"><title>A</title>\n",
       "<ellipse fill=\"none\" stroke=\"black\" cx=\"249.962\" cy=\"-817.2\" rx=\"31.339\" ry=\"18\"/>\n",
       "<text text-anchor=\"middle\" x=\"249.962\" y=\"-813\" font-family=\"Times,serif\" font-size=\"14.00\">Mine</text>\n",
       "</g>\n",
       "<!-- B -->\n",
       "<g id=\"node2\" class=\"node\"><title>B</title>\n",
       "<ellipse fill=\"none\" stroke=\"black\" cx=\"249.962\" cy=\"-728.4\" rx=\"27.8442\" ry=\"18\"/>\n",
       "<text text-anchor=\"middle\" x=\"249.962\" y=\"-724.2\" font-family=\"Times,serif\" font-size=\"14.00\">Mill</text>\n",
       "</g>\n",
       "<!-- A&#45;&gt;B -->\n",
       "<g id=\"edge1\" class=\"edge\"><title>A&#45;&gt;B</title>\n",
       "<path fill=\"none\" stroke=\"black\" d=\"M249.962,-799.051C249.962,-786.925 249.962,-770.419 249.962,-756.519\"/>\n",
       "<polygon fill=\"black\" stroke=\"black\" points=\"253.463,-756.513 249.962,-746.513 246.463,-756.513 253.463,-756.513\"/>\n",
       "<text text-anchor=\"middle\" x=\"289.995\" y=\"-768.6\" font-family=\"Times,serif\" font-size=\"14.00\">Natural U Ore</text>\n",
       "</g>\n",
       "<!-- C -->\n",
       "<g id=\"node3\" class=\"node\"><title>C</title>\n",
       "<ellipse fill=\"none\" stroke=\"black\" cx=\"249.962\" cy=\"-639.6\" rx=\"55.6198\" ry=\"18\"/>\n",
       "<text text-anchor=\"middle\" x=\"249.962\" y=\"-635.4\" font-family=\"Times,serif\" font-size=\"14.00\">Conversion</text>\n",
       "</g>\n",
       "<!-- B&#45;&gt;C -->\n",
       "<g id=\"edge2\" class=\"edge\"><title>B&#45;&gt;C</title>\n",
       "<path fill=\"none\" stroke=\"black\" d=\"M249.962,-710.251C249.962,-698.125 249.962,-681.619 249.962,-667.719\"/>\n",
       "<polygon fill=\"black\" stroke=\"black\" points=\"253.463,-667.713 249.962,-657.713 246.463,-667.713 253.463,-667.713\"/>\n",
       "<text text-anchor=\"middle\" x=\"267.069\" y=\"-679.8\" font-family=\"Times,serif\" font-size=\"14.00\">U3O8</text>\n",
       "</g>\n",
       "<!-- D -->\n",
       "<g id=\"node4\" class=\"node\"><title>D</title>\n",
       "<ellipse fill=\"none\" stroke=\"black\" cx=\"249.962\" cy=\"-550.8\" rx=\"56.1782\" ry=\"18\"/>\n",
       "<text text-anchor=\"middle\" x=\"249.962\" y=\"-546.6\" font-family=\"Times,serif\" font-size=\"14.00\">Enrichment</text>\n",
       "</g>\n",
       "<!-- C&#45;&gt;D -->\n",
       "<g id=\"edge3\" class=\"edge\"><title>C&#45;&gt;D</title>\n",
       "<path fill=\"none\" stroke=\"black\" d=\"M249.962,-621.451C249.962,-609.325 249.962,-592.819 249.962,-578.919\"/>\n",
       "<polygon fill=\"black\" stroke=\"black\" points=\"253.463,-578.913 249.962,-568.913 246.463,-578.913 253.463,-578.913\"/>\n",
       "<text text-anchor=\"middle\" x=\"262.407\" y=\"-591\" font-family=\"Times,serif\" font-size=\"14.00\">UF6</text>\n",
       "</g>\n",
       "<!-- E -->\n",
       "<g id=\"node5\" class=\"node\"><title>E</title>\n",
       "<ellipse fill=\"none\" stroke=\"black\" cx=\"249.962\" cy=\"-462\" rx=\"74.6952\" ry=\"18\"/>\n",
       "<text text-anchor=\"middle\" x=\"249.962\" y=\"-457.8\" font-family=\"Times,serif\" font-size=\"14.00\">Fuel Fabrication</text>\n",
       "</g>\n",
       "<!-- D&#45;&gt;E -->\n",
       "<g id=\"edge4\" class=\"edge\"><title>D&#45;&gt;E</title>\n",
       "<path fill=\"none\" stroke=\"black\" d=\"M249.962,-532.651C249.962,-520.525 249.962,-504.019 249.962,-490.119\"/>\n",
       "<polygon fill=\"black\" stroke=\"black\" points=\"253.463,-490.113 249.962,-480.113 246.463,-490.113 253.463,-490.113\"/>\n",
       "<text text-anchor=\"middle\" x=\"289.424\" y=\"-502.2\" font-family=\"Times,serif\" font-size=\"14.00\">Enriched UF6</text>\n",
       "</g>\n",
       "<!-- F -->\n",
       "<g id=\"node6\" class=\"node\"><title>F</title>\n",
       "<ellipse fill=\"none\" stroke=\"black\" cx=\"160.962\" cy=\"-373.2\" rx=\"41.1277\" ry=\"18\"/>\n",
       "<text text-anchor=\"middle\" x=\"160.962\" y=\"-369\" font-family=\"Times,serif\" font-size=\"14.00\">Reactor</text>\n",
       "</g>\n",
       "<!-- E&#45;&gt;F -->\n",
       "<g id=\"edge5\" class=\"edge\"><title>E&#45;&gt;F</title>\n",
       "<path fill=\"none\" stroke=\"black\" d=\"M206.244,-447.403C195.27,-442.205 184.382,-435.228 176.472,-426 170.5,-419.033 166.828,-409.834 164.569,-401.123\"/>\n",
       "<polygon fill=\"black\" stroke=\"black\" points=\"167.985,-400.358 162.514,-391.285 161.133,-401.79 167.985,-400.358\"/>\n",
       "<text text-anchor=\"middle\" x=\"206.708\" y=\"-413.4\" font-family=\"Times,serif\" font-size=\"14.00\">Fresh Fuel</text>\n",
       "</g>\n",
       "<!-- G -->\n",
       "<g id=\"node7\" class=\"node\"><title>G</title>\n",
       "<ellipse fill=\"none\" stroke=\"black\" cx=\"151.962\" cy=\"-284.4\" rx=\"59.0669\" ry=\"18\"/>\n",
       "<text text-anchor=\"middle\" x=\"151.962\" y=\"-280.2\" font-family=\"Times,serif\" font-size=\"14.00\">Wet Storage</text>\n",
       "</g>\n",
       "<!-- F&#45;&gt;G -->\n",
       "<g id=\"edge6\" class=\"edge\"><title>F&#45;&gt;G</title>\n",
       "<path fill=\"none\" stroke=\"black\" d=\"M159.184,-355.051C157.927,-342.925 156.216,-326.419 154.774,-312.519\"/>\n",
       "<polygon fill=\"black\" stroke=\"black\" points=\"158.25,-312.099 153.737,-302.513 151.287,-312.821 158.25,-312.099\"/>\n",
       "<text text-anchor=\"middle\" x=\"188.1\" y=\"-324.6\" font-family=\"Times,serif\" font-size=\"14.00\">Spent Fuel</text>\n",
       "</g>\n",
       "<!-- H -->\n",
       "<g id=\"node8\" class=\"node\"><title>H</title>\n",
       "<ellipse fill=\"none\" stroke=\"black\" cx=\"57.9625\" cy=\"-195.6\" rx=\"57.925\" ry=\"18\"/>\n",
       "<text text-anchor=\"middle\" x=\"57.9625\" y=\"-191.4\" font-family=\"Times,serif\" font-size=\"14.00\">Dry Storage</text>\n",
       "</g>\n",
       "<!-- G&#45;&gt;H -->\n",
       "<g id=\"edge7\" class=\"edge\"><title>G&#45;&gt;H</title>\n",
       "<path fill=\"none\" stroke=\"black\" d=\"M105.585,-273.007C91.7766,-267.769 77.8203,-259.967 68.3489,-248.4 62.7305,-241.539 59.8745,-232.471 58.4957,-223.842\"/>\n",
       "<polygon fill=\"black\" stroke=\"black\" points=\"61.9591,-223.305 57.4601,-213.713 54.9954,-224.017 61.9591,-223.305\"/>\n",
       "<text text-anchor=\"middle\" x=\"103.769\" y=\"-235.8\" font-family=\"Times,serif\" font-size=\"14.00\">Cooled SNF</text>\n",
       "</g>\n",
       "<!-- Z -->\n",
       "<g id=\"node10\" class=\"node\"><title>Z</title>\n",
       "<ellipse fill=\"none\" stroke=\"black\" cx=\"184.962\" cy=\"-106.8\" rx=\"63.1209\" ry=\"18\"/>\n",
       "<text text-anchor=\"middle\" x=\"184.962\" y=\"-102.6\" font-family=\"Times,serif\" font-size=\"14.00\">Reprocessing</text>\n",
       "</g>\n",
       "<!-- G&#45;&gt;Z -->\n",
       "<g id=\"edge10\" class=\"edge\"><title>G&#45;&gt;Z</title>\n",
       "<path fill=\"none\" stroke=\"black\" d=\"M153.645,-266.063C155.842,-245.015 160.154,-208.498 166.349,-177.6 169.228,-163.24 173.354,-147.456 176.99,-134.536\"/>\n",
       "<polygon fill=\"black\" stroke=\"black\" points=\"180.369,-135.447 179.768,-124.87 173.642,-133.514 180.369,-135.447\"/>\n",
       "<text text-anchor=\"middle\" x=\"201.769\" y=\"-191.4\" font-family=\"Times,serif\" font-size=\"14.00\">Cooled SNF</text>\n",
       "</g>\n",
       "<!-- I -->\n",
       "<g id=\"node9\" class=\"node\"><title>I</title>\n",
       "<ellipse fill=\"none\" stroke=\"black\" cx=\"79.9625\" cy=\"-18\" rx=\"53.3302\" ry=\"18\"/>\n",
       "<text text-anchor=\"middle\" x=\"79.9625\" y=\"-13.8\" font-family=\"Times,serif\" font-size=\"14.00\">Repository</text>\n",
       "</g>\n",
       "<!-- H&#45;&gt;I -->\n",
       "<g id=\"edge8\" class=\"edge\"><title>H&#45;&gt;I</title>\n",
       "<path fill=\"none\" stroke=\"black\" d=\"M51.6906,-177.536C44.8326,-156.451 35.7643,-119.587 43.3489,-88.8 47.1945,-73.1901 55.2216,-57.2071 62.7824,-44.481\"/>\n",
       "<polygon fill=\"black\" stroke=\"black\" points=\"65.8439,-46.1853 68.1389,-35.842 59.8946,-42.4965 65.8439,-46.1853\"/>\n",
       "<text text-anchor=\"middle\" x=\"78.7693\" y=\"-102.6\" font-family=\"Times,serif\" font-size=\"14.00\">Cooled SNF</text>\n",
       "</g>\n",
       "<!-- H&#45;&gt;Z -->\n",
       "<g id=\"edge9\" class=\"edge\"><title>H&#45;&gt;Z</title>\n",
       "<path fill=\"none\" stroke=\"black\" d=\"M57.1339,-177.205C57.5447,-166.067 59.9512,-152.024 68.3489,-142.8 72.8519,-137.854 101.41,-129.243 129.136,-121.799\"/>\n",
       "<polygon fill=\"black\" stroke=\"black\" points=\"130.096,-125.166 138.867,-119.223 128.304,-118.399 130.096,-125.166\"/>\n",
       "<text text-anchor=\"middle\" x=\"104.769\" y=\"-147\" font-family=\"Times,serif\" font-size=\"14.00\">Cooled SNF</text>\n",
       "</g>\n",
       "<!-- Z&#45;&gt;E -->\n",
       "<g id=\"edge11\" class=\"edge\"><title>Z&#45;&gt;E</title>\n",
       "<path fill=\"none\" stroke=\"black\" d=\"M206.969,-123.742C225.826,-139.423 249.962,-165.231 249.962,-194.6 249.962,-374.2 249.962,-374.2 249.962,-374.2 249.962,-393.979 249.962,-416.292 249.962,-433.343\"/>\n",
       "<polygon fill=\"black\" stroke=\"black\" points=\"246.463,-433.708 249.962,-443.708 253.463,-433.708 246.463,-433.708\"/>\n",
       "<text text-anchor=\"middle\" x=\"257.354\" y=\"-280.2\" font-family=\"Times,serif\" font-size=\"14.00\">Pu</text>\n",
       "</g>\n",
       "<!-- Z&#45;&gt;E -->\n",
       "<g id=\"edge12\" class=\"edge\"><title>Z&#45;&gt;E</title>\n",
       "<path fill=\"none\" stroke=\"black\" d=\"M227.169,-120.333C260.337,-133.09 300.962,-156.494 300.962,-194.6 300.962,-374.2 300.962,-374.2 300.962,-374.2 300.962,-397.567 287.053,-420.202 273.762,-436.495\"/>\n",
       "<polygon fill=\"black\" stroke=\"black\" points=\"270.82,-434.548 266.945,-444.408 276.123,-439.116 270.82,-434.548\"/>\n",
       "<text text-anchor=\"middle\" x=\"306.016\" y=\"-280.2\" font-family=\"Times,serif\" font-size=\"14.00\">U</text>\n",
       "</g>\n",
       "<!-- Z&#45;&gt;I -->\n",
       "<g id=\"edge13\" class=\"edge\"><title>Z&#45;&gt;I</title>\n",
       "<path fill=\"none\" stroke=\"black\" d=\"M165.213,-89.4736C148.831,-75.931 125.365,-56.5326 107.198,-41.5149\"/>\n",
       "<polygon fill=\"black\" stroke=\"black\" points=\"109.206,-38.6338 99.2689,-34.9599 104.746,-44.0291 109.206,-38.6338\"/>\n",
       "<text text-anchor=\"middle\" x=\"149.745\" y=\"-58.2\" font-family=\"Times,serif\" font-size=\"14.00\">FP</text>\n",
       "</g>\n",
       "</g>\n",
       "</svg>\n"
      ],
      "text/plain": [
       "<graphviz.dot.Digraph at 0x104408ba8>"
      ]
     },
     "execution_count": 14,
     "metadata": {},
     "output_type": "execute_result"
    }
   ],
   "source": [
    "dot.node('Z', 'Reprocessing')\n",
    "dot.edge('H', 'Z', label='Cooled SNF')\n",
    "dot.edge('G', 'Z', label='Cooled SNF')\n",
    "dot.edge('Z', 'E', label='Pu')\n",
    "dot.edge('Z', 'E', label='U')\n",
    "dot.edge('Z', 'I', label='FP')\n",
    "\n",
    "\n",
    "\n",
    "dot"
   ]
  },
  {
   "cell_type": "markdown",
   "metadata": {
    "collapsed": false,
    "deletable": true,
    "editable": true
   },
   "source": [
    "## Wrap-up\n",
    "\n",
    "- Reactors of various types can be distinguished by neutron speed, coolant type, fuel type, size, and generation.\n",
    "- A once through fuel cycle, like that in the US, is identifiable by the immediate storage and ultimate disposal of all spent fuel.\n",
    "- Single and multi pass recycling schemes can be called \"closed\" fuel cycles. These involve separations and reprocessing."
   ]
  },
  {
   "cell_type": "markdown",
   "metadata": {
    "deletable": true,
    "editable": true
   },
   "source": [
    "## References\n",
    "\n",
    "This section was developed to complement chapter 1 of [1]. In reference [2] you'll find a video concerning the front end of the fuel cycle that's pretty fun, 5 minutes, and actually quite accurate. \n",
    "\n",
    "[1] N. Tsoulfanidis, The Nuclear Fuel Cycle. La Grange Park, Illinois, USA: American Nuclear Society, 2013.\n",
    "\n",
    "[2] D. News. How Uranium Becomes Nuclear Fuel. https://www.youtube.com/watch?v=apODDbgFFPI. 2015.\n"
   ]
  },
  {
   "cell_type": "code",
   "execution_count": null,
   "metadata": {
    "collapsed": true,
    "deletable": true,
    "editable": true
   },
   "outputs": [],
   "source": []
  }
 ],
 "metadata": {
  "anaconda-cloud": {},
  "kernelspec": {
   "display_name": "Python 3",
   "language": "python",
   "name": "python3"
  },
  "language_info": {
   "codemirror_mode": {
    "name": "ipython",
    "version": 3
   },
   "file_extension": ".py",
   "mimetype": "text/x-python",
   "name": "python",
   "nbconvert_exporter": "python",
   "pygments_lexer": "ipython3",
   "version": "3.5.2"
  }
 },
 "nbformat": 4,
 "nbformat_minor": 0
}

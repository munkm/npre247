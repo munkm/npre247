{
 "cells": [
  {
   "cell_type": "markdown",
   "metadata": {
    "deletable": true,
    "editable": true
   },
   "source": [
    "# Nuclear Energetics\n",
    "\n",
    "## Learning Objectives\n",
    "\n",
    "- Define: exothermic and endothermic reactions\n",
    "- Differentiate exothermic and endothermic reactions\n",
    "- Calculate binding energies\n",
    "- Recognize the noation for various binary reactions\n",
    "- Recognize the physics in common binary reactions\n",
    "- Define the relationship between the Q value, mass, and energy in a reaction\n",
    "- Explain the role of energy conservation in binary reactions\n",
    "- Explain the role of charge conservation in binary reactions\n",
    "- Calculate Q values for various reactions\n"
   ]
  },
  {
   "cell_type": "markdown",
   "metadata": {
    "deletable": true,
    "editable": true
   },
   "source": [
    "## Endothermic and Exothermic Reactions\n",
    "\n",
    "In any reaction (nuclear, mechanical, chemical) energy can be either emitted or absorbed.\n",
    "\n",
    "- When energy is emitted by the reaction, this is called **_exothermic_**.\n",
    "- When energy is absorbed into the reaction, this is called **_endothermic_**.\n",
    "\n",
    "If we consider the energy in relation to mass via Einstein's equivalence, then it's very clear that a change in the mass of reactants will result in a change in energy ($\\Delta E = \\Delta M c^2$).\n",
    "\n",
    "\\begin{align}\n",
    "\\mbox{reactants} &\\rightarrow \\mbox{products}\\\\\n",
    "A + B + \\cdots &\\rightarrow C + D + \\cdots\\\\\n",
    "\\Delta M = (M_A + M_B + \\cdots) &- (M_C + M_D + \\cdots)\\\\\n",
    "\\implies \\Delta E &= \\left[(M_A + M_B + \\cdots) - (M_C + M_D + \\cdots)\\right]c^2\\\\\n",
    "\\end{align}\n",
    "\n",
    "![https://bam.files.bbci.co.uk/bam/live/content/z23jtfr/large](https://bam.files.bbci.co.uk/bam/live/content/z23jtfr/large)\n",
    "![https://bam.files.bbci.co.uk/bam/live/content/zmbqhyc/large](https://bam.files.bbci.co.uk/bam/live/content/zmbqhyc/large)\n",
    "<center>(credit: BBC)</center>"
   ]
  },
  {
   "cell_type": "markdown",
   "metadata": {
    "collapsed": true,
    "deletable": true,
    "editable": true
   },
   "source": [
    "## Exercise: Think-pair-share\n",
    "\n",
    "Which of the following are exothermic and which are endothermic?\n",
    "\n",
    "Easy ones:\n",
    "\n",
    "- Boiling Water\n",
    "- Lighting a match\n",
    "- Freezing an ice cube\n",
    "- Melting an ice cube\n",
    "- Snow formation in the clouds\n",
    "- Conversion of frost to water vapor on the grass\n",
    "\n",
    "Harder ones: \n",
    "- Formation of ion pairs (exothermic)\n",
    "- Separation of ion pairs (endothermic)\n",
    "\n",
    "The most important one:\n",
    "- nuclear fission"
   ]
  },
  {
   "cell_type": "markdown",
   "metadata": {
    "deletable": true,
    "editable": true
   },
   "source": [
    "# Binding Energy\n",
    "\n",
    "For ease, let's imagine just two reactants and one product.\n",
    "\n",
    "\\begin{align}\n",
    "\\mbox{reactants} &\\rightarrow \\mbox{products}\\\\\n",
    "A + B &\\rightarrow C \\\\\n",
    "\\Delta M = (mass(A) + mass(B)) &- (mass(C))\\\\\n",
    "\\implies \\Delta E &= \\left[(mass(A) + mass(B) - (mass(C))\\right]c^2\\\\\n",
    "&= BE\n",
    "\\end{align}\n",
    "\n",
    "## Nuclear and Atomic Masses\n",
    "\n",
    "\\begin{align} \n",
    "M\\left(^A_ZX\\right) &= \\mbox{rest mass of an atom}\\\\\n",
    "m\\left(^A_ZX\\right) &= \\mbox{rest mass of its nucleus}\n",
    "\\end{align}\n",
    "\n",
    "All Z electrons must be bound to the atom, so the atomic and nuclear masses have the following relationship:\n",
    "\n",
    "\\begin{align} \n",
    "M\\left(^A_ZX\\right) &=m\\left(^A_ZX\\right) + Zm_e - \\frac{BE_{Ze}}{c^2}\n",
    "\\end{align}\n",
    "\n",
    "Your book points out that it requires 13.6 eV to ionize the hydrogen atom. This electron binding energy represents a mass change of $BE_{1e/c^2} = 13.6 (eV)/9.315 \\times 10^8 (eV/u) = 1.4 \\times 10^{−8} u$."
   ]
  },
  {
   "cell_type": "markdown",
   "metadata": {
    "deletable": true,
    "editable": true
   },
   "source": [
    "## Binding Energy of the nucleus\n",
    "\n",
    "A nucleus, with Z protons and N=A-Z neutrons will have a formation reaction that looks like:\n",
    "\n",
    "\\begin{align}\n",
    "Z \\mbox{ protons } + (A − Z) \\mbox{ neutrons }\\rightarrow \\mbox{ nucleus}\\left(^A_ZX\\right) + BE.\n",
    "\\end{align}\n",
    "\n",
    "It can be helpful to define the term $BE/c^2$:\n",
    "\n",
    "\\begin{align}\n",
    "\\frac{BE}{c^2} &=Zm_p +(A−Z)m_n − m\\left(^A_ZX\\right)\\\\\n",
    "\\end{align}\n",
    "\n",
    "We can arrive at the nuclear binding energy from this:\n",
    "\n",
    "\n",
    "\\begin{align}\n",
    "BE\\left(^A_ZX\\right) = \\left[ZM(\\left(^1_1H\\right) + (A-Z)m_n - M\\left(^A_ZX\\right)\\right]c^2\n",
    "\\end{align}\n",
    "\n",
    "The above equation neglects the electron binding energies because:\n",
    "- the terms tend to cancel\n",
    "- electron binding energies are millions of times smaller than the nuclear binding energy. "
   ]
  },
  {
   "cell_type": "markdown",
   "metadata": {
    "deletable": true,
    "editable": true
   },
   "source": [
    "### Exercise: Nuclear binding energy \n",
    "\n",
    "From your book, example 4.1: What is the binding energy of an alpha particle?\n",
    "\n",
    "\\begin{align}\n",
    "\\frac{BE}{c^2} &=Zm_p +(A−Z)m_n − m\\left(^A_ZX\\right)\\\\\n",
    "\\implies\\frac{BE}{c^2} &=\\left[ZM(\\left(^1_1H\\right) + (A-Z)m_n - M\\left(^A_ZX\\right)\\right]\\\\\n",
    " &=\\left[2M(\\left(^1_1H\\right) + 2m_n - M\\left(^4_2He\\right)\\right]\\\\\n",
    " &=\\left[2\\left(1.0078250\\right) + 2\\left(1.0086649\\right) - 4.0026032\\right]\\\\\n",
    "\\end{align}\n",
    "\n",
    "Thus:\n",
    "\n",
    "\\begin{align}\n",
    "BE\\left(^4_2 He\\right) &= \\frac{BE}{c^2}\\times 931.5 (MeV/u) \\\\\n",
    "&= 28.30 MeV.\n",
    "\\end{align}"
   ]
  },
  {
   "cell_type": "markdown",
   "metadata": {
    "deletable": true,
    "editable": true
   },
   "source": [
    "## Binding Energy per nucleon\n",
    "\n",
    "The BE/A versus A curve immediately suggests two ways to extract energy from the nucleus.\n",
    "\n",
    "\n",
    "![https://upload.wikimedia.org/wikipedia/commons/thumb/5/53/Binding_energy_curve_-_common_isotopes.svg/671px-Binding_energy_curve_-_common_isotopes.svg.png](https://upload.wikimedia.org/wikipedia/commons/thumb/5/53/Binding_energy_curve_-_common_isotopes.svg/671px-Binding_energy_curve_-_common_isotopes.svg.png)\n",
    "Binding energy curve **(average binding energy per nucleon in MeV against number of nucleons in nucleus)** for a number of relatively common (abundant) isotopes (not chosen systematically; almost anything with an occurence of over .2 was chosen though a few exceptions are in there, such as U235). A few important ones for the purposes of nuclear fusion and nuclear fission are marked, as well as iron-56, which sits at the highest point on this graph and cannot yield energy from fusion or fission.\n",
    "\n",
    "From your book (Shultis and Faw)\n",
    "\n",
    "> Most isotopes of an element are radioactive, i.e., their nuclei are unstable. To better understand what makes a nucleus stable, it is instructive to plot the BE per nucleon, BE/A, of all the isotopes of an element. For example, if one calculates the BE/A for all the isotopes of calcium (Z = 20), as is done in Example 4.2 for one isotope, and plots BE/A versus the neutron number N, a plot like that shown in Fig. 4.2 is obtained. The BE/A rapidly rises as N increase from A = 14 and reaches a broad maximum before rapidly decreasing as N increases above 30. It is in the broad maximum where the BE/A is highest that one finds the stable isotopes. The reason for the zig-zag shape in the maximum region is due to the fact that an isotope with an even number of neutrons tends to have a higher BE/A compared\n",
    "\n",
    "### Fusion\n",
    "\n",
    "**Two light nuclei $\\longrightarrow$ one heavy nucleus**\n",
    "\n",
    "\\begin{align}\n",
    "^{2}_1H + ^2_1H \\longrightarrow ^{4}_2He\n",
    "\\end{align}\n",
    "\n",
    "\n",
    "### Fission\n",
    "**One heavy nucleus $\\longrightarrow$ two lighter nuclei**\n",
    "\n",
    "\\begin{align}\n",
    "^{235}_{92}U + ^1_0n \\longrightarrow \\left(^{236}_{92}U\\right)^*  \\longrightarrow ^{139}_{56}Ba +  ^{94}_{36}Kr + 3^1_0n\n",
    "\\end{align}\n",
    "\n",
    "<a title=\"JWB at en.wikipedia [CC BY 3.0 \n",
    " (https://creativecommons.org/licenses/by/3.0\n",
    ") or GFDL (http://www.gnu.org/copyleft/fdl.html)], via Wikimedia Commons\" href=\"https://commons.wikimedia.org/wiki/File:ThermalFissionYield.svg\"><img width=\"512\" alt=\"ThermalFissionYield\" src=\"https://upload.wikimedia.org/wikipedia/commons/thumb/6/68/ThermalFissionYield.svg/512px-ThermalFissionYield.svg.png\"></a>\n"
   ]
  },
  {
   "cell_type": "markdown",
   "metadata": {
    "deletable": true,
    "editable": true
   },
   "source": [
    "## Nucleon Separation Energy\n",
    "\n",
    "The energy required to remove a single nucleon from a nucleus is called \"separation energy\". Consider the addition of a single neutron to form the nucleus of $^A_ZX$, i.e.,\n",
    "\n",
    "\\begin{align}\n",
    "^{A-1}_ZX + ^1_0n \\rightarrow ^{A}_ZX.\n",
    "\\end{align}\n",
    "\n",
    "$S_n\\left(^A_ZX\\right)$ is the energy released in this reaction and is equivalent to the energy required to remove (or separate) a single neutron from the nucleus $^A_ZX$. \n",
    "\n",
    "\\begin{align}\n",
    "S_n\\left(^A_ZX\\right) &= [m\\left(^{A-1}_ZX\\right) + m_n − m\\left(^{A}_ZX\\right)]c^2 \\\\\n",
    " &\\simeq [M\\left(^{A-1}_ZX\\right) + m_n − M\\left(^{A}_ZX\\right)]c^2.\t\n",
    "\\end{align}\n",
    "\n",
    "If we make the substition for nuclear binding energy:\n",
    "\n",
    "\n",
    "\\begin{align}\n",
    "BE\\left(^A_ZX\\right) = \\left[ZM(\\left(^1_1H\\right) + (A-Z)m_n - M\\left(^A_ZX\\right)\\right]c^2\n",
    "\\end{align}\n",
    "\n",
    "\n",
    "We can arrive at the separation energy:\n",
    "\n",
    "\\begin{align}\n",
    "S_n\\left(^A_ZX\\right) &= BE\\left(^A_ZX\\right) - BE\\left(^{A-1}_ZX\\right)\n",
    "\\end{align}"
   ]
  },
  {
   "cell_type": "markdown",
   "metadata": {
    "deletable": true,
    "editable": true
   },
   "source": [
    "## Exercise: Nucleon Separation Energy\n",
    "(Example 4.3 in Shultis and Faw)\n",
    "\n",
    "What is the binding energy of the last neutron in $^{16}_8O$? This is the energy released in the reaction: \n",
    "\\begin{align}\n",
    "^{15}_8O + ^1_0n \\rightarrow ^{16}_8O\n",
    "\\end{align}\n",
    "\n",
    "So, we can use the equation above and plug in the mass values we can find in the book appendix.\n",
    "\n",
    "\\begin{align}\n",
    "S_n\\left(^{A}_ZX\\right) &= [m\\left(^{A-1}_ZX\\right) + m_n − m\\left(^{A}_ZX\\right)]c^2 \\\\\n",
    " &\\simeq [M\\left(^{A-1}_ZX\\right) + m_n − M\\left(^{A}_ZX\\right)]c^2\\\\\t\n",
    "\\implies S_n &= [m\\left(^{15}_8O\\right) + m_n − m\\left(^{16}_8O\\right)]c^2 \\\\\n",
    " &\\simeq [M\\left(^{15}_8X\\right) + m_n − M\\left(^{16}_8X\\right)]c^2\\\\\n",
    " &=[15.0030654 + 1.00866492 − 15.9949146] u \\times 931.5 MeV/u\\\\\n",
    " &= 15.66 MeV.\n",
    "\\end{align}\n",
    "\n",
    "This is a very high value for a single nucleon. \n",
    "\n",
    "### Think-Pair-Share\n",
    "\n",
    "What does this high value mean about the comparative stability of $^{16}_8O$ and $^{15}_8O$?"
   ]
  },
  {
   "cell_type": "markdown",
   "metadata": {
    "deletable": true,
    "editable": true
   },
   "source": [
    "### $S_p$\n",
    "\n",
    "The equation for the separation energy of the proton is very similar to the separation energy of the neutron.\n",
    "\n",
    "\\begin{align}\n",
    "S_p\\left(^{A}_ZX\\right) &= [m\\left(^{A-1}_{Z-1}X\\right) + m_p − m\\left(^{A}_ZX\\right)]c^2 \\\\\n",
    " &\\simeq [M\\left(^{A-1}_{Z-1}X\\right) + M\\left(^1_1H\\right) − M\\left(^{A}_ZX\\right)]c^2\\\\\t\n",
    "\\end{align}\n"
   ]
  },
  {
   "cell_type": "markdown",
   "metadata": {
    "deletable": true,
    "editable": true
   },
   "source": [
    "## Exercise: $BE_e$ in $^1_1H$\n",
    "\n",
    "A problem example from Shultis and Faw follows below.\n",
    "\n",
    "**Energies of chemical reactions can typically not be calculated by finding the difference between the masses of the reactants and the products because the mass must be known to 10 or more significant figures.**\n",
    "\n",
    "However, the mass of the proton and hydrogen atom are known to 10 significant figures. Let's estimate the binding energy of the electron $BE_e$ in the $^1_1H$ atom and compare this result to what the Bohr model predicts. \n",
    "\n",
    "\n",
    "\n",
    "Discuss this comparison.\n"
   ]
  },
  {
   "cell_type": "markdown",
   "metadata": {
    "deletable": true,
    "editable": true
   },
   "source": [
    "The binding energy reaction can be written as\n",
    "\n",
    "\\begin{align}\n",
    "^{1}_1p + ^0_{-1}e \\rightarrow ^{1}_1H + BE_e \n",
    "\\end{align}\n",
    "\n",
    "We use mass values found in Table A.1 and Appendix B to find the binding energy:\n",
    "\n",
    "\n",
    "\\begin{align}\n",
    "BE_e &= \\left[m_p + m_e - M\\left(^1_1H\\right)\\right]\\left(u\\right) \\times 931.5(MeV/u)\\\\\n",
    " &= \\left[1.0072764669 + 5.48579909\\times 10^{-4} - 1.0078250321\\right]\\left(u\\right) \\times 931.5(MeV/u)\\\\\n",
    "&= 1.3887 \\times 10^{−5} MeV\\\\\n",
    "&= \\boxed{13.887 eV}.\n",
    "\\end{align}\n",
    "\n",
    "Recall that $BE_e = 13.606 eV$. Although the estimate of 13.887 is correct to 2 significant figures. To get a better estimate, the proton and hydrogen atomic masses must be known to at least 13 significant figures, an accuracy beyond present day technology.\n"
   ]
  },
  {
   "cell_type": "markdown",
   "metadata": {
    "collapsed": true,
    "deletable": true,
    "editable": true
   },
   "source": [
    "## Binary Nuclear Reactions\n",
    "\n",
    "We will refer to the reaction $x+X\\longrightarrow Y+ y$ as :\n",
    "\n",
    "\\begin{align}\n",
    "(x, y)\n",
    "\\end{align}\n",
    "\n",
    "which is shorthand for $X(x,y)Y$. The very long form of this reaction is:\n",
    "\n",
    "\n",
    "\\begin{align}\n",
    "^{A}_{Z}X + ^{A}_{Z}x \\longrightarrow ^{A}_{Z}Y + ^{A}_{Z}y\n",
    "\\end{align}\n",
    "\n",
    "\n",
    "\n",
    "### $(\\alpha, p)$\n",
    "\n",
    "This  was first seen in air by Rutherford. Protons were produced when alpha particles were absorbed by nitrogen in the air to make oxygen. That example follows.\n",
    "\n",
    "\\begin{align}\n",
    "^{4}_{2}He + ^{14}_{7}N \\longrightarrow ^{17}_{8}O + ^{1}_{1}H\n",
    "\\end{align}\n",
    "\n",
    "### $(\\alpha, n)$\n",
    "\n",
    "This  was first seen with beryllium by Chadwick. Neutrons were produced when alpha particles were absorbed by beryllium in the air to make carbon. That example follows.\n",
    "\n",
    "\n",
    "\\begin{align}\n",
    "^{4}_{2}He + ^{9}_{4}Be \\longrightarrow ^{12}_{6}C + ^{1}_{0}n\n",
    "\\end{align}\n",
    "\n",
    "\n",
    "\n",
    "### $(\\gamma, n)$\n",
    "\n",
    "Neutrons can also be produced when very energetic photons strike a nucleus. An example follows.\n",
    "\n",
    "\\begin{align}\n",
    "^\\gamma + ^{2}_{1}H \\longrightarrow ^{1}_{1}H + ^{1}_{0}n\n",
    "\\end{align}\n",
    "\n",
    "\n",
    "\n",
    "### $(p, \\gamma)$\n",
    "\n",
    "This is typically called \"radiative capture\" of a proton.  An example follows.\n",
    "\n",
    "\\begin{align}\n",
    "^{1}_{1}H + ^{7}_{3}Li \\longrightarrow ^{8}_{4}Be + \\gamma\n",
    "\\end{align}\n",
    "\n",
    "Interestingly, in this example, the resulting beryllium nucleus is poorly bound and becomes two alphas.\n",
    "\n",
    "\n",
    "\n",
    "\n",
    "### $(\\gamma, \\alpha n)$\n",
    "\n",
    "Sometimes, more than two products can be produced. An example follows.\n",
    "\n",
    "\\begin{align}\n",
    "\\gamma + ^{17}_{8}O \\longrightarrow ^{12}_{6}C + ^{4}_{2}He + ^{1}_{0}n\n",
    "\\end{align}\n",
    "\n",
    "\n",
    "\n",
    "\n",
    "### $(n, p)$\n",
    "\n",
    "Fast neutrons are very common in nculear reactor cores and can produce liberate protons.  An example follows.\n",
    "\n",
    "\\begin{align}\n",
    "^{1}_{0}n + ^{16}_{8}O \\longrightarrow ^{16}_{7}N + ^{1}_{1}p\n",
    "\\end{align}\n",
    "\n",
    "\n",
    "### $(n, \\gamma)$\n",
    "\n",
    "Most free neutrons in a reactor are fated to be radiatively captured.\n",
    "\n",
    "\\begin{align}\n",
    "^{1}_{0}n + ^{238}_{92}U \\longrightarrow ^{239}_{92}U + \\gamma\n",
    "\\end{align}\n",
    "\n",
    "\n",
    "\n"
   ]
  },
  {
   "cell_type": "markdown",
   "metadata": {
    "deletable": true,
    "editable": true
   },
   "source": [
    "## Q-Value For a Reaction\n",
    "\n",
    "Energy is conserved in nuclear reactions. Specifically, the _total energy_ is conserved.\n",
    "\n",
    "The total energy, recall, includes rest mass energy as well as kinetic energy.\n",
    "\n",
    "\\begin{align}\n",
    "\\sum_i \\left[E_i + m_ic^2\\right] &= \\sum_i\\left[E'_i + m'_ic^2\\right]\\\\\n",
    "\\mbox{where }&\\\\\n",
    "E_i &= \\mbox{the kinetic energy of the ith initial particle }\\\\\n",
    "E'_i &=\\mbox{the kinetic energy of the ith final particle }\\\\\n",
    "m_i &= \\mbox{rest mass of the ith initial particle}\\\\\n",
    "m'_i &= \\mbox{rest mass of the ith final particle}\\\\\n",
    "\\end{align}\n",
    "\n",
    "Changes in kinetic energy between the initial and final states must be balanced by equivalent changes in total rest mass. **The Q-value is the kinetic energy gained in the reaction.**\n",
    "\n",
    "\n",
    "\\begin{align}\n",
    "Q &= (\\mbox{KE of final particles}) − (\\mbox{KE of initial particles})\\\\\n",
    " &= \\left(\\sum_iE'_i\\right) − \\left(\\sum_iE_i\\right) \\\\\n",
    "\\end{align}\n",
    "\n",
    "**The Q-value is equivalently the rest mass energy lost in the reaction.**\n",
    "\n",
    "\\begin{align}\n",
    "Q &= (\\mbox{rest mass of initial particles})c^2 − (\\mbox{rest mass of final particles})c^2\\\\\n",
    "  &= \\left(\\sum_im_i\\right)c^2 − \\left(\\sum_im'_i\\right)c^2 \\\\\n",
    "\\end{align}\n",
    "\n",
    "### Think-pair-share: Exothermic or Endothermic\n",
    "\n",
    "If $Q<0$, is the reaction exothermic or endothermic?\n"
   ]
  },
  {
   "cell_type": "markdown",
   "metadata": {
    "deletable": true,
    "editable": true
   },
   "source": [
    "### Q-value in binary reactions\n",
    "\n",
    "For an $X(x, y)Y$ reaction: \n",
    "\n",
    "\\begin{align}\n",
    "Q &= \\left(E_y + E_Y \\right) − \\left(E_x + E_X\\right) \\\\\n",
    "  &= \\left( m_x + m_X\\right)c^2 − \\left( m_y + m_Y\\right)c^2 \\\\\n",
    "\\end{align}\n",
    "\n",
    "**If proton numbers (and therefore electron masses) are conserved,** we can use the neutral atom masses and simplify this to:\n",
    "\n",
    "\\begin{align}\n",
    "Q &= \\left(E_y + E_Y \\right) − \\left(E_x + E_X\\right) \\\\\n",
    "  &= \\left( M_x + M_X\\right)c^2 − \\left( M_y + M_Y\\right)c^2 \\\\\n",
    "\\end{align}"
   ]
  },
  {
   "cell_type": "markdown",
   "metadata": {
    "deletable": true,
    "editable": true
   },
   "source": [
    "### Q-value in decay reactions\n",
    "For a radioactive decay reaction:\n",
    "\n",
    "\\begin{align}\n",
    "X\\longrightarrow Y+ y\n",
    "\\end{align}\n",
    "\n",
    "The corresponding Q-value is:\n",
    "\\begin{align}\n",
    "Q&=(E_y +E_Y)\\\\\n",
    "&=[m_X −(m_y +m_Y )]c^2 \\\\\n",
    "\\end{align}\n",
    "\n",
    "Note that radioactive decay, being spontaneous, is **always exothermic**. So, $Q>0$ for all decay reactions. \n",
    "\n",
    "### Think-pair-share\n",
    "\n",
    "- Can we make the same simplification as above for all decay reactions? \n",
    "- If yes, why?\n",
    "- If not, why not?"
   ]
  },
  {
   "cell_type": "markdown",
   "metadata": {
    "deletable": true,
    "editable": true
   },
   "source": [
    "### Total Charge Conservation\n",
    "\n",
    "Charge is always conserved in nuclear reactions. Thus, we might get into trouble with reactions that drive a change in electron number. The mass of the electron should be managed carefully in these cases. In an $n, p$ reaction, a proton is ejected from the nucleus by the incident neutron. During this process, an orbital electron is usually also lost from the resulting product atom.  Thus, we must include an extra electron in the equation. \n",
    "\n",
    "**Does the electron $_{-1}^0e$ belong on the right hand side (products) or the left hand side (reactants) of the following reaction?**\n",
    "\n",
    "\\begin{align}\n",
    "^1_0n + ^{16}_8O \\longrightarrow ^{16}_7N + ^1_1p\n",
    "\\end{align}\n",
    "\n"
   ]
  },
  {
   "cell_type": "markdown",
   "metadata": {
    "deletable": true,
    "editable": true
   },
   "source": [
    "### Special case for changing proton number\n",
    "\n",
    "The above procedure is further complicated in cases when the number of protons and the number of neutrons are not conserved. These reactions involve the nuclear weak force.\n",
    "\n",
    "**The nuclear _weak force_ alters neutrons into protons and vice versa, usually inside the nucleus.**\n",
    "\n",
    "The details are provided in an example in your book. Effectively, the neutrinos which moderate this reaction must be considered among the products and reactants."
   ]
  },
  {
   "cell_type": "markdown",
   "metadata": {
    "deletable": true,
    "editable": true
   },
   "source": [
    "## Special case for exited products\n",
    "\n",
    "Many of the reactions we're  most interested in as nuclear engineers involve an intermediate excited compound nucleus. \n",
    "\n",
    "Let's consider Example 4.6 in your book regarding the reaction $^{10}B + ^1_0n \\longrightarrow \\left(^7Li\\right)^*$. In short hand, this is an $(n,\\alpha)$ reaction. Specifically,  $^{10}B(n,\\alpha)^7Li^∗$. The product, $\\left(^7Li\\right)^*$ is left in an excited state. Specifically it is left 0.48 MeV above its ground state.\n",
    "\n",
    "The ordinary neutral atomic masses approach would look like this:\n",
    "\n",
    "\\begin{align}\n",
    "Q &= \\left[m_n + M\\left(^{10}_5B\\right) −  M\\left(^{4}_2He\\right) - M\\left(^{7}_3Li\\right)^*\\right]c^2 \\\\\n",
    "\\end{align}\n",
    "\n",
    "\n",
    "But, the mass tabulated for $M\\left(^{7}_3Li\\right)$ is the ground state mass. So if we want to use that ground state mass to arrive at the solution, the extra energy contributing to the excited state needs to be accounted for.\n",
    "\n",
    "\n",
    "\\begin{align}\n",
    "Q &= \\left[m_n + M\\left(^{10}_5B\\right) −  M\\left(^{4}_2He\\right) - M\\left(^{7}_3Li\\right)\\right]c^2 -0.48MeV\\\\\n",
    "\\end{align}\n",
    "\n",
    "\n",
    "\n"
   ]
  },
  {
   "cell_type": "markdown",
   "metadata": {
    "deletable": true,
    "editable": true
   },
   "source": [
    "## An aside on Florence and Mangkhut \n",
    "\n",
    "\n",
    "![https://heavyeditorial.files.wordpress.com/2018/09/power-reactors-operating.png?w=708&h=531](\n",
    "https://heavyeditorial.files.wordpress.com/2018/09/power-reactors-operating.png?w=708&h=531])\n",
    "\n",
    "![https://www.gannett-cdn.com/media/2018/09/13/USATODAY/USATODAY/636724347384399309-091318-Florence-Path-11am-Online.png](https://www.gannett-cdn.com/media/2018/09/13/USATODAY/USATODAY/636724347384399309-091318-Florence-Path-11am-Online.png)\n",
    "\n",
    "\n",
    "\n",
    "![https://cdn2.i-scmp.com/sites/default/files/images/methode/2018/09/16/af65e614-b8e8-11e8-b64d-19e275708746_972x_143103.jpg](https://cdn2.i-scmp.com/sites/default/files/images/methode/2018/09/16/af65e614-b8e8-11e8-b64d-19e275708746_972x_143103.jpg)\n",
    "\n",
    "\n",
    "\n",
    "\n",
    "[Duke shuts down Brunswick ahead of Florence](https://www.reuters.com/article/us-storm-florence-duke-nuclear/duke-starts-to-shut-north-carolina-brunswick-nuclear-plant-ahead-of-florence-idUSKCN1LT1ZT)\n",
    "\n",
    "\n",
    "\n",
    "[Yangjiang and Taishan in path of Typhoon Mangkhut](https://www.scmp.com/news/china/society/article/2164363/chinese-nuclear-power-plant-path-super-typhoon-mangkhut)"
   ]
  },
  {
   "cell_type": "code",
   "execution_count": null,
   "metadata": {
    "collapsed": true,
    "deletable": true,
    "editable": true
   },
   "outputs": [],
   "source": []
  }
 ],
 "metadata": {
  "kernelspec": {
   "display_name": "Python 3",
   "language": "python",
   "name": "python3"
  },
  "language_info": {
   "codemirror_mode": {
    "name": "ipython",
    "version": 3
   },
   "file_extension": ".py",
   "mimetype": "text/x-python",
   "name": "python",
   "nbconvert_exporter": "python",
   "pygments_lexer": "ipython3",
   "version": "3.5.2"
  }
 },
 "nbformat": 4,
 "nbformat_minor": 0
}

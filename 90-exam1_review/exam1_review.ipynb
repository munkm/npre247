{
 "cells": [
  {
   "cell_type": "code",
   "execution_count": 4,
   "metadata": {
    "collapsed": false,
    "deletable": true,
    "editable": true
   },
   "outputs": [],
   "source": [
    "%matplotlib notebook\n",
    "%matplotlib inline\n",
    "import math\n",
    "import matplotlib.pyplot as plt"
   ]
  },
  {
   "cell_type": "markdown",
   "metadata": {
    "deletable": true,
    "editable": true
   },
   "source": [
    "# Poll Everywhere\n",
    "\n",
    "Now, please get out some electronics and head over to [http://pollev.com/katyhuff](http://pollev.com/katyhuff)\n",
    "\n",
    "\n"
   ]
  },
  {
   "cell_type": "code",
   "execution_count": 6,
   "metadata": {
    "collapsed": false,
    "scrolled": true
   },
   "outputs": [
    {
     "data": {
      "text/html": [
       "\n",
       "        <iframe\n",
       "            width=\"1000\"\n",
       "            height=\"1000\"\n",
       "            src=\"https://www.polleverywhere.com/surveys/YrgjqPqC0?frameBorder=0\"\n",
       "            frameborder=\"0\"\n",
       "            allowfullscreen\n",
       "        ></iframe>\n",
       "        "
      ],
      "text/plain": [
       "<IPython.lib.display.IFrame at 0x10451e5f8>"
      ]
     },
     "execution_count": 6,
     "metadata": {},
     "output_type": "execute_result"
    }
   ],
   "source": [
    "from IPython.display import IFrame\n",
    "IFrame(\"https://www.polleverywhere.com/surveys/YrgjqPqC0\", width=\"1000\", height=\"1000\", frameBorder=\"0\")"
   ]
  },
  {
   "cell_type": "markdown",
   "metadata": {},
   "source": [
    "Recall the Learning Objectives from the previous lessons.\n",
    "\n",
    "## Fundamentals\n",
    "\n",
    "- Differentiate modern physical units\n",
    "- List the SI units and derived SI units\n",
    "- Disambiguate SI magnitude prefixes\n",
    "- Recognize physical units important to nuclear engineering\n",
    "- Calculate conversions among units\n",
    "- Derive the electron volt\n",
    "- Define the atomic mass unit\n",
    "- Describe the role of quarks as constituents of matter \n",
    "- Place neutrons, protons, photons, and electrons within the Standard Model\n",
    "- Decipher the $^A_ZX$ atomic nomenclature\n",
    "- Define nuclide, isotope, isobar, isotone, isomer\n",
    "- Calculate relative atomic masses from $\\gamma_i$ atomic abundances\n",
    "- Understand and use Avogadro's number $N_A$ to convert between atoms, moles, and grams\n",
    "- Calculate atom density, isotope number density, and molecule density from various combinations of $\\rho$, $\\mathscr{A}$, $\\gamma_i$, $N_a$, $w_i$, etc.\n",
    "- Estimate the diameter of an atom\n",
    "- Identify the major sources of energy consumed worldwide and domestically\n",
    "- Differentiate between energy use and electricity use\n",
    "- Recognize the niche filled by nuclear power\n",
    "- Summarize the history of power from different sectors both worldwide and domestically\n",
    "- Map the geography of nuclear power production\n",
    "- Recognize the names of institutions for energy information and understand the data they collect\n",
    "- Distinguish among the major modes of energy production \n",
    "\n",
    "## Modern Physics\n",
    "- State the special theory of relativity\n",
    "- Differentiate inertial and non-inertial reference frames\n",
    "- Compare classical and relativistic physics approaches\n",
    "- Calculate relativistic masses\n",
    "- Calculate time dilation\n",
    "- Calculate length contraction\n",
    "- Describe the photoelectric effect\n",
    "- Calculate Compton scattering angles and kinetic energies\n",
    "- Calculate de Broglie wavelengths\n",
    "- Relate energy and wavelength for photons\n",
    "- Understand wave-particle duality \n",
    "- Relate wave-particle duality and particle energy/wavelength\n",
    "\n",
    "## Nuclear Models\n",
    "\n",
    "- Summarize the history of atomic theory development.\n",
    "- Recognize the radiation signatures that drove early atomic theory.\n",
    "- List atomic models: Plum Pudding, Rutherford, Bohr, Bohr with Elliptical Orbits, Quantum Mechanical\n",
    "- Differentiate various atomic models by name and physics.\n",
    "- List nuclear models: Proton-electron, Proton-neutron, Liquid-Drop, Shell\n",
    "- Differentiate nuclear models by name and physics.\n",
    "- Identify the physics captured by various nuclear models.\n",
    "- Explain the reason for the structure of most likely decays in the chart of the nuclides\n",
    "\n",
    "## Energetics\n",
    "\n",
    "- Define: exothermic and endothermic reactions\n",
    "- Differentiate exothermic and endothermic reactions\n",
    "- Calculate binding energies\n",
    "- Recognize the noation for various binary reactions\n",
    "- Recognize the physics in common binary reactions\n",
    "- Define the relationship between the Q value, mass, and energy in a reaction\n",
    "- Explain the role of energy conservation in binary reactions\n",
    "- Explain the role of charge conservation in binary reactions\n",
    "- Calculate Q values for various reactions\n",
    "\n",
    "## Radioactivity\n",
    "- Explain how radioactivity was discovered\n",
    "- Explain the nuclear physical reason for radioactive decay\n",
    "- List the sources of natural and man made radiation\n",
    "- Read and understand a decay diagram\n",
    "- Calculate Q values for various types of decay\n",
    "- Describe the physics of various types of decay\n",
    "- State the radioactive decay law\n",
    "- Derive the radioactive decay law\n",
    "- Understand how incorporating sources impacts decay calcuations\n",
    "- Calculate decay with production for simple cases"
   ]
  },
  {
   "cell_type": "code",
   "execution_count": null,
   "metadata": {
    "collapsed": true
   },
   "outputs": [],
   "source": []
  }
 ],
 "metadata": {
  "anaconda-cloud": {},
  "kernelspec": {
   "display_name": "Python 3",
   "language": "python",
   "name": "python3"
  },
  "language_info": {
   "codemirror_mode": {
    "name": "ipython",
    "version": 3
   },
   "file_extension": ".py",
   "mimetype": "text/x-python",
   "name": "python",
   "nbconvert_exporter": "python",
   "pygments_lexer": "ipython3",
   "version": "3.5.2"
  }
 },
 "nbformat": 4,
 "nbformat_minor": 0
}

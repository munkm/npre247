{
 "cells": [
  {
   "cell_type": "markdown",
   "metadata": {},
   "source": [
    "# Fundamental Concepts\n",
    "\n",
    "An enormous amount of the work in this class will rely on speed and dexterity with units, the basic physics of particles, and conversion between masses, numbers, and concentrations of isotopes.\n",
    "\n",
    "\n",
    "## Learning Objectives\n",
    "\n",
    "By the end of this lesson, you should be able to:\n",
    "\n",
    "- Differentiate modern physical units\n",
    "- List the SI units and derived SI units\n",
    "- Disambiguate SI magnitude prefixes\n",
    "- Recognize physical units important to nuclear engineering\n",
    "- Calculate conversions among units\n",
    "- Derive the electron volt\n",
    "- Define the atomic mass unit\n",
    "- Place neutrons, protons, photons, and electrons within the Standard Model\n",
    "- Decipher the $^A_ZX$ atomic nomenclature\n",
    "- Define nuclide, isotope, isobar, isotone, isomer\n",
    "- Calculate relative atomic masses from $\\gamma_i$ atomic abundances\n",
    "- Understand and use Avogadro's number $N_A$ to convert between atoms, moles, and grams\n",
    "- Calculate atom density, isotope number density, and molecule density from various combinations of $\\rho$, $\\mathscr{A}$, $\\gamma_i$, $N_a$, $w_i$, etc.\n",
    "- Estimate the diameter of an atom and a nucleus "
   ]
  },
  {
   "cell_type": "markdown",
   "metadata": {},
   "source": [
    "# Before we get started....\n",
    "\n",
    "* I'd like to state that my office hours will be held in 118 Talbot Laboratory \n",
    "* We now have *two* TAs for our course. \n",
    "* Our next 3 classes (Friday, Monday, and Wednesday) will be on Zoom. I will be out of town during this time. "
   ]
  },
  {
   "cell_type": "markdown",
   "metadata": {},
   "source": [
    "# Units\n",
    "\n",
    "<a title=\"By Dono [CC BY-SA 3.0 \n",
    " (https://creativecommons.org/licenses/by-sa/3.0\n",
    ") or GFDL (http://www.gnu.org/copyleft/fdl.html)], from Wikimedia Commons\" href=\"https://commons.wikimedia.org/wiki/File:SI_base_unit.svg\"><img width=\"512\" alt=\"SI base unit\" src=\"https://upload.wikimedia.org/wikipedia/commons/thumb/c/c8/SI_base_unit.svg/512px-SI_base_unit.svg.png\"></a>\n",
    "\n",
    "The seven SI base units and their interdependency. \n",
    "Clockwise from top left: \n",
    "- second (time), \n",
    "- meter (distance), \n",
    "- Ampere (electric current), \n",
    "- mole (amount of substance), \n",
    "- kilogram (mass), \n",
    "- Kelvin (temperature) \n",
    "- and candela (luminous intensity)\n"
   ]
  },
  {
   "cell_type": "markdown",
   "metadata": {},
   "source": [
    "## Consider : Why do the base units have interdependencies?"
   ]
  },
  {
   "cell_type": "markdown",
   "metadata": {},
   "source": [
    "![https://www.technology.matthey.com/images/articles/17/2/pmr0017-0066-f2.gif](https://www.technology.matthey.com/images/articles/17/2/pmr0017-0066-f2.gif)\n",
    "\n",
    "While the kilogram is in some sense a very \"pure\" basic unit, others are derived from it. Moles can't be defined without a notion of mass.\n",
    "\n"
   ]
  },
  {
   "cell_type": "markdown",
   "metadata": {},
   "source": [
    "## Derived Units "
   ]
  },
  {
   "cell_type": "code",
   "execution_count": 1,
   "metadata": {},
   "outputs": [
    {
     "data": {
      "text/html": [
       "\n",
       "        <iframe\n",
       "            width=\"1000\"\n",
       "            height=\"700\"\n",
       "            src=\"https://en.wikipedia.org/wiki/SI_derived_unit#Derived_units_with_special_names?frameBorder=0\"\n",
       "            frameborder=\"0\"\n",
       "            allowfullscreen\n",
       "            \n",
       "        ></iframe>\n",
       "        "
      ],
      "text/plain": [
       "<IPython.lib.display.IFrame at 0x10759cf40>"
      ]
     },
     "execution_count": 1,
     "metadata": {},
     "output_type": "execute_result"
    }
   ],
   "source": [
    "from IPython.display import IFrame\n",
    "IFrame(\"https://en.wikipedia.org/wiki/SI_derived_unit#Derived_units_with_special_names\", width=\"1000\", height=\"700\", frameBorder=\"0\")"
   ]
  },
  {
   "cell_type": "markdown",
   "metadata": {},
   "source": [
    "# Why bother with a standard?\n",
    "\n",
    "If we compare the _long ton, short ton_, and _metric ton_ in SI units of _kg_, we can see the logic of the kg.\n",
    "\n",
    "- The common U.S. unit is the short ton of 2000 lb, 907.185 kg, or 20 short hundredweight (cwt). \n",
    "- The long ton is 20 long cwt, 1016 kg., 22.4 short cwt, or 2240 lb.\n",
    "- The metric ton is exactly 1000 kg.\n",
    "\n",
    "In nuclear engineering, our convention is to use metric tons.\n"
   ]
  },
  {
   "cell_type": "markdown",
   "metadata": {},
   "source": [
    "# The electronvolt (eV)\n",
    "An unit of energy, work, and equivalent mass, used in atomic physics, particle physics and high energy physics. \n",
    "\n",
    "\\begin{align}\n",
    "1 eV = 1.60217653\\times10^{-19} J\n",
    "\\end{align}\n",
    "\n",
    "An electronvolt is the amount of work done by a single electron moving across an electric potential difference of one volt. Hence, it has a value of one volt, 1 J/C, multiplied by the electron's elementary charge e, 1.6021766208(98)×10−19 C. \n",
    "\n",
    "Its definition is empirical. That is, its value in SI units must be obtained experimentally.[5]\n"
   ]
  },
  {
   "cell_type": "markdown",
   "metadata": {},
   "source": [
    "# Atomic Nomenclature\n",
    "\n",
    "When we talk about isotopes, this is a very common way you'll see them expressed\n",
    "\n",
    "\\begin{align}\n",
    "^{A}_{Z}X \n",
    "\\end{align}\n",
    "\n",
    "You might see a shorthand for this called a ZAID number. Can you guess what it looks like? \n",
    "\n",
    "\n",
    "\n",
    "# Now, let's talk about the chart of the nuclides: "
   ]
  },
  {
   "cell_type": "markdown",
   "metadata": {},
   "source": [
    "# Number of Atoms (n) and Number Density (N)\n",
    "The number of atoms or molecules (n) in a mass (m) of a pure material having atomic or molecular weight (M) is easily computed from the following equation using Avogadro's number.\n",
    "\n",
    "\\begin{align}\n",
    "n=\\frac{m N_A}{\\mathscr{A}}\n",
    "\\end{align}\n",
    "\n",
    "in my personal notation, I use (M) rather than $\\mathscr{A}$\n",
    "\n",
    "\\begin{align}\n",
    "n=\\frac{m N_A}{M}\n",
    "\\end{align}\n",
    "\n",
    "where\n",
    "\n",
    "\n",
    "\\begin{align}\n",
    "n &=\\mbox{number of atoms or molecules in sample}\\\\\n",
    "m &= \\mbox{mass of the sample}\\\\\n",
    "N_A &= \\mbox{Avogadro's number, }6.022\\times10^{23}\\\\\n",
    "\\mathscr{A} or M &= \\mbox{atomic weight of the sample } \n",
    "\\end{align}"
   ]
  },
  {
   "cell_type": "code",
   "execution_count": 2,
   "metadata": {},
   "outputs": [],
   "source": [
    "def NA():\n",
    "    \"\"\"Avogadro's number (NA = 6.022x10^23 atoms or molecules per gram-mole)\"\"\"\n",
    "    return 6.022E23\n",
    "\n",
    "def n(m, a, na):\n",
    "    \"\"\"The number of atoms or molecules (n) in a mass (m) of pure \n",
    "    material with atomic or molecular weight (a).\n",
    "    \n",
    "    Parameters\n",
    "    -----------\n",
    "    m : double\n",
    "        The mass of the material \n",
    "    a : double\n",
    "        The atomic or molecular weight of the atom or molecule of interest \n",
    "    na : double\n",
    "        Avogadro's number\n",
    "    \"\"\"\n",
    "    return m*na/a"
   ]
  },
  {
   "cell_type": "code",
   "execution_count": 3,
   "metadata": {},
   "outputs": [
    {
     "name": "stdout",
     "output_type": "stream",
     "text": [
      "2.785126260290445e+23\n"
     ]
    }
   ],
   "source": [
    "# How many atoms of Boron are in 5 grams of boron?\n",
    "\n",
    "a_boron = 10.811 # atomic weight of elemental boron (g)\n",
    "m_sample = 5 # grams in sample\n",
    "\n",
    "n_boron = n(m=m_sample, a=a_boron, na=NA())\n",
    "print(n_boron)"
   ]
  },
  {
   "cell_type": "code",
   "execution_count": 4,
   "metadata": {},
   "outputs": [
    {
     "name": "stdout",
     "output_type": "stream",
     "text": [
      "5.542401257977986e+22\n"
     ]
    }
   ],
   "source": [
    "# How many of those are Boron 10?\n",
    "# The isotopic oabundance of Boron 10 in elemental boron is 19.9%\n",
    "gamma_boron10 = 0.199 \n",
    "n_boron10 = n_boron*gamma_boron10\n",
    "print(n_boron10)"
   ]
  },
  {
   "cell_type": "markdown",
   "metadata": {},
   "source": [
    "In some situations, the **atomic number density (N)**, which is the concentration of atoms or molecules per unit volume (V), is an easier quantity to find when the material density ($\\rho$) is given.\n",
    "\n",
    "\\begin{align}\n",
    "N &= \\frac{n}{V}\\\\\n",
    "  &= \\frac{\\rho N_A}{\\mathscr{A}}\n",
    "\\end{align}"
   ]
  },
  {
   "cell_type": "code",
   "execution_count": 5,
   "metadata": {},
   "outputs": [],
   "source": [
    "def num_dens_from_vol(n, v):\n",
    "    \"\"\"The atomic number density. \n",
    "    That is, the concentration of atoms or molecules per unit volume (V)\n",
    "    \n",
    "    Parameters\n",
    "    -----------\n",
    "    n : double\n",
    "        Number of atoms in the sample\n",
    "    v : double\n",
    "        volume of the sample\n",
    "    \"\"\"\n",
    "    return n/v\n",
    "\n",
    "def num_dens_from_rho(rho, na, a):\n",
    "    \"\"\"The atomic number density. \n",
    "    That is, the concentration of atoms or molecules per unit volume (V)\n",
    "    \n",
    "    Parameters\n",
    "    -----------\n",
    "    rho : double\n",
    "        material density (in units like g/cm^3 or kg/m^3) of the sample\n",
    "    na : double\n",
    "        Avogadro's number\n",
    "    a : double\n",
    "        The atomic or molecular weight of the atom or molecule of interest \n",
    "    \"\"\"\n",
    "    return rho*na/a"
   ]
  },
  {
   "cell_type": "code",
   "execution_count": 6,
   "metadata": {},
   "outputs": [
    {
     "data": {
      "text/plain": [
       "1.3090093423365092e+23"
      ]
     },
     "execution_count": 6,
     "metadata": {},
     "output_type": "execute_result"
    }
   ],
   "source": [
    "boron_density = 2.35 # g/cm^3\n",
    "sample_vol = m_sample/boron_density\n",
    "\n",
    "num_dens_from_vol(n_boron, sample_vol)"
   ]
  },
  {
   "cell_type": "code",
   "execution_count": 7,
   "metadata": {},
   "outputs": [
    {
     "data": {
      "text/plain": [
       "1.3090093423365092e+23"
      ]
     },
     "execution_count": 7,
     "metadata": {},
     "output_type": "execute_result"
    }
   ],
   "source": [
    "num_dens_from_rho(boron_density, NA(), a_boron)"
   ]
  },
  {
   "cell_type": "markdown",
   "metadata": {},
   "source": [
    "# Number density for compounds\n",
    "For a chemical compound (mixture) Z, which is composed of elements X and Y, the number (atom) density of the compound is calculated from\n",
    "\\begin{align}\n",
    "N_Z &= N_{mix}\\\\\n",
    "    &= \\frac{\\rho_{mix}N_A}{\\mathscr{A}_{mix}}\n",
    "\\end{align}\n",
    "    \n",
    "In some cases, the desired quantity is the number density of the compound constituents. Specifically, if $Z=X_pY_q$, then there are p atoms of X and q atoms of Y for every molecule of Z. Thus\n",
    "\\begin{align}\n",
    "N_X &= pN_{Z}\\\\\n",
    "N_Y &= qN_{Z}\n",
    "\\end{align}\n"
   ]
  },
  {
   "cell_type": "code",
   "execution_count": 2,
   "metadata": {},
   "outputs": [
    {
     "data": {
      "text/plain": [
       "269.95938226"
      ]
     },
     "execution_count": 2,
     "metadata": {},
     "output_type": "execute_result"
    }
   ],
   "source": [
    "M_u02 = (.03*235.043930 + .97*238.050788) + 2*15.9994\n",
    "M_u02"
   ]
  },
  {
   "cell_type": "markdown",
   "metadata": {},
   "source": [
    "# Exercise: Find the $^{235}U$ concentration for 3 atom percent $^{235}U$ in $UO_2$.\n",
    "\n",
    "- We have a sample of uranium oxide and would like to find the number of $^{235}U$ atoms in it.\n",
    "- We are told it has a $^{235}U$ concentration for 3 atom percent $^{235}U$.\n",
    "\n",
    "\n",
    "\\begin{align}\n",
    "\\gamma_{^{235}U} &= 0.03\\\\\n",
    "N_{^{235}U} &= \\gamma_{^{235}U}N_U \\\\\n",
    "\\end{align}\n",
    "\n",
    "- We have no way of calculating $N_U$ because there's all of this oxygen in the sample, so we can only measure for densities and volumes of $UO_2$. We measure the sample and find $\\rho_{UO_2} = 10.5\\frac{g}{cm^3}$.\n",
    "- We also know that there is one uranium atom in each molecule of $UO_2$, so maybe we can get somewhere.\n",
    "\n",
    "\\begin{align}\n",
    "N_{^{235}U} &= \\gamma_{^{235}U}N_U \\\\\n",
    "            &= \\gamma_{^{235}U}N_{UO_2}\\\\\n",
    "            &= \\gamma_{^{235}U}\\frac{\\rho_{^{235}U}N_A}{\\mathscr{A}_{UO_2}}\\\\\n",
    "\\end{align}\n",
    "            \n",
    "- Now,  we need $\\mathscr{A}_{UO_2}$, which will rely on our understanding of compounds.\n",
    "- We determine $\\mathscr{A}_{UO_2} = \\gamma_{238}\\mathscr{A}_{238} \n",
    "               + \\gamma_{235}\\mathscr{A}_{235} + 2\\mathscr{A}_{O}$\n",
    "\n",
    "\\begin{align}\n",
    "N_{^{235}U} &= \\gamma_{^{235}U}\\frac{\\rho_{UO_2}N_A}{\\mathscr{A}_{UO_2}}\\\\\n",
    "            &= \\gamma_{^{235}U}\\frac{\\rho_{UO_2}N_A}{\\gamma_{238}\\mathscr{A}_{238} \n",
    "               + \\gamma_{235}\\mathscr{A}_{235} + 2\\mathscr{A}_{O}}\\\\\n",
    "            &= 0.03\\left[\\frac{\\mbox{atoms }^{235}U}{\\mbox{atoms U}}\\right]\\frac{10.5 \\left[\\frac{\\mbox{g}}{cm^3}\\right]6.022\\times10^{23} \\left[\\frac{\\mbox{atoms}}{\\mbox{mol}}\\right]}{238.05 (0.97) \n",
    "            \\left[\\frac{g}{mol}\\right]  + 235.04(0.03)\\left[\\frac{g}{mol}\\right] + 2 (15.99994)\\left[\\frac{g}{mol}\\right]}\\\\\n",
    "            &= 7.03\\times 10^{20}\\left[\\frac{atoms}{cm^3}\\right]\n",
    "\\end{align}"
   ]
  },
  {
   "cell_type": "markdown",
   "metadata": {},
   "source": [
    "# Estimate the diameter of an atom\n",
    "\n",
    "The inverse of atom density $\\left[\\frac{atoms}{cm^3}\\right]$ is volume per atom. Thus, one can determine the volume of an atom:\n",
    "\n",
    "\\begin{align}\n",
    "V&=1/N\n",
    "\\end{align}\n",
    "\n",
    "where\n",
    "\n",
    "\\begin{align}\n",
    "N &= \\frac{\\mbox{atoms}}{cm^3}\\\\\n",
    "V &= \\frac{cm^3}{\\mbox{atom}}\n",
    "\\end{align}\n",
    "\n",
    "If we assume an atom is approximated by a cubic volume, then their radii are about $\\frac{1}{N^{1/3}}$. For a typical atom, the radius is then approximately on the order of an angstrom (Å), or $1\\times10^{-10}m$.\n"
   ]
  },
  {
   "cell_type": "markdown",
   "metadata": {
    "collapsed": true
   },
   "source": [
    "# The size of the nucleus\n",
    "\n",
    "By now you've heard that the volume of the nucleus is much smaller than the volume of an atom. To determine the radius of the nucleus, the formula we use is: \n",
    "\n",
    "\\begin{align}\n",
    "R &=R_{0}A^{1/3}\n",
    "\\end{align}\n",
    "\n",
    "where\n",
    "\n",
    "\\begin{align}\n",
    "R_0 &\\simeq 1.2 \\times 10^{-13}\\\\\n",
    "\\end{align}"
   ]
  },
  {
   "cell_type": "code",
   "execution_count": null,
   "metadata": {},
   "outputs": [],
   "source": []
  }
 ],
 "metadata": {
  "kernelspec": {
   "display_name": "Python 3 (ipykernel)",
   "language": "python",
   "name": "python3"
  },
  "language_info": {
   "codemirror_mode": {
    "name": "ipython",
    "version": 3
   },
   "file_extension": ".py",
   "mimetype": "text/x-python",
   "name": "python",
   "nbconvert_exporter": "python",
   "pygments_lexer": "ipython3",
   "version": "3.9.9"
  }
 },
 "nbformat": 4,
 "nbformat_minor": 1
}

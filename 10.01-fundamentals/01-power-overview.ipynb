{
 "cells": [
  {
   "cell_type": "markdown",
   "metadata": {
    "deletable": true,
    "editable": true
   },
   "source": [
    "# The Current State of Nuclear Power\n",
    "\n",
    "In the context of world energy, where does nuclear power sit? It's producing about 20% of US electricity, but what about world electricity? What about world energy? Where is the world getting its energy, and what parts of the world are consuming what? How do different sources of energy and electricity compete and compare? \n",
    "\n",
    "## Objectives\n",
    "\n",
    "After this lesson, you should be equipped to:\n",
    "\n",
    "- Identify the major sources of energy consumed worldwide and domestically\n",
    "- Differentiate between energy use and electricity use\n",
    "- Recognize the niche filled by nuclear power\n",
    "- Summarize the history of power from different sectors both worldwide and domestically\n",
    "- Map the geography of nuclear power production\n",
    "- Recognize the names of institutions for energy information and understand the data they collect\n",
    "- Distinguish among the major modes of energy production \n"
   ]
  },
  {
   "cell_type": "markdown",
   "metadata": {
    "deletable": true,
    "editable": true
   },
   "source": [
    "# Polls: Show What You Know\n",
    "\n",
    "Please go to [pollev.com/katyhuff](https://pollev.com/katyhuff)."
   ]
  },
  {
   "cell_type": "code",
   "execution_count": 1,
   "metadata": {
    "collapsed": false,
    "deletable": true,
    "editable": true
   },
   "outputs": [
    {
     "data": {
      "text/html": [
       "\n",
       "        <iframe\n",
       "            width=\"1000\"\n",
       "            height=\"700\"\n",
       "            src=\"https://www.polleverywhere.com/surveys/gwGrtWpKX?frameBorder=0\"\n",
       "            frameborder=\"0\"\n",
       "            allowfullscreen\n",
       "        ></iframe>\n",
       "        "
      ],
      "text/plain": [
       "<IPython.lib.display.IFrame at 0x103cd17f0>"
      ]
     },
     "execution_count": 1,
     "metadata": {},
     "output_type": "execute_result"
    }
   ],
   "source": [
    "from IPython.display import IFrame\n",
    "IFrame(\"https://www.polleverywhere.com/surveys/gwGrtWpKX\", width=\"1000\", height=\"700\", frameBorder=\"0\")"
   ]
  },
  {
   "cell_type": "markdown",
   "metadata": {
    "deletable": true,
    "editable": true
   },
   "source": [
    "## Energy Governance\n",
    "Nuclear power is subject to a many energy governance organiations and regulators. Here is a list with a few :\n",
    "\n",
    "- DOE\n",
    "- NRC\n",
    "- EPA\n",
    "- state-level EPAs\n",
    "- IAEA\n",
    "- OECD-NEA\n"
   ]
  },
  {
   "cell_type": "markdown",
   "metadata": {
    "deletable": true,
    "editable": true
   },
   "source": [
    "## Thinktanks, Nonprofits, Industry Coalitions, and Environmental Organizations\n",
    "\n",
    "Additionally, there are myriad interest groups, thinktanks, and nonprofits that collect and share data like this. As with all sources of data, it is important to be aware of the funding model that generated the data.\n",
    "\n",
    "- Thinktanks & Policy Centers\n",
    "  - [Belfer](http://belfercenter.ksg.harvard.edu/)\n",
    "  - [Heritage](http://www.heritage.org/)\n",
    "  - [RAND](http://www.rand.org/)\n",
    "  - [Aspen](https://www.aspeninstitute.org/issues/energy-environment/)\n",
    "  - [World Resources Institute](http://www.wri.org/)\n",
    "  - [Breakthrough](http://thebreakthrough.org/)\n",
    "  - [Third Way](http://www.thirdway.org/)\n",
    "- Industry Coalitions\n",
    "  - [Nuclear Energy Institute (NEI)]()\n",
    "  - [Nuclear Waste Strategy Coalition (NWSC)](http://thenwsc.org/)\n",
    "  - [US Nuclear Infrastructure Council (NIC)](http://www.usnic.org/)\n",
    "- Environmental Organizations\n",
    "  - [Greenpeace](http://www.greenpeace.org/usa/)\n",
    "  - [Sierra Club](http://www.sierraclub.org/)\n",
    "  - [UNEP](http://www.unep.org/)\n",
    "  - [Environmental Progress](http://www.environmentalprogress.org/)\n",
    "  - [Clearpath](https://clearpath.org/)\n"
   ]
  },
  {
   "cell_type": "markdown",
   "metadata": {
    "deletable": true,
    "editable": true
   },
   "source": [
    "# How to keep track?\n",
    "\n",
    "There is a lot to keep track of. There are some organizations for which keeping track of energy information is part of their energy governance missions.\n",
    "\n",
    "## IEA\n",
    "\n",
    "The [International Energy Agency](https://iea.org) is an international organization focused on energy issues. It has 29 member countries that fund it collectively. It tackles international concerns related to energy and it was created in response to oil disruptions in the 70s. The a great resource for current information related to energy use and production worldwide. They produce an annual overview document called the World Energy Outlook. Alongside it, one can often gain access to a range of detail, from large quantities of raw data to slim primers on current energy statistics. A favorite is the [Key World Energy Statistics booklet](https://www.iea.org/publications/freepublications/publication/KeyWorld_Statistics_2015.pdf).\n"
   ]
  },
  {
   "cell_type": "code",
   "execution_count": 7,
   "metadata": {
    "collapsed": false,
    "deletable": true,
    "editable": true,
    "scrolled": true
   },
   "outputs": [
    {
     "data": {
      "text/html": [
       "\n",
       "        <iframe\n",
       "            width=\"1000\"\n",
       "            height=\"1000\"\n",
       "            src=\"https://www.iea.org/publications/freepublications/publication/KeyWorld_Statistics_2015.pdf\"\n",
       "            frameborder=\"0\"\n",
       "            allowfullscreen\n",
       "        ></iframe>\n",
       "        "
      ],
      "text/plain": [
       "<IPython.lib.display.IFrame at 0x104309908>"
      ]
     },
     "execution_count": 7,
     "metadata": {},
     "output_type": "execute_result"
    }
   ],
   "source": [
    "from IPython.display import IFrame\n",
    "IFrame(\"https://www.iea.org/publications/freepublications/publication/KeyWorld_Statistics_2015.pdf\", width=1000, height=1000)"
   ]
  },
  {
   "cell_type": "markdown",
   "metadata": {
    "deletable": true,
    "editable": true
   },
   "source": [
    "IEA also produces a Nuclear Technology Roadmap periodically, as an overview of the nuclear industry worldwide."
   ]
  },
  {
   "cell_type": "code",
   "execution_count": 8,
   "metadata": {
    "collapsed": false,
    "deletable": true,
    "editable": true
   },
   "outputs": [
    {
     "data": {
      "text/html": [
       "\n",
       "        <iframe\n",
       "            width=\"1000\"\n",
       "            height=\"1000\"\n",
       "            src=\"http://www.iea.org/publications/freepublications/publication/Nuclear_RM_2015_FINAL_WEB_Sept_2015_V3.pdf\"\n",
       "            frameborder=\"0\"\n",
       "            allowfullscreen\n",
       "        ></iframe>\n",
       "        "
      ],
      "text/plain": [
       "<IPython.lib.display.IFrame at 0x104309588>"
      ]
     },
     "execution_count": 8,
     "metadata": {},
     "output_type": "execute_result"
    }
   ],
   "source": [
    "IFrame(\"http://www.iea.org/publications/freepublications/publication/Nuclear_RM_2015_FINAL_WEB_Sept_2015_V3.pdf\", width=1000, height=1000)\n"
   ]
  },
  {
   "cell_type": "markdown",
   "metadata": {
    "deletable": true,
    "editable": true
   },
   "source": [
    "## Journalism\n",
    "\n",
    "And, then, you have journalism. Lots is excellent. Some is less so. Follow the data."
   ]
  },
  {
   "cell_type": "code",
   "execution_count": 9,
   "metadata": {
    "collapsed": false,
    "deletable": true,
    "editable": true
   },
   "outputs": [
    {
     "data": {
      "text/html": [
       "\n",
       "        <iframe\n",
       "            width=\"1000\"\n",
       "            height=\"1000\"\n",
       "            src=\"https://www.carbonbrief.org/mapped-the-worlds-nuclear-power-plants\"\n",
       "            frameborder=\"0\"\n",
       "            allowfullscreen\n",
       "        ></iframe>\n",
       "        "
      ],
      "text/plain": [
       "<IPython.lib.display.IFrame at 0x104309940>"
      ]
     },
     "execution_count": 9,
     "metadata": {},
     "output_type": "execute_result"
    }
   ],
   "source": [
    "IFrame(\"https://www.carbonbrief.org/mapped-the-worlds-nuclear-power-plants\", width=1000, height=1000)"
   ]
  },
  {
   "cell_type": "markdown",
   "metadata": {
    "deletable": true,
    "editable": true
   },
   "source": [
    "\n",
    "At the national labs, some exceptional plots have been created to vizualize where our energy comes from and where it goes.\n",
    "![https://fusion4freedom.com/graphics/2013USEnergy1.png](https://fusion4freedom.com/graphics/2013USEnergy1.png)"
   ]
  },
  {
   "cell_type": "markdown",
   "metadata": {
    "deletable": true,
    "editable": true
   },
   "source": [
    "# EIA\n",
    "\n",
    "A lot of this information is collected by the Energy Information Administration (EIA), whose mission is steadfastly in the realm of keeping track of this data. So, the EIA is the place to go for domestic energy information.\n",
    "\n",
    "\n",
    "![http://www.eia.gov/todayinenergy/images/2016.03.16/main.png](http://www.eia.gov/todayinenergy/images/2016.03.16/main.png)\n",
    "\n",
    "## Great Maps\n",
    "Let's explore this [EIA database](http://www.eia.gov/state/maps.cfm). \n",
    "\n",
    "## Informative Grid Data\n",
    "\n",
    "The \"grid\" is also extremely important in the context of nuclear power market share. [Check out this great data from EIA about the grid.](http://www.eia.gov/beta/realtime_grid/#/summary/demand?end=20160824&start=20160724).\n",
    "\n",
    "## Useful Nuclear Specific Data\n",
    "\n",
    "The open database can be queried directly for nuclear energy (the database code for nuclear is NUE)."
   ]
  },
  {
   "cell_type": "code",
   "execution_count": 2,
   "metadata": {
    "collapsed": false,
    "deletable": true,
    "editable": true
   },
   "outputs": [
    {
     "data": {
      "text/html": [
       "\n",
       "        <iframe\n",
       "            width=\"100%\"\n",
       "            height=\"500\"\n",
       "            src=\"http:////www.eia.gov/opendata/embed/iframe.php?series_id=TOTAL.NUETPUS.A\"\n",
       "            frameborder=\"0\"\n",
       "            allowfullscreen\n",
       "        ></iframe>\n",
       "        "
      ],
      "text/plain": [
       "<IPython.lib.display.IFrame at 0x103cd1c50>"
      ]
     },
     "execution_count": 2,
     "metadata": {},
     "output_type": "execute_result"
    }
   ],
   "source": [
    "# Import the IPython display module\n",
    "from IPython.display import IFrame\n",
    "IFrame('http:////www.eia.gov/opendata/embed/iframe.php?series_id=TOTAL.NUETPUS.A', width=\"100%\", height=500)"
   ]
  },
  {
   "cell_type": "code",
   "execution_count": 3,
   "metadata": {
    "collapsed": false,
    "deletable": true,
    "editable": true,
    "scrolled": true
   },
   "outputs": [
    {
     "data": {
      "text/html": [
       "\n",
       "        <iframe\n",
       "            width=\"1000\"\n",
       "            height=\"1000\"\n",
       "            src=\"http://www.eia.gov/state/maps.cfm\"\n",
       "            frameborder=\"0\"\n",
       "            allowfullscreen\n",
       "        ></iframe>\n",
       "        "
      ],
      "text/plain": [
       "<IPython.lib.display.IFrame at 0x103cd1668>"
      ]
     },
     "execution_count": 3,
     "metadata": {},
     "output_type": "execute_result"
    }
   ],
   "source": [
    "IFrame(\"http://www.eia.gov/state/maps.cfm\", width=1000, height=1000)\n"
   ]
  },
  {
   "cell_type": "markdown",
   "metadata": {
    "deletable": true,
    "editable": true
   },
   "source": [
    "## NRC\n",
    "The Nuclear Regulatory Commission also has some useful, nuclear-specific data. \n"
   ]
  },
  {
   "cell_type": "code",
   "execution_count": 12,
   "metadata": {
    "collapsed": false,
    "deletable": true,
    "editable": true
   },
   "outputs": [
    {
     "data": {
      "text/html": [
       "\n",
       "        <iframe\n",
       "            width=\"1000\"\n",
       "            height=\"1000\"\n",
       "            src=\"http://www.nrc.gov/reactors/operating/map-power-reactors.html\"\n",
       "            frameborder=\"0\"\n",
       "            allowfullscreen\n",
       "        ></iframe>\n",
       "        "
      ],
      "text/plain": [
       "<IPython.lib.display.IFrame at 0x104309c50>"
      ]
     },
     "execution_count": 12,
     "metadata": {},
     "output_type": "execute_result"
    }
   ],
   "source": [
    "IFrame(\"http://www.nrc.gov/reactors/operating/map-power-reactors.html\", width=1000, height=1000)\n"
   ]
  },
  {
   "cell_type": "code",
   "execution_count": 13,
   "metadata": {
    "collapsed": false,
    "deletable": true,
    "editable": true
   },
   "outputs": [
    {
     "data": {
      "text/html": [
       "\n",
       "        <iframe\n",
       "            width=\"700\"\n",
       "            height=\"1000\"\n",
       "            src=\"https://upload.wikimedia.org/wikipedia/commons/6/6f/IL_PowerStations1.pdf\"\n",
       "            frameborder=\"0\"\n",
       "            allowfullscreen\n",
       "        ></iframe>\n",
       "        "
      ],
      "text/plain": [
       "<IPython.lib.display.IFrame at 0x104309cf8>"
      ]
     },
     "execution_count": 13,
     "metadata": {},
     "output_type": "execute_result"
    }
   ],
   "source": [
    "IFrame(\"https://upload.wikimedia.org/wikipedia/commons/6/6f/IL_PowerStations1.pdf\", width=700, height=1000)"
   ]
  },
  {
   "cell_type": "markdown",
   "metadata": {
    "deletable": true,
    "editable": true
   },
   "source": [
    "## Discussion Question: Why did the US not build new nuclear reactors for 30 years?\n"
   ]
  },
  {
   "cell_type": "markdown",
   "metadata": {
    "deletable": true,
    "editable": true
   },
   "source": [
    "## Discussion Question: What worldwide impacts could result from China's new nuclear?\n"
   ]
  },
  {
   "cell_type": "markdown",
   "metadata": {
    "deletable": true,
    "editable": true
   },
   "source": [
    "## Discussion Question: Why were Clinton and Quad Cities at risk of shut down last year?\n"
   ]
  },
  {
   "cell_type": "markdown",
   "metadata": {
    "deletable": true,
    "editable": true
   },
   "source": [
    "## Discussion Question: Why will Illinois' reactors stay open?\n"
   ]
  },
  {
   "cell_type": "markdown",
   "metadata": {
    "collapsed": true,
    "deletable": true,
    "editable": true
   },
   "source": [
    "## Resources\n",
    "\n",
    "NEI Wall Street Briefing [Video and Slides](http://www.nei.org/Issues-Policy/Economics/Financial-Analyst-Briefings/NEI-2016-Wall-Street-Briefing)\n",
    "\n",
    "Nuclear Innovation Bootcamp [closing talk by John Kotek (starts at 1:26:26)](https://www.youtube.com/watch?v=imvnBYa9Sb0&feature=youtu.be&t=5186)."
   ]
  },
  {
   "cell_type": "code",
   "execution_count": null,
   "metadata": {
    "collapsed": true,
    "deletable": true,
    "editable": true
   },
   "outputs": [],
   "source": []
  }
 ],
 "metadata": {
  "anaconda-cloud": {},
  "kernelspec": {
   "display_name": "Python 3",
   "language": "python",
   "name": "python3"
  },
  "language_info": {
   "codemirror_mode": {
    "name": "ipython",
    "version": 3
   },
   "file_extension": ".py",
   "mimetype": "text/x-python",
   "name": "python",
   "nbconvert_exporter": "python",
   "pygments_lexer": "ipython3",
   "version": "3.5.2"
  }
 },
 "nbformat": 4,
 "nbformat_minor": 0
}

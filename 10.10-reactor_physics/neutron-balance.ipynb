{
 "cells": [
  {
   "cell_type": "markdown",
   "metadata": {},
   "source": [
    "# Neutron Balance and Criticality\n",
    "\n",
    "## Learning Objectives\n",
    "\n",
    "At the end of this lesson, the student should be able to:\n",
    "\n",
    "- Define the basic components of a reactor (fuel, coolant, moderator, reflector, etc.)\n",
    "- Classify conventional reactors based on their components\n",
    "- Outline the life cycle of a neutron in a reactor\n",
    "- Explain the 6 factors, conceptually: $\\eta$, $\\epsilon$, $p$, $f$, $P_{NL}^{th}$, and $P_{NL}^f$\n",
    "- State the 2, 4, and 6 factor formulas\n",
    "- Define the terms in the 2, 4, and 6 factor formulas\n",
    "- Associate the 2, 4, and 6 factor formulas with their corresponding assumptions\n",
    "- Predict the impact of reactor designs on each of the 6 factors\n",
    "- Calculate criticality based on the 2, 4, and 6 factor formulas\n"
   ]
  },
  {
   "cell_type": "markdown",
   "metadata": {},
   "source": [
    "## Reactor basics\n",
    "\n",
    "Reactors have a number of components:\n",
    "\n",
    "- fuel (uranium, plutonium, various enrichments, fertile isotopes, mixed isotopes, ... )\n",
    "- moderator (scattering medium: water, heavy water, graphite, floride or chloride salts, lithium salts, ...)\n",
    "- coolant (water, heavy water, helium, carbon dioxide, salts, liquid metals, ...)\n",
    "- reflector (graphite, beryllium, ...)\n",
    "\n",
    "A summary of various types of reactors, with images, can be found [here](https://world-nuclear.org/nuclear-essentials/are-there-different-types-of-reactors.aspx).\n",
    "\n",
    "### CANDU\n",
    "\n",
    "- natural uranium\n",
    "- heavy water ($D_2O$)\n",
    "- online refuelling\n",
    "- each bundle: 50 cm long 10 cm diameter\n",
    "\n",
    "\n",
    "![https://cna.ca/wp-content/uploads/2018/03/Fuel-Bundle-Fuel-Channel-Relationship.svg](https://cna.ca/wp-content/uploads/2018/03/Fuel-Bundle-Fuel-Channel-Relationship.svg)\n",
    "\n",
    "![https://www.cameco.com/uploads/page/gallery/Z5AuIcCt-4050-2700.jpg](https://www.cameco.com/uploads/page/gallery/Z5AuIcCt-4050-2700.jpg)\n",
    "\n",
    "![https://canteach.candu.org/Image%20Library1/00000/CANDU6_Reactor_Assembly.jpg](https://canteach.candu.org/Image%20Library1/00000/CANDU6_Reactor_Assembly.jpg)\n",
    "\n",
    "![https://s-media-cache-ak0.pinimg.com/originals/09/fb/dc/09fbdc52c6e8e800586966ab183ff672.jpg](https://s-media-cache-ak0.pinimg.com/originals/09/fb/dc/09fbdc52c6e8e800586966ab183ff672.jpg)"
   ]
  },
  {
   "cell_type": "markdown",
   "metadata": {},
   "source": [
    "### PWR \n",
    "\n",
    "- $UO_2$ fuel\n",
    "- Zircalloy cladding (typically)\n",
    "- Height: 4.1m\n",
    "- Hardware mostly Zircaloy (Zr with Sn, Fe, Cr)\n",
    "- Grid spacers: Zircaloy, Inconel, stainless steel\n",
    "- End pieces: Stainless steel, Inconel\n",
    "- 200-250 fuel assemblies per core\n",
    "- Each Assembly: \n",
    "  - 14 x 14 to 17 x 17 fuel elements\n",
    "  - 21cm x 21cm\n",
    "  - Fuel element size: 1 cm diameter, \n",
    "  - Fuel element height: 3.9m\n",
    "  - Assembly weight: 1400lb\n",
    "  - Enrichment: 3-5%\n",
    "  - May have separate burnable poison rods\n",
    "\n",
    "\n",
    "<a title=\"By U.S.NRC. [Public domain], via Wikimedia Commons\" href=\"https://commons.wikimedia.org/wiki/File:PressurizedWaterReactor.gif\"><img width=\"512\" alt=\"PressurizedWaterReactor\" src=\"https://upload.wikimedia.org/wikipedia/commons/a/a0/PressurizedWaterReactor.gif\"></a>\n",
    "  \n",
    "  \n",
    " ![http://image.slidesharecdn.com/08-usedfuelreprocessing-151015131254-lva1-app6891/95/08-used-fuel-reprocessing-19-638.jpg?cb=1444914934](http://image.slidesharecdn.com/08-usedfuelreprocessing-151015131254-lva1-app6891/95/08-used-fuel-reprocessing-19-638.jpg?cb=1444914934)\n",
    " \n",
    " ![https://syeilendrapramuditya.files.wordpress.com/2009/04/illust_fa_pwr.gif?w=500](https://syeilendrapramuditya.files.wordpress.com/2009/04/illust_fa_pwr.gif?w=500)\n",
    " "
   ]
  },
  {
   "cell_type": "code",
   "execution_count": 1,
   "metadata": {},
   "outputs": [
    {
     "name": "stdout",
     "output_type": "stream",
     "text": [
      "Total pellets in a core 20380800\n",
      "Total rods in a core 50952\n"
     ]
    }
   ],
   "source": [
    "rod = 400 # pellets per rod\n",
    "assembly = 17*17 - 5*5 # assembly array minus control rod tubes\n",
    "core = 193 # typical number of assemblies per core\n",
    "print(\"Total pellets in a core\", core*assembly*rod)\n",
    "print(\"Total rods in a core\", core*assembly)"
   ]
  },
  {
   "cell_type": "markdown",
   "metadata": {},
   "source": [
    "### BWR\n",
    "\n",
    "A BWR has about 600-800 fuel assemblies per core. Each assembly:\n",
    "\n",
    "- 14ft (4.5m) tall\n",
    "- Zircalloy channel around the assembly\n",
    "- Hardware mostly Zircaloy (Zr with Sn, Fe, Cr)\n",
    "- Grid spacers: Zircaloy\n",
    "- Channel (aka shroud): Zircaloy\n",
    "- End pieces: Stainless steel\n",
    "- Each assembly\n",
    "  - 700lb\n",
    "  - 5.5x5.5 inches (14 cm x 14 cm) square assembly\n",
    "  - Fuel element array: 8 x 8 or 10 x 10\n",
    "  - Fuel element size: 1.25 cm diameter, height = 4.1m\n",
    "  - Enrichment: 2.5-4.5%\n",
    "  - May have Gd in some rods and variable enrichment in 3D\n",
    "  \n",
    "<a title=\"By U.S.NRC. [Public domain], via Wikimedia Commons\" href=\"https://commons.wikimedia.org/wiki/File:BoilingWaterReactor.gif\"><img width=\"512\" alt=\"BoilingWaterReactor\" src=\"https://upload.wikimedia.org/wikipedia/commons/4/4a/BoilingWaterReactor.gif\"></a>\n",
    "\n",
    "![http://www.world-nuclear.org/uploadedImages/org/info/GE%20BWR%20nuclear%20fuel%20assembly%202.jpg](http://www.world-nuclear.org/uploadedImages/org/info/GE%20BWR%20nuclear%20fuel%20assembly%202.jpg)"
   ]
  },
  {
   "cell_type": "markdown",
   "metadata": {},
   "source": [
    "### Reaction Rates\n",
    "\n",
    "- The microscopic cross section is just the likelihood of the event per unit area. \n",
    "- The macroscopic cross section is just the likelihood of the event per unit area of a certain density of target isotopes.\n",
    "- The reaction rate is the macroscopic cross section times the flux of incident neutrons.\n",
    "\n",
    "\\begin{align}\n",
    "R_{i,j}(\\vec{r}) &= N_j(\\vec{r})\\int dE \\phi(\\vec{r},E)\\sigma_{i,j}(E)\\\\\n",
    "R_{i,j}(\\vec{r}) &= \\mbox{reactions of type i involving isotope j } [reactions/cm^3s]\\\\\n",
    "N_j(\\vec{r}) &= \\mbox{number of nuclei participating in the reactions } [\\#/cm^3]\\\\\n",
    "E &= \\mbox{energy} [MeV]\\\\\n",
    "\\phi(\\vec{r},E)&= \\mbox{flux of neutrons with energy E at position i } [\\#/cm^2s]\\\\\n",
    "\\sigma_{i,j}(E)&= \\mbox{cross section } [cm^2]\\\\\n",
    "\\end{align}\n",
    "\n",
    "\n",
    "This can be written more simply as $R_x = \\Sigma_x \\phi$, where $\\phi$ is the neutron flux."
   ]
  },
  {
   "cell_type": "markdown",
   "metadata": {},
   "source": [
    "### Neutron Life Cycle\n",
    "\n",
    "Let's observe the life cycle of a neutron:\n",
    "\n",
    "![life-cycle-1.png](life-cycle-1.png)\n",
    "\n",
    "We can be more explicit about this with some descriptions of the losses.\n",
    "\n",
    "![life-cycle-2.png](life-cycle-2.png)\n",
    "\n",
    "### Two Factor Formula\n",
    "\n",
    "The source of neutrons in a reactor are the neutrons from fission. \n",
    "\n",
    "\\begin{align}\n",
    "s &=\\nu \\Sigma_f \\phi\n",
    "\\end{align}\n",
    "\n",
    "where\n",
    "\n",
    "\\begin{align}\n",
    "s &= \\mbox{neutrons available for next generation of fissions}\\\\\n",
    "\\nu &= \\mbox{the number born per fission}\\\\\n",
    "\\Sigma_f &= \\mbox{the number of fissions in the material}\\\\\n",
    "\\phi &= \\mbox{initial neutron flux}\n",
    "\\end{align}\n",
    "\n",
    "This can also be written as:\n",
    "\n",
    "\\begin{align}\n",
    "s &= \\nu\\Sigma_f\\phi\\\\\n",
    "  &= \\nu\\frac{\\Sigma_f}{\\Sigma_{a,fuel}}\\frac{\\Sigma_{a,fuel}}{\\Sigma_a}{\\Sigma_a} \\phi\\\\\n",
    "  &= \\eta f {\\Sigma_a} \\phi\\\\\n",
    "\\eta &= \\frac{\\nu\\Sigma_f}{\\Sigma_{a,fuel}} \\\\\n",
    "      &= \\mbox{number of neutrons produced per neutron absorbed by the fuel, \"neutron reproduction factor\"}\\\\\n",
    "f &= \\frac{\\Sigma_{a,fuel}}{\\Sigma_a} \\\\\n",
    "   &= \\mbox{number of neutrons absorbed in the fuel per neutron absorbed anywhere, \"fuel utilization factor\"}\\\\\n",
    "\\end{align}\n",
    "\n",
    "This absorption and flux term at the end seeks to capture the fact that some of the neutrons escape. However, if we assume an infinite reactor, we know that all the neutrons are eventually absorbed in either the fuel or the coolant, so we can normalize by $\\Sigma_a\\phi$ and therefore:\n",
    "\n",
    "\n",
    "\\begin{align}\n",
    "k_\\infty &= \\frac{\\eta f \\Sigma_a\\phi}{\\Sigma_a \\phi}\\\\\n",
    "&= \\eta f\n",
    "\\end{align}"
   ]
  },
  {
   "cell_type": "markdown",
   "metadata": {},
   "source": [
    "# Announcements / Reminders\n",
    "* Office hours today are cancelled \n",
    "* Notes from the guest lecture are posted on canvas\n",
    "* Whatever you turn in on gradescope should be gradeable without looking at your source code submission\n",
    "* If you do not show work step by step on your homework, you will lose points. Your TA should not have to figure out which equations/numbers you used to solve a problem. It should be clear based on your work\n",
    "* Report Q values in keV or MeV -- eV is the convention for nuclear engineering. \n",
    "* Use all digits reported in the chart of the nuclides to calculate Q values. You will get the wrong answer if you only use 2 or 3. "
   ]
  },
  {
   "cell_type": "markdown",
   "metadata": {},
   "source": [
    "### Four Factor Formula\n",
    "\n",
    "So, then, if we consider the impact of neutron energy on the likelihood of absorption, we can break the neutrons up into a thermal and a fast group. \n",
    "\n",
    "\n",
    "So, we can say more explicitly:\n",
    "\n",
    "\n",
    "\\begin{align}\n",
    "k_\\infty =& \\epsilon p \\eta f\\\\\n",
    "\\epsilon =& \\mbox{ fast fission factor}\\\\\n",
    "         =& \\frac{\\mbox{neutrons produced by all fissions}}{\\mbox{neutrons produced by thermal fissions}}\\\\\n",
    "p =& \\mbox{ resonance escape probability}\\\\\n",
    "         =& \\frac{\\mbox{neutrons that reach thermal energies}}{\\mbox{number of fast neutrons that start to slow down}}\n",
    "\\end{align}\n",
    "\n",
    "### Six Factor Formula\n",
    "\n",
    "If we consider the non-infinite nature of most reactors, we have to add two more factors to the formula:\n",
    "\n",
    "\\begin{align}\n",
    "k_{eff} =& P_{fnl} P_{tnl}\\epsilon p \\eta f\\\\\n",
    "P_{NL}^{f} =& \\mbox{ fast neutron non leakage probability}\\\\\n",
    "         =& \\frac{\\mbox{fast neutrons that do not leak from the reactor}}{\\mbox{fast neutrons produced by thermal fissions}}\\\\\n",
    "P_{NL}^{th} =& \\mbox{ thermal neutron non leakage probability}\\\\\n",
    "         =& \\frac{\\mbox{thermal neutrons that do not leak from the reactor}}{\\mbox{neutrons that reach thermal energies}}\\\\\n",
    "\\end{align}"
   ]
  },
  {
   "cell_type": "markdown",
   "metadata": {},
   "source": [
    "### Criticality and the full life cycle\n",
    "\n",
    "\n",
    "If criticality, $k$ is the ratio :\n",
    "\n",
    "\\begin{align}\n",
    "k = \\frac{\\mbox{neutrons in generation N}}{\\mbox{neutrons in generation N-1}}\n",
    "\\end{align}\n",
    "\n",
    "Then we can use the life cycle diagram to plug in our six factors to arrive at $k = \\frac{n'}{n}$:\n",
    "\n",
    "![life-cycle-3.png](life-cycle-3.png)"
   ]
  },
  {
   "cell_type": "code",
   "execution_count": null,
   "metadata": {
    "collapsed": true
   },
   "outputs": [],
   "source": []
  }
 ],
 "metadata": {
  "kernelspec": {
   "display_name": "Python 3 (ipykernel)",
   "language": "python",
   "name": "python3"
  },
  "language_info": {
   "codemirror_mode": {
    "name": "ipython",
    "version": 3
   },
   "file_extension": ".py",
   "mimetype": "text/x-python",
   "name": "python",
   "nbconvert_exporter": "python",
   "pygments_lexer": "ipython3",
   "version": "3.9.9"
  }
 },
 "nbformat": 4,
 "nbformat_minor": 1
}

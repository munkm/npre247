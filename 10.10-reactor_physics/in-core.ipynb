{
 "cells": [
  {
   "cell_type": "code",
   "execution_count": 1,
   "metadata": {
    "collapsed": true
   },
   "outputs": [],
   "source": [
    "%matplotlib inline\n",
    "\n",
    "import matplotlib\n",
    "import numpy as np\n",
    "import matplotlib.pyplot as plt\n",
    "\n",
    "plt.rcParams[\"figure.figsize\"] = (12, 9)\n",
    "plt.rcParams[\"font.size\"] = 18"
   ]
  },
  {
   "cell_type": "markdown",
   "metadata": {},
   "source": [
    "# In Core Fuel Management\n",
    "\n",
    "In core fuel management focuses on the study of requirements and operational considerations impacting fuel performance in the reactor core, power history, core loading patterns, and refuelling activities.\n",
    "\n",
    "\n",
    "## Learning Objectives\n",
    "\n",
    "At the end of this lesson, you will be equipped to:\n",
    "\n",
    "- List safety constraints driving in core fuel management decisions.\n",
    "- Calculate capacity and availability factors.\n",
    "- Calculate the mass required for each reactor year of operation.\n",
    "- Calculate core and assembly discharge burnup based on power output.\n",
    "- Analyze the reactivity evolution of a core based on burnup.\n",
    "- Apply burnup calculations to multiple batch cores.\n",
    "- Recognize the relationship between the number of batches and the final burnup. \n",
    "- Understand the goals driving choices in various fuel loading patterns. \n",
    "- Apply these lessons to pebble-fuelled and liquid-fueled advanced reactor designs.\n",
    "- Recognize the impact of extended burnup on fuel utilization, SWU utilization, and fuel cycle cost.\n",
    "- Understand how isotopic activities can be used to determine fuel burnup.\n",
    "- Calculate burnup based on key activity ratios."
   ]
  },
  {
   "cell_type": "markdown",
   "metadata": {},
   "source": [
    "## Safety Constraints\n",
    "\n",
    "\n",
    "-  $\\frac{P_{peak}}{P_{avg}}$, peak to average power ratio.\n",
    "- $T_{max}$, maximimum core temperature.\n",
    "- Departure from Nucleate Boiling Ratio (DNBR)\n",
    "- $\\rho$, reactivity in the core.\n",
    "- $\\alpha_T$, temperature coefficient of reactivity \n",
    "\n",
    "Primarily, there is a loss of coolant accident (LOCA) peak clad temp (PCT) limit of 1205 $^\\circ C$, which limits the maximum pellet linear power density to approx 48 kW/m at Hot Full Power(HFP).\n",
    "\n",
    "- Critical Heat Flux (CHF), which denotes departure from nuclear boiling (DNB) for a PWR and Dryout for a BWR, not being exceeded during anticipated transients, which limits the maximum average fuel pin linear power density to approximately 29 kW/m at HFP.\n",
    "- Fuel cladding strain limit not exceeded during anticipated transients\n",
    "\n",
    "### Safety Variables\n",
    "\n",
    "- Fuel enrichment\n",
    "- Re-load batch size & number of assemblies\n",
    "- Fuel loading pattern of fresh and partially spent fuel assemblies\n",
    "- Control mechanisms\n"
   ]
  },
  {
   "cell_type": "markdown",
   "metadata": {},
   "source": [
    "## Mass Required\n",
    "\n",
    "The simplest possible representation of the mass of fuel that must be added into a reactor is:\n",
    "\n",
    "\\begin{align}\n",
    "M(t) &= \\frac{Q}{BU}\n",
    "\\end{align}\n",
    "\n",
    "where\n",
    "\\begin{align}\n",
    "M &= \\mbox{mass of heavy metal (e.g., uranium) in the core }[MTHM/yr]\\\\\n",
    "Q &= \\mbox{annual thermal energy output }[GWd/yr]\\\\\n",
    "BU &= \\mbox{burnup }[GWd/MTIHM]\n",
    "\\end{align}\n",
    "\n",
    "\n",
    "But, Q itself typically needs to be back-calculated from energy produced.\n",
    "\n",
    "\\begin{align}\n",
    "Q &= \\frac{P_0\\cdot CF\\cdot T}{\\eta_{th}}\n",
    "\\end{align}\n",
    "\n",
    "where\n",
    "\\begin{align}\n",
    "P_0 &= \\mbox{installed electric capacity }[GWe]\\\\\n",
    "CF &= \\mbox{capacity factor }[-]\\\\\n",
    "T &= \\mbox{time in core } [days]\\\\\n",
    "\\eta_{th} &= \\mbox{thermal efficiency }[GWe/GWth]\\\\\n",
    "\\end{align}\n",
    "\n"
   ]
  },
  {
   "cell_type": "code",
   "execution_count": 2,
   "metadata": {},
   "outputs": [
    {
     "name": "stdout",
     "output_type": "stream",
     "text": [
      "21015.151515151512\n"
     ]
    }
   ],
   "source": [
    "def m(q, bu):\n",
    "    return q/bu\n",
    "\n",
    "def q(p0, cf, t, eta_th):\n",
    "    return p0*cf*t/eta_th\n",
    "\n",
    "p0 = 1000 # installed electric capacity GWe\n",
    "cf = 0.95 # capacity factor\n",
    "t = 365 # days per year\n",
    "eta_th = 0.33 # thermal efficiency GWe/GWth\n",
    "bu = 50 # burnup GWd/MTIHM\n",
    "\n",
    "print(m(q(p0, cf, t, eta_th), bu))\n"
   ]
  },
  {
   "cell_type": "markdown",
   "metadata": {},
   "source": [
    "## Capacity and Availability Factors\n",
    "\n",
    "The capacity factor is representative of the plant's tendency to acheive its rated power capacity.\n",
    "\n",
    "\\begin{align}\n",
    "CF &= \\frac{\\mbox{actual power generated over time T}}{\\mbox{rated power potential over time T}}\\\\\n",
    "  &=\\frac{\\int_0^T P(t)dt}{P_0T}\\\\\n",
    "P(t) &= \\mbox{ thermal power at time t during period T}\n",
    "\\end{align}\n",
    "\n",
    "The capacity factor, integrated over time, gives Effective Full Power Days (EFPD), the equivalent number of days at full power.\n",
    "\n",
    "\\begin{align}\n",
    "EFPD &= \\int_0^TCF(t)dt\\\\\n",
    "     &= \\int_0^T \\frac{\\int_0^T P(t)dt}{P_0T}\\\\\n",
    "\\end{align}\n",
    "\n",
    "\n",
    "\n",
    "The availability factor is always greater than the capacity factor. \n",
    "\n",
    "\\begin{align}\n",
    "AF &= \\frac{\\mbox{time during which the reactor was operational during time period T}}{T}\n",
    "\\end{align}\n",
    "\n"
   ]
  },
  {
   "cell_type": "code",
   "execution_count": 3,
   "metadata": {},
   "outputs": [
    {
     "data": {
      "text/plain": [
       "<matplotlib.legend.Legend at 0x11805bf98>"
      ]
     },
     "execution_count": 3,
     "metadata": {},
     "output_type": "execute_result"
    },
    {
     "data": {
      "image/png": "[encoded data removed]",
      "text/plain": [
       "<matplotlib.figure.Figure at 0x115ec75f8>"
      ]
     },
     "metadata": {},
     "output_type": "display_data"
    }
   ],
   "source": [
    "# The reactor shuts down:\n",
    "# for a few days during the 10th month\n",
    "# for one month during month 18\n",
    "shutdowns = {10:10.1,\n",
    "             18.5:19.5}\n",
    "\n",
    "import numpy as np\n",
    "def A(t, shutdowns):\n",
    "    to_ret = 1.0*(t > 0)\n",
    "    for start,stop in shutdowns.items():\n",
    "        if start < t and t < stop:\n",
    "            to_ret = 0\n",
    "    return to_ret\n",
    "\n",
    "times = np.arange(0.0, 20.0, 0.01)\n",
    "hist = np.arange(0.0, 20.0, 0.01)\n",
    "cf = np.arange(0.0, 20.0, 0.01)\n",
    "\n",
    "for i in range(0, times.size):\n",
    "    hist[i] = A(times[i], shutdowns)\n",
    "    cf[i] = A(times[i], shutdowns)*(1.-0.1*np.random.random())\n",
    "    \n",
    "plt.plot(times, hist, label='Availability')\n",
    "plt.plot(times, cf, label='Capacity')\n",
    "\n",
    "plt.ylim([-0.5, 1.5])\n",
    "plt.title('Capacity and Availabilty')\n",
    "plt.xlabel('Time (months)')\n",
    "plt.ylabel('Factor [-]')\n",
    "plt.legend()\n"
   ]
  },
  {
   "cell_type": "markdown",
   "metadata": {},
   "source": [
    "We can do a quick numeric integral to get each factor as an integral over the 20 month cycle.\n",
    "\n",
    "\\begin{align}\n",
    "AF &= \\frac{\\int_0^{20}A(t)dt}{T}\\\\\n",
    "CF &= \\frac{\\int_0^{20}P(t)dt}{P_0T}\\\\\n",
    "\\end{align}\n"
   ]
  },
  {
   "cell_type": "code",
   "execution_count": 4,
   "metadata": {},
   "outputs": [
    {
     "name": "stdout",
     "output_type": "stream",
     "text": [
      "Availability Factor =  0.9455\n",
      "Capacity Factor =  0.898188858209\n"
     ]
    }
   ],
   "source": [
    "print(\"Availability Factor = \", hist.sum()/hist.shape[0])\n",
    "print(\"Capacity Factor = \", cf.sum()/cf.shape[0])"
   ]
  },
  {
   "cell_type": "markdown",
   "metadata": {},
   "source": [
    "## Simple Reactivity Model\n",
    "- On each cycle (1/n)th of the fuel is replaced\n",
    "- Each fuel batch experiences a discharge burnup of Bd\n",
    "- Each fuel batch on each cycle experiences a burnup of Bd/n\n",
    "- $k_{reactor}$ is the uncontrolled multiplication factor (excess reactivity)\n",
    "- $k_i$ is the infinite multiplication factor of a fuel batch (excess reactivity)\n",
    "    \n",
    "Each batch of fuel will have a different burn-up and $k_i(B)$ since each batch has been in the reactor a different length of time. The reactivity of the reactor is found by summing over the reactivities of all the batches of fuel, for n batches:\n",
    "\n",
    "\\begin{align}\n",
    "k_{reactor} = \\frac{1}{n}\\sum_{i=1}^{n}k_i(B)\n",
    "\\end{align}\n",
    "\n",
    "\n",
    "\\begin{align}\n",
    "k_i(B) = k_0 - \\alpha B_n\n",
    "\\end{align}\n",
    "\n",
    "- $k_0$ is the uncontrolled infinite multiplication factor of the fuel batch when it is fresh.\n",
    "- $B_n$ is the burnup of the batch in a single cycle. The n refers to the number of batches that the reload scheme includes.\n",
    "- $\\alpha$ is a constant of proportionality with units of 1/Bn. Uniform linear depletion.\n",
    "- $k_F$ is the uncontrolled infinite multiplication factor necessary to sustain a chain reaction at the end of an operating cycle\n",
    "\n"
   ]
  },
  {
   "cell_type": "code",
   "execution_count": 5,
   "metadata": {},
   "outputs": [
    {
     "data": {
      "text/plain": [
       "<matplotlib.text.Text at 0x1186906a0>"
      ]
     },
     "execution_count": 5,
     "metadata": {},
     "output_type": "execute_result"
    },
    {
     "data": {
      "image/png": "[encoded data removed]",
      "text/plain": [
       "<matplotlib.figure.Figure at 0x115ecca58>"
      ]
     },
     "metadata": {},
     "output_type": "display_data"
    }
   ],
   "source": [
    "\n",
    "def ki(k0, alpha, b):\n",
    "    return k0 - alpha*b\n",
    "\n",
    "def k(ki, n):\n",
    "    return (1/n)*np.sum(ki)\n",
    "\n",
    "n=3\n",
    "k0 = 4.5\n",
    "alpha = (k0 - 1)/20000\n",
    "bu = np.arange(0, 30000., 1000.)\n",
    "plt.plot(bu, ki(k0, alpha, bu))\n",
    "plt.plot(bu, np.zeros(bu.shape), color='r')\n",
    "plt.ylabel(r'$k_i(B)$')\n",
    "plt.xlabel(r'$B$')\n",
    "plt.title('Excess Reactivity Using Linear Depletion Model')"
   ]
  },
  {
   "cell_type": "markdown",
   "metadata": {},
   "source": [
    "This approximation is somewhat accurate and gives an intuition for the impact of reloading on excess reactivity in the core. \n",
    "\n",
    "![./reloading_keff.png](./reloading_keff.png)"
   ]
  },
  {
   "cell_type": "markdown",
   "metadata": {},
   "source": [
    "## Single Cycle Refuelling\n",
    "\n",
    "\n",
    "![./reload.png](./reload.png)\n",
    "\n",
    "\\begin{align}\n",
    "k_{reactor} = k_1(B_1)\n",
    "\\end{align}\n",
    "\n",
    "\n",
    "\\begin{align}\n",
    "k_1(B_1) = k_0 - \\alpha B_1\n",
    "\\end{align}\n",
    "\n",
    "Therefore the fuel burnup capability is:\n",
    "\n",
    "\\begin{align}\n",
    "B_1 &= \\frac{k_0-k_F}{\\alpha}\n",
    "\\end{align}\n"
   ]
  },
  {
   "cell_type": "markdown",
   "metadata": {},
   "source": [
    "## Two Cycle Refuelling\n",
    "\n",
    "![./two_batch_reload.png](./two_batch_reload.png)\n",
    "\n",
    "At the end of each cycle one batch of fuel has been burned for one cycle and the other batch has been burned for two cycles. Thus:\n",
    "\n",
    "\\begin{align}\n",
    "k_F &= \\frac{k_0 - \\alpha B_2}{2} + \\frac{k_0 - 2\\alpha B_2}{2}\\\\\n",
    "  &= k_0 - \\frac{3\\alpha B_2}{2}\\\\\n",
    "B_2 &= \\frac{2(k_0 - k_F)}{3\\alpha}\\\\\n",
    "    &= \\frac{2}{3}B_1\n",
    "\\end{align}\n",
    "\n",
    "- Each batch in the two cycle reload scheme is burned for $2B_2$. \n",
    "\n",
    "So, in terms of the single cycle reload burnup:\n",
    "\n",
    "\\begin{align}\n",
    "2B_2 &= 2\\left(\\frac{2}{3}B_1\\right)\\\\\n",
    "     &= \\frac{4}{3}B_1\\\\\n",
    "\\end{align}\n",
    "\n",
    "**This means there is 1/3 more burnup in the two cycle reload, for the same initial and final multiplication factors $k_0$ and $k_F$ (exactly the same fuel.)**\n"
   ]
  },
  {
   "cell_type": "markdown",
   "metadata": {},
   "source": [
    "## N Cycle Reload Scheme\n",
    "\n",
    "The relation between end-of-cycle core multiplication factor kF and the fresh fuel batch infinite multiplication factor k0 and the batch burnup in general is\n",
    "\n",
    "\n",
    "\\begin{align}\n",
    "k_F &= k_0 - \\frac{1}{n}\\sum_{i=1}^{n}i\\alpha B_n\\\\\n",
    "\\end{align}\n",
    "\n",
    "Recall from your geometric series intution:\n",
    "\\begin{align}\n",
    "\\sum_{i=1}^{n}i &= \\frac{n(n + 1)}{2}\\\\\n",
    "\\end{align}\n",
    "\n",
    "Therefore:\n",
    "\n",
    "\\begin{align}\n",
    "k_F &= k_0 - \\left(\\frac{n + 1}{2}\\right)\\alpha B_n\\\\\n",
    "\\end{align}\n",
    "\n",
    "The batch burnup in a single cycle is then the result of solving for $B_n$:\n",
    "\n",
    "\\begin{align}\n",
    "B_n &= \\frac{2(k_0 - k_F)}{\\alpha(n + 1)}\n",
    "\\end{align}\n",
    "\n",
    "\n",
    "The discharge burnup of batch n, is the batch burnup in a cycle times the number of cycles:\n",
    "\n",
    "\\begin{align}\n",
    "B_n^d &= nB_n\\\\\n",
    "&= \\frac{2n(k_0 - k_F)}{\\alpha(n + 1)}\\\\\n",
    "      &= \\left(\\frac{2n}{n + 1}\\right)\\frac{k_0 - k_F}{\\alpha} \\\\\n",
    " &= \\left(\\frac{2n}{n + 1}\\right)B_1 \\\\\n",
    "\\end{align}\n"
   ]
  },
  {
   "cell_type": "code",
   "execution_count": 6,
   "metadata": {},
   "outputs": [
    {
     "data": {
      "text/plain": [
       "[<matplotlib.lines.Line2D at 0x1186cca90>]"
      ]
     },
     "execution_count": 6,
     "metadata": {},
     "output_type": "execute_result"
    },
    {
     "data": {
      "image/png": "[encoded data removed]",
      "text/plain": [
       "<matplotlib.figure.Figure at 0x118676cf8>"
      ]
     },
     "metadata": {},
     "output_type": "display_data"
    }
   ],
   "source": [
    "def bd(n, b1):\n",
    "    num = 2*n*b1\n",
    "    denom = n+1\n",
    "    return num/denom\n",
    "\n",
    "b1 = 12000\n",
    "n = np.arange(1,50)\n",
    "plt.plot(n, bd(n, b1))"
   ]
  },
  {
   "cell_type": "markdown",
   "metadata": {},
   "source": [
    "### Discussion: What is the primary drawback of many batches per core?\n",
    "    \n",
    "    "
   ]
  },
  {
   "cell_type": "markdown",
   "metadata": {},
   "source": [
    "## Fuel Loading Patterns  \n",
    "\n",
    "Various fuel loading patterns are used to acheive improved fuel utilization (higher burnup), better core control, and lower leakage to the pressure vessel. \n",
    "\n",
    "\n",
    "![abwr](http://image.slidesharecdn.com/abwrreactorcoreneutronics-100118104629-phpapp02/95/abwr-reactor-core-neutronics-36-728.jpg?cb=1263811648)\n",
    "\n",
    "\n"
   ]
  },
  {
   "cell_type": "markdown",
   "metadata": {},
   "source": [
    "## Many and $\\infty$ Batch Reactor Designs\n",
    "\n",
    "Infinite batch refuelling (a.k.a. online refuelling) is possible in liquid fuelled cores with online reprocessing.\n",
    "\n",
    "![https://upload.wikimedia.org/wikipedia/commons/thumb/0/08/Molten_Salt_Reactor.svg/2000px-Molten_Salt_Reactor.svg.png](https://upload.wikimedia.org/wikipedia/commons/thumb/0/08/Molten_Salt_Reactor.svg/2000px-Molten_Salt_Reactor.svg.png)\n",
    "\n",
    "What exactly is a pebble core, then, in terms of batches?\n",
    "\n",
    "![Manuele Aufiero Slide](https://www.researchgate.net/profile/Manuele_Aufiero/publication/303400799/viewer/AS:364230994874368@1463850844894/background/8.png)\n",
    "<center>Aufiero, 2016</center>\n",
    "\n",
    "\n"
   ]
  },
  {
   "cell_type": "markdown",
   "metadata": {
    "collapsed": true
   },
   "source": [
    "## Total composition evolution\n",
    "\n",
    "\\begin{align}\n",
    "\\frac{dN_i}{dt} &= \\sum_{m=1}^{M}l_{im}\\lambda_mN_m + \\phi\\sum_{m=1}^{M}f_{im}\\sigma_mN_m - (\\lambda_i + \\phi\\sigma_i + r_i - c_i)N_i + F_i\\Big|_{i\\in [1,M]}\\\\\n",
    "\\end{align}\n",
    "\\begin{align}\n",
    "N_i &= \\mbox{atom density of nuclide i}\\\\\n",
    "M &= \\mbox{number of nuclides}\\\\\n",
    "l_{im} &= \\mbox{fraction of decays of nuclide m that result in formation of nuclide i}\\\\\n",
    "\\lambda_i &= \\mbox{radioactive decay constant of nuclide i}\\\\\n",
    "\\phi &= \\mbox{neutron flux, averaged over position and energy}\\\\\n",
    "f_{im} &= \\mbox{fraction of neutron absorption by nuclide m leading to the formation of nuclide i}\\\\\n",
    "\\sigma_m &= \\mbox{average neutron absorption cross section of nuclide m}\\\\\n",
    "r_i &= \\mbox{continuous removal rate of nuclide i from the system}\\\\\n",
    "c_i &= \\mbox{continuous feed rate of nuclide i}\\\\\n",
    "F_i &= \\mbox{production rate of nuclide i directly from fission}\\\\\n",
    "\\end{align}\n",
    "\n",
    "\n",
    "![./u_conc_bu.png](./u_conc_bu.png)\n",
    "\n",
    "![./pu_conc_bu.png](./pu_conc_bu.png)"
   ]
  },
  {
   "cell_type": "markdown",
   "metadata": {},
   "source": [
    "## Fission Product Poisoning\n",
    "\n",
    "**The main impact of fission product poisons is on thermal utilization**\n",
    "\n",
    "Thus, the reactivity in the reactor can be found with knowledge of the impact on the thermal utilization factor.\n",
    "\n",
    "\\begin{align}\n",
    "\\rho &= \\frac{k-k_0}{k}\\\\\n",
    "&= \\frac{f-f_0}{f}\\\\\n",
    "\\mbox{where } &\\\\\n",
    "f_0\\mbox{, }k_0 &= \\mbox{fuel utilization in reactor in the absence of poisons}\\\\\n",
    "f\\mbox{, }k &= \\mbox{fuel utilization in reactor with poisons present}\n",
    "\\end{align}\n",
    "\n",
    "From our discussion of the two, four, and six-factor formulas, we know:\n",
    "\n",
    "\\begin{align}\n",
    "f_0 &= \\frac{\\Sigma_{aF}}{\\Sigma_{aF} + \\Sigma_{aM}}\\\\\n",
    "\\end{align}\n",
    "\n",
    "With poisons present, this becomes:\n",
    "\n",
    "\\begin{align}\n",
    "f &= \\frac{\\Sigma_{aF}}{\\Sigma_{aF} + \\Sigma_{aM} + \\Sigma_{aP}}\\\\\n",
    "\\end{align}\n",
    "\n",
    "Thus, reactivity decreases with the introduction of a fission product poison having $\\Sigma_{aP}$:\n",
    "\n",
    "\n",
    "\\begin{align}\n",
    "\\rho &= \\frac{f-f_0}{f}\\\\\n",
    "&= \\frac{-\\Sigma_{aP}}{\\Sigma_{aF} + \\Sigma_{aM}}\\\\\n",
    "\\end{align}\n",
    "\n"
   ]
  },
  {
   "cell_type": "code",
   "execution_count": 16,
   "metadata": {},
   "outputs": [
    {
     "data": {
      "text/plain": [
       "[<matplotlib.lines.Line2D at 0x11a0999b0>]"
      ]
     },
     "execution_count": 16,
     "metadata": {},
     "output_type": "execute_result"
    },
    {
     "data": {
      "image/png": "[encoded data removed]",
      "text/plain": [
       "<matplotlib.figure.Figure at 0x11a049a58>"
      ]
     },
     "metadata": {},
     "output_type": "display_data"
    }
   ],
   "source": [
    "def rho(f, f0):\n",
    "    return (f-f0)/f\n",
    "\n",
    "def f(sigaf, sigam, sigap):\n",
    "    return sigaf/(sigaf + sigam + sigap)\n",
    "\n",
    "\n",
    "def f0(sigaf, sigam):\n",
    "    return sigaf/(sigaf + sigam)\n",
    "\n",
    "\n",
    "sigaf = 10\n",
    "sigam = 10\n",
    "\n",
    "sigap = np.arange(0,50)\n",
    "plt.plot(sigap, rho(f(sigaf, sigam, sigap), f0(sigaf, sigam)))\n"
   ]
  },
  {
   "cell_type": "markdown",
   "metadata": {},
   "source": [
    "### Example: $^{135}Xe$\n",
    "\n",
    "**Discussion: What is interesting about Xenon?**\n",
    "\n",
    "![https://upload.wikimedia.org/wikipedia/commons/thumb/5/55/Question_Mark.svg/500px-Question_Mark.svg.png](https://upload.wikimedia.org/wikipedia/commons/thumb/5/55/Question_Mark.svg/500px-Question_Mark.svg.png)\n",
    "\n",
    "\n",
    "\n",
    "![http://energyfromthorium.com/wp-content/uploads/2010/06/xsects-500x198.gif](http://energyfromthorium.com/wp-content/uploads/2010/06/xsects-500x198.gif)\n",
    "\n",
    "    \n",
    "$^{135}Xe$ is produced directly by fission and from the decay of iodine.\n",
    "\n",
    "\\begin{align}\n",
    "\\frac{dN_{xe}}{dt} &= \\sum_{m=1}^{M}l_{Xem}\\lambda_mN_m + \\phi\\sum_{m=1}^{M}f_{Xem}\\sigma_mN_m - (\\lambda_{Xe} + \\phi\\sigma_{Xe} + r_{Xe} - c_{Xe})N_{Xe} + F_{Xe}\\\\\n",
    " &= -\\lambda_{Xe}N_{Xe}  - \\sigma_{aXe}\\phi N_{Xe} + \\lambda_IN_I + F_{Xe}\\\\\n",
    " &= -\\lambda_{Xe}N_{Xe}  - \\sigma_{aXe}\\phi N_{Xe} + \\lambda_IN_I + \\gamma_{Xe}\\Sigma_f\\phi\\\\\n",
    " \\gamma_{Xe} &= 0.003\\\\\n",
    " \\gamma_{I} &= 0.061\\\\\n",
    "\\end{align}\n"
   ]
  },
  {
   "cell_type": "markdown",
   "metadata": {},
   "source": [
    "If reactor power (flux) increases, then the higher reaction rate results in a higher concentration of Iodine.\n",
    "\n",
    "![http://www.tpub.com/doenuclearphys/nuclear%20physics%20and%20reactor%20theory_files/image615.jpg](http://www.tpub.com/doenuclearphys/nuclear%20physics%20and%20reactor%20theory_files/image615.jpg)\n",
    "Figure 7.14 in Lamarsh.\n",
    "\n",
    "Iodine, must then decay into Xe (Image below from Wikimedia Commons.)\n",
    "\n",
    "<a title=\"Reactor_shutdown_xe_chart.png: Panther.Panther at ru.wikipedia derivative work: ClashTheBunny [CC BY-SA 1.0 (https://creativecommons.org/licenses/by-sa/1.0), CC BY-SA 3.0 (https://creativecommons.org/licenses/by-sa/3.0) or GFDL (http://www.gnu.org/copyleft/fdl.html)], from Wikimedia Commons\" href=\"https://commons.wikimedia.org/wiki/File:Reactor_shutdown_xe_chart_en.png\"><img width=\"1024\" alt=\"Reactor shutdown xe chart en\" src=\"https://upload.wikimedia.org/wikipedia/commons/1/15/Reactor_shutdown_xe_chart_en.png\"></a>\n",
    "\n",
    "Since 135Xe is the strongest thermal absorber known, it reduces reactivity. An increase in reactor power, then, can cause a massive reduction in reactivity shortly thereafter.\n",
    "\n",
    "![https://www.nuclear-power.net/wp-content/uploads/2017/09/xenon-transient-change-in-power.png](https://www.nuclear-power.net/wp-content/uploads/2017/09/xenon-transient-change-in-power.png)\n",
    "<center>From nuclear-power.net</center>\n",
    "\n",
    "![https://www.nuclear-power.net/wp-content/uploads/2017/09/Xenon-pit-Iodine-pit.gif](https://www.nuclear-power.net/wp-content/uploads/2017/09/Xenon-pit-Iodine-pit.gif)\n",
    "<center>From nuclear-power.net</center>\n"
   ]
  },
  {
   "cell_type": "markdown",
   "metadata": {},
   "source": [
    "### Example: $^{239}Pu$    \n",
    "\n",
    "\n",
    "\\begin{align}\n",
    "\\frac{dN_{Pu}}{dt} &= \\sum_{m=1}^{M}l_{Pum}\\lambda_mN_m + \\phi\\sum_{m=1}^{M}f_{Pum}\\sigma_mN_m - (\\lambda_{Pu} + \\phi\\sigma_{Pu} + r_{Pu} - c_{Pu})N_{Pu} + F_{Pu}\\\\\n",
    "\\end{align}\n",
    "\n",
    "\n",
    "Let's formulate this equation together.\n",
    "\n",
    "\n",
    "$$\\mathrm{^{238}_{\\ 92}U \\ + \\ ^{1}_{0}n \\ \\longrightarrow \\ ^{239}_{\\ 92}U \\ \\xrightarrow [23.5\\ min]{\\beta^-} \\ ^{239}_{\\ 93}Np \\ \\xrightarrow [2.3565\\ d]{\\beta^-} \\ ^{239}_{\\ 94}Pu}$$\n",
    "\n",
    "\n",
    "- Decay of what nuclides result in the formation of $^{239}Pu$?\n",
    "- Does $^{239}Pu$ decay?\n",
    "- Is there a nuclide that becomes  $^{239}Pu$ after it absorbs a neutron?\n",
    "- Does  $^{239}Pu$ ever absorb neutrons?\n",
    "- Is  $^{239}Pu$ ever produced directly from fission?\n",
    "\n",
    "\n",
    "![https://upload.wikimedia.org/wikipedia/commons/thumb/5/55/Question_Mark.svg/500px-Question_Mark.svg.png](https://upload.wikimedia.org/wikipedia/commons/thumb/5/55/Question_Mark.svg/500px-Question_Mark.svg.png)\n"
   ]
  },
  {
   "cell_type": "markdown",
   "metadata": {},
   "source": [
    "## Burnable Poisons\n",
    "\n",
    "- Gadolinia ($Gd_2O_3$) or erbia ($Er_2O_3$) common\n",
    "- Natural Erbium consists of Er166, Er167, Er168  and Er170 primarily.  Er167 has large thermal  cross section.\n",
    "- Gd is an early life burnable poison, typically gone by 10‐20 GWd\n",
    "- Boron also used widely.\n",
    "- Can be mixed with the fuel or a coating on the pellet."
   ]
  },
  {
   "cell_type": "markdown",
   "metadata": {},
   "source": [
    "\\begin{align}\n",
    "\\frac{dN^P(t)}{dt} &= -g(t)\\sigma_{aP}N^P(t)\\phi\\\\\n",
    "g(t) &= \\frac{\\mbox{average flux inside BP}}{\\mbox{average flux in core}}\\\\\n",
    "\\sigma_{aP} &=\\mbox{neutron absorption cross section of the BP}\\\\\n",
    "N^P(t) &= \\mbox{number of atoms of the BP at time t}\n",
    "\\end{align}\n",
    "\n",
    "![./er_conc_bu.png](./er_conc_bu.png)\n",
    "\n",
    "![./er_reactivity_bu.png](./er_reactivity_bu.png)"
   ]
  },
  {
   "cell_type": "markdown",
   "metadata": {
    "collapsed": true
   },
   "source": [
    "## Xenon Poisoning\n",
    "\n",
    "We can define the Xenon buildup with the following two equations.\n",
    "\n",
    "\\begin{align}\n",
    "\\frac{dI(t)}{dt} &= -\\lambda_I I(t) + \\gamma_I \\Sigma_f\\phi(t)\\\\\n",
    "\\frac{dX(t)}{dt} &= \\lambda_I I(t) + \\gamma_X \\Sigma_f\\phi(t)-\\lambda_X X - \\sigma_a^X\\phi(t)X(t) \\\\\n",
    "\\end{align}\n",
    "\n",
    "\n",
    "The solution of these two, coupled, differential equations is:\n",
    "\n",
    "\\begin{align}\n",
    "\\frac{I(t)}{\\Sigma_f} &= \\frac{I(0)}{\\Sigma_f}e^{-\\lambda_I t} + \\frac{\\gamma_I\\phi_o}{\\lambda_I}\\left[1- e^{-\\lambda_It}\\right]\\\\\n",
    "\\frac{X(t)}{\\Sigma_f} &= \\frac{X(0)}{\\Sigma_f}e^{-(\\lambda_X  + \\sigma_a^X\\phi_o)t} + \\frac{(\\gamma_I + \\gamma_x)\\phi_o}{\\lambda_X  + \\sigma_a^X\\phi_o}\\left[1- e^{-(\\lambda_X + \\sigma_a^X\\phi_o)t}\\right]\n",
    "+ \\frac{\\lambda_II(0)/\\Sigma_f - \\gamma_I\\phi_o}{\\lambda_X - \\lambda_I + \\sigma_a^X\\phi_o}{\\lambda_X - \\lambda_I + \\sigma_a^X\\phi_o}\\left[e^{-\\lambda_It} - e^{-(\\lambda_X + \\sigma_a^X\\phi_o)t}\\right]\\\\\n",
    "\\end{align}"
   ]
  },
  {
   "cell_type": "markdown",
   "metadata": {},
   "source": [
    "\n",
    "![https://www.nuclear-power.net/wp-content/uploads/2017/09/Xenon-pit-Iodine-pit.gif](https://www.nuclear-power.net/wp-content/uploads/2017/09/Xenon-pit-Iodine-pit.gif)\n",
    "<center>From nuclear-power.net</center>\n"
   ]
  },
  {
   "cell_type": "code",
   "execution_count": null,
   "metadata": {
    "collapsed": true
   },
   "outputs": [],
   "source": []
  }
 ],
 "metadata": {
  "anaconda-cloud": {},
  "kernelspec": {
   "display_name": "Python 3 (ipykernel)",
   "language": "python",
   "name": "python3"
  },
  "language_info": {
   "codemirror_mode": {
    "name": "ipython",
    "version": 3
   },
   "file_extension": ".py",
   "mimetype": "text/x-python",
   "name": "python",
   "nbconvert_exporter": "python",
   "pygments_lexer": "ipython3",
   "version": "3.9.9"
  }
 },
 "nbformat": 4,
 "nbformat_minor": 1
}

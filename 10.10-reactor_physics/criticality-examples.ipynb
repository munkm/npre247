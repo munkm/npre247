{
 "cells": [
  {
   "cell_type": "markdown",
   "metadata": {
    "deletable": true,
    "editable": true
   },
   "source": [
    "# Criticality Examples\n",
    "\n",
    "## Learning Objectives\n",
    "\n",
    "After this lesson, the student should be able to:\n",
    "\n",
    "- Apply the 6 factor formula to perturbations in an otherwise critical reactor\n",
    "- Estimate effects of changing reactor geometry on criticality and power\n",
    "- Predict impacts on reactor criticality due to changing temperature, nearby materials\n",
    "- Predict the impact of burnup on criticality and power\n",
    "- Estimate changing enrichment on criticality and power"
   ]
  },
  {
   "cell_type": "markdown",
   "metadata": {
    "deletable": true,
    "editable": true
   },
   "source": [
    "## Intuition without the math\n",
    "\n",
    "This notebook is all about intuition.\n",
    "Related to this, there's a pretty cool paper: C. E. Beck, and M. L. Reed. Concepts of reactor physics, without the mathematics. IEEE Transations, 1992.\n",
    "    \n",
    "https://ieeexplore.ieee.org/abstract/document/277545"
   ]
  },
  {
   "cell_type": "markdown",
   "metadata": {
    "deletable": true,
    "editable": true
   },
   "source": [
    "## An example problem from your book\n",
    "\n",
    "Consider a reactor operating at a power $P_0$. It is:\n",
    "\n",
    "- homogeneous (all materials mixed together) \n",
    "- bare (nothing surrounding it, exists in vaccum)\n",
    "- spherical (solid sphere)\n",
    "- source-fre (no external sources)\n",
    "- critical (k=1) \n",
    "- uranium-fueled \n",
    "\n",
    "If the system is perturbed in various ways, how do k and P change?\n"
   ]
  },
  {
   "cell_type": "markdown",
   "metadata": {
    "deletable": true,
    "editable": true
   },
   "source": [
    "### Deformation\n",
    "\n",
    "![./deform.png](deform.png)"
   ]
  },
  {
   "cell_type": "markdown",
   "metadata": {
    "deletable": true,
    "editable": true
   },
   "source": [
    "## A person stands nearby\n",
    "\n",
    "![./person.png](person.png)"
   ]
  },
  {
   "cell_type": "markdown",
   "metadata": {
    "deletable": true,
    "editable": true
   },
   "source": [
    "## Temperature Increase\n",
    "\n",
    "![temp.png](temp.png)"
   ]
  },
  {
   "cell_type": "markdown",
   "metadata": {
    "deletable": true,
    "editable": true
   },
   "source": [
    "## Operated at high power for a long time\n",
    "\n",
    "![clock.png](clock.png)"
   ]
  },
  {
   "cell_type": "markdown",
   "metadata": {
    "deletable": true,
    "editable": true
   },
   "source": [
    "## Launched into Outer Space\n",
    "\n",
    "\n",
    "![https://upload.wikimedia.org/wikipedia/commons/thumb/5/55/Question_Mark.svg/500px-Question_Mark.svg.png](https://upload.wikimedia.org/wikipedia/commons/thumb/5/55/Question_Mark.svg/500px-Question_Mark.svg.png)"
   ]
  },
  {
   "cell_type": "markdown",
   "metadata": {
    "collapsed": true,
    "deletable": true,
    "editable": true
   },
   "source": [
    "## Wrap Cd around the core.\n",
    "Cd is a strong thermal neutron absorber, but it also has a small scattering cross section.\n",
    "\n",
    "![cd-shield.png](cd-shield.png)"
   ]
  },
  {
   "cell_type": "markdown",
   "metadata": {
    "collapsed": true,
    "deletable": true,
    "editable": true
   },
   "source": [
    "## Increase Enrichment \n",
    "\n",
    "![enr.png](enr.png)"
   ]
  },
  {
   "cell_type": "code",
   "execution_count": null,
   "metadata": {
    "collapsed": true,
    "deletable": true,
    "editable": true
   },
   "outputs": [],
   "source": []
  }
 ],
 "metadata": {
  "kernelspec": {
   "display_name": "Python 3",
   "language": "python",
   "name": "python3"
  },
  "language_info": {
   "codemirror_mode": {
    "name": "ipython",
    "version": 3
   },
   "file_extension": ".py",
   "mimetype": "text/x-python",
   "name": "python",
   "nbconvert_exporter": "python",
   "pygments_lexer": "ipython3",
   "version": "3.5.2"
  }
 },
 "nbformat": 4,
 "nbformat_minor": 0
}

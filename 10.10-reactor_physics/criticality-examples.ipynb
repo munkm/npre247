{
 "cells": [
  {
   "cell_type": "markdown",
   "metadata": {},
   "source": [
    "# Criticality Examples\n",
    "\n",
    "## Learning Objectives\n",
    "\n",
    "After this lesson, the student should be able to:\n",
    "\n",
    "- Apply the 6 factor formula to perturbations in an otherwise critical reactor\n",
    "- Estimate effects of changing reactor geometry on criticality and power\n",
    "- Predict impacts on reactor criticality due to changing temperature, nearby materials\n",
    "- Predict the impact of burnup on criticality and power\n",
    "- Estimate changing enrichment on criticality and power"
   ]
  },
  {
   "cell_type": "markdown",
   "metadata": {},
   "source": [
    "## Intuition without the math\n",
    "\n",
    "This notebook is all about intuition.\n",
    "Related to this, there's a pretty cool paper: C. E. Beck, and M. L. Reed. Concepts of reactor physics, without the mathematics. IEEE Transations, 1992.\n",
    "    \n",
    "https://ieeexplore.ieee.org/abstract/document/277545"
   ]
  },
  {
   "cell_type": "markdown",
   "metadata": {},
   "source": [
    "## An example problem from your book\n",
    "\n",
    "Consider a reactor operating at a power $P_0$. It is:\n",
    "\n",
    "- homogeneous (all materials mixed together) \n",
    "- bare (nothing surrounding it, exists in vaccum)\n",
    "- spherical (solid sphere)\n",
    "- source-fre (no external sources)\n",
    "- critical (k=1) \n",
    "- uranium-fueled \n",
    "\n",
    "If the system is perturbed in various ways, how do k and P change?\n"
   ]
  },
  {
   "cell_type": "markdown",
   "metadata": {},
   "source": [
    "### Deformation\n",
    "\n",
    "![./deform.png](deform.png)"
   ]
  },
  {
   "cell_type": "markdown",
   "metadata": {},
   "source": [
    "## A person stands nearby\n",
    "\n",
    "![./person.png](person.png)"
   ]
  },
  {
   "cell_type": "markdown",
   "metadata": {},
   "source": [
    "# Announcements\n",
    "* Clarification about table 10.1 and 10.2 in S&F \n",
    "* Make sure you use all digits in reported atomic/isotopic mass to calculate Q values\n",
    "* Exam II is next Monday. Friday we will spend some of lecture going over the study guide I prepare. You may have an equation sheet, 8.5x11, double sided. It must be handwritten.\n",
    "  * There will be at least one question from the guest lecture\n",
    "  * Problems will focus on material since exam I. However, some concepts will continue (e.g. Number density)"
   ]
  },
  {
   "cell_type": "markdown",
   "metadata": {},
   "source": [
    "## Temperature Increase\n",
    "\n",
    "![temp.png](temp.png)"
   ]
  },
  {
   "cell_type": "markdown",
   "metadata": {},
   "source": [
    "## Operated at high power for a long time\n",
    "\n",
    "![clock.png](clock.png)"
   ]
  },
  {
   "cell_type": "markdown",
   "metadata": {},
   "source": [
    "## Launched into Outer Space\n",
    "\n",
    "\n",
    "![https://upload.wikimedia.org/wikipedia/commons/thumb/5/55/Question_Mark.svg/500px-Question_Mark.svg.png](https://upload.wikimedia.org/wikipedia/commons/thumb/5/55/Question_Mark.svg/500px-Question_Mark.svg.png)"
   ]
  },
  {
   "cell_type": "markdown",
   "metadata": {
    "collapsed": true
   },
   "source": [
    "## Wrap Cd around the core.\n",
    "Cd is a strong thermal neutron absorber, but it also has a small scattering cross section.\n",
    "\n",
    "![cd-shield.png](cd-shield.png)"
   ]
  },
  {
   "cell_type": "markdown",
   "metadata": {
    "collapsed": true
   },
   "source": [
    "## Increase Enrichment \n",
    "\n",
    "![enr.png](enr.png)"
   ]
  },
  {
   "cell_type": "markdown",
   "metadata": {},
   "source": [
    "## Now, let's talk about reactors\n",
    "\n",
    "* Name a reactor you've heard about. What can we deduce about it? \n",
    "* What is the material used for moderator, coolant, and fuel? \n",
    "* Is this reactor fast or thermal? "
   ]
  },
  {
   "cell_type": "markdown",
   "metadata": {
    "collapsed": true
   },
   "source": [
    "# Now let's imagine how these materials factor into the two, four, and six factor formulas"
   ]
  },
  {
   "cell_type": "code",
   "execution_count": null,
   "metadata": {},
   "outputs": [],
   "source": []
  }
 ],
 "metadata": {
  "kernelspec": {
   "display_name": "Python 3 (ipykernel)",
   "language": "python",
   "name": "python3"
  },
  "language_info": {
   "codemirror_mode": {
    "name": "ipython",
    "version": 3
   },
   "file_extension": ".py",
   "mimetype": "text/x-python",
   "name": "python",
   "nbconvert_exporter": "python",
   "pygments_lexer": "ipython3",
   "version": "3.9.9"
  }
 },
 "nbformat": 4,
 "nbformat_minor": 1
}

{
 "cells": [
  {
   "cell_type": "markdown",
   "metadata": {
    "deletable": true,
    "editable": true
   },
   "source": [
    "## Example: Point Source (hw 12)\n",
    "\n",
    "Previously, we calculated the geometric attenuation of radiation from a point source, to identify the flux, $\\phi(r)$ as a function of $r$, distance from the source of neutrons.\n",
    "\n",
    "The uncollided flux for a point source (strength $S_p$) in an infinite medium with attenuation coefficient $\\mu$ would be:\n",
    "\n",
    "\\begin{align}\n",
    "&\\phi^o(r) = \\frac{S_p}{4\\pi r^2}e^{-\\mu r}\\\\\n",
    "\\mbox{where}&\\\\\n",
    "&e^{-\\mu r}=\\mbox{material attenuation}\n",
    "\\end{align}\n",
    "\n",
    "If the medium is not merely absorptive, but is a scattering medium, we can use the notion of diffusion to define the flux at the point r in an infinite moderating (scattering) medium. \n",
    "  \n",
    "\n",
    "\\begin{align}\n",
    "\\phi(r) &= \\frac{S_p}{4\\pi Dr}e^{-\\mu r}\\\\\n",
    "\\mbox{where }&\\\\\n",
    "D &= \\mbox{ the diffusion coefficient in the medium}\n",
    "\\end{align}\n",
    "\n",
    "To show that the above is true, one must solve solution to the diffusion equation. To do so, one must use spherical coordinates for the laplacian and two boundary conditions. First, the finite flux condition, such that the flux is zero at infinity. Second, the source condition, defining the limit of the neutron current density as r goes to zero.\n",
    "\n",
    "####  Recall: What are the units of D?\n",
    "\n",
    "![https://upload.wikimedia.org/wikipedia/commons/thumb/5/55/Question_Mark.svg/500px-Question_Mark.svg.png](https://upload.wikimedia.org/wikipedia/commons/thumb/5/55/Question_Mark.svg/500px-Question_Mark.svg.png)\n",
    "\n",
    "\n",
    "To remind ourselves of current density, let's identify the neutron current density in this problem. Specifically, let's ask: **What is the net number of neutrons flowing out through a spherical shell of radius r surrounding the source?**\n",
    "\n",
    "This will be the neutron current density normal to the surface of a sphere at r. First, the neutron current density follows Fick's law:\n",
    "\n",
    "\\begin{align}\n",
    "\\boldsymbol{\\vec{J}} = -D\\nabla \\phi\n",
    "\\end{align}\n",
    "\n",
    "And in our case, the problem has radial symmetry, so we're interested in $\\vec{J}(r)$. We'll need to use the r-component of the gradient operator in spherical coordinates ($\\nabla_r$).\n",
    "\n",
    "\\begin{align}\n",
    "\\boldsymbol{\\vec{J}}_r &= -D\\nabla_r \\phi(r)\\\\\n",
    "&= -D \\frac{d\\phi(r)}{dr}\\hat{r}\n",
    "\\end{align}\n",
    "\n",
    "This gives:\n",
    "\n",
    "\n",
    "\\begin{align}\n",
    "\\boldsymbol{\\vec{J}}_r &= -D \\frac{d\\phi(r)}{dr}\\hat{r}\\\\\n",
    "&= -D \\frac{d}{dr}\\left(\\frac{S_p}{4\\pi Dr}e^{-\\mu r}\\right)\\hat{r}\\\\\n",
    "&= \\frac{S_p}{4\\pi}\\left(\\frac{1}{r^2} + \\frac{\\mu}{r}\\right)e^{-\\mu r}\\hat{r}\\\\\n",
    "\\end{align}\n",
    "\n",
    "####  Fundamentals Review: What is $\\hat{r}$?\n",
    "\n",
    "![https://upload.wikimedia.org/wikipedia/commons/thumb/5/55/Question_Mark.svg/500px-Question_Mark.svg.png](https://upload.wikimedia.org/wikipedia/commons/thumb/5/55/Question_Mark.svg/500px-Question_Mark.svg.png)\n",
    "\n"
   ]
  },
  {
   "cell_type": "code",
   "execution_count": null,
   "metadata": {
    "collapsed": true,
    "deletable": true,
    "editable": true
   },
   "outputs": [],
   "source": []
  }
 ],
 "metadata": {
  "kernelspec": {
   "display_name": "Python 3",
   "language": "python",
   "name": "python3"
  },
  "language_info": {
   "codemirror_mode": {
    "name": "ipython",
    "version": 3
   },
   "file_extension": ".py",
   "mimetype": "text/x-python",
   "name": "python",
   "nbconvert_exporter": "python",
   "pygments_lexer": "ipython3",
   "version": "3.5.2"
  }
 },
 "nbformat": 4,
 "nbformat_minor": 0
}

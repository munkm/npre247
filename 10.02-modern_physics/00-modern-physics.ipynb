{
 "cells": [
  {
   "cell_type": "markdown",
   "metadata": {},
   "source": [
    "# Organizational Things\n",
    "\n",
    "* What do you do if you see an error in my notes? \n",
    "* If you choose to do the homework in a jupyter notebook, please make sure to document your work before you write a function. \n",
    "* Let's do a number density problem together.\n",
    "> A 1g target of natural Chromium is to be put into a reactor for neutron activation. Calculate the number of atoms of 50Cr in the target."
   ]
  },
  {
   "cell_type": "code",
   "execution_count": 1,
   "metadata": {},
   "outputs": [],
   "source": [
    "%matplotlib notebook\n",
    "%matplotlib inline\n",
    "import math\n",
    "import matplotlib.pyplot as plt\n",
    "import numpy as np"
   ]
  },
  {
   "cell_type": "markdown",
   "metadata": {},
   "source": [
    "# Modern Physics\n",
    "\n",
    "Once we've completed this lesson, you should be able to: \n",
    "\n",
    "- State the special theory of relativity\n",
    "- Differentiate inertial and non-inertial reference frames\n",
    "- Compare classical and relativistic physics approaches\n",
    "- Calculate relativistic masses\n",
    "- Calculate time dilation\n",
    "- Calculate length contraction\n",
    "- Describe the photoelectric effect\n",
    "- Calculate Compton scattering angles and kinetic energies\n",
    "- Calculate de Broglie wavelengths\n",
    "- Relate energy and wavelength for photons\n",
    "- Understand wave-particle duality \n",
    "- Relate wave-particle duality and particle energy/wavelength\n"
   ]
  },
  {
   "cell_type": "markdown",
   "metadata": {},
   "source": [
    "## Special Theory of Relativity\n",
    "\n",
    "Classical physics relies on Newton's laws to descibe motion. Newton's second law says:\n",
    "\n",
    "\n",
    "\\begin{align}\n",
    "F &=\\frac{d\\vec{p}}{dt} \\\\\n",
    "   &= \\frac{dm\\vec{v}}{dt}\n",
    "\\end{align}\n",
    "where\n",
    "\\begin{align}\n",
    "\\vec{F} &= \\mbox{the force applied to the object}\\\\\n",
    "  \\vec{p} &= \\mbox{the momentum of the object}\\\\\n",
    "  \\vec{v} &= \\mbox{velocity of the object}\\\\\n",
    "  m       &= \\mbox{mass of the object}\\\\\n",
    "\\end{align}\n",
    "\n",
    "In newtonian physics, the mass of the object ($m$) is constant. \n",
    "\n",
    "\n",
    "### Relativistic Mass\n",
    "\n",
    "In 1905 Einstein showed that mass varies with an object's speed.\n",
    "\\begin{align}\n",
    "m = \\frac{m_o}{\\sqrt{1-\\frac{v^2}{c^2}}}\n",
    "\\end{align}\n",
    "where\n",
    "\\begin{align}\n",
    "  m_o &= \\mbox{rest mass of the object}\\\\\n",
    "  c &= \\mbox{speed of light}\\\\\n",
    "    &= 3\\times10^{8}\\frac{m}{s}\n",
    "\\end{align}\n"
   ]
  },
  {
   "cell_type": "markdown",
   "metadata": {},
   "source": [
    "## Principle of Relativity\n",
    "\n",
    "Lots of things are relative. \n",
    "When we talk in physics about relativity, we intend to refer to the _relative_ features of coordinate systems.\n",
    "\n",
    "Imagine two inertial coordinate systems. $S$ is stationary, while $S'$ is moving away along the x axis with velocity $\\vec{v} = v\\hat{x}$. The coordinate transformation is, then.\n",
    "\n",
    "\\begin{align}\n",
    "x' & = x - vt\\\\\n",
    "y' &= y\\\\\n",
    "z' &= z\\\\\n",
    "t' &= t\n",
    "\\end{align}"
   ]
  },
  {
   "cell_type": "markdown",
   "metadata": {},
   "source": [
    "Substituting these transformations into Newton's laws does not impact their validity. If we consider a force $F_x$ acting on mass $m$, then the 2nd law in the moving system is:\n",
    "\n",
    "\n",
    "\n",
    "\\begin{align}\n",
    "F_x & = m\\frac{d^2x'}{dt'^2}\\\\\n",
    "\\end{align}\n",
    "\n",
    "If we transform it to the stationary system, with constant $v$:\n",
    "\n",
    "\n",
    "\\begin{align}\n",
    "F_x &= m\\frac{d^2x'}{dt'^2}\\\\\n",
    "&= m\\frac{d^2(x-vt)}{d(t)^2}\\\\\n",
    "&= m\\frac{d^2x}{dt^2}\\\\\n",
    "\\end{align}\n",
    "\n",
    "\n",
    "However, Maxwell's equations don't survive the transformation above. Lorentz observed (1904) that a different transformation could preserve Maxwell's equations. We call this the Lorentz transformation:\n",
    "\n",
    "\\begin{align}\n",
    "x' &= \\frac{x - vt}{\\sqrt{1-\\frac{v^2}{c^2}}}\\\\\n",
    "y' &= y\\\\\n",
    "z' &= z\\\\\n",
    "t' &= \\frac{t-\\frac{vx}{c^2}}{\\sqrt{1-\\frac{v^2}{c^2}}}\\\\\n",
    "\\end{align}\n",
    "\n",
    "\n",
    "In the Lorentz transformation above, **space and time depend on one another.**"
   ]
  },
  {
   "cell_type": "code",
   "execution_count": 2,
   "metadata": {},
   "outputs": [
    {
     "data": {
      "text/plain": [
       "<matplotlib.legend.Legend at 0x113ad8370>"
      ]
     },
     "execution_count": 2,
     "metadata": {},
     "output_type": "execute_result"
    },
    {
     "data": {
      "image/png": "[encoded data removed]",
      "text/plain": [
       "<Figure size 432x288 with 1 Axes>"
      ]
     },
     "metadata": {
      "needs_background": "light"
     },
     "output_type": "display_data"
    }
   ],
   "source": [
    "def x_ltz(x, v, t):\n",
    "    c = 3.0e8\n",
    "    num = x - v*t\n",
    "    denom = math.sqrt(1-(v/c)**2)\n",
    "    return num/denom\n",
    "\n",
    "def t_ltz(x, v, t):\n",
    "    c = 3.0e8\n",
    "    num = t - v*x/c**2\n",
    "    denom = math.sqrt(1-(v/c)**2)\n",
    "    return num/denom\n",
    "\n",
    "x = 1\n",
    "vel = 3.0e2\n",
    "time = np.arange(0, 300, 10)\n",
    "to_plot = np.arange(0.,30.)\n",
    "for i in range(0, 30):\n",
    "    to_plot[i] = x_ltz(x, vel, time[i])\n",
    "\n",
    "plt.plot(time, to_plot, label=\"x_ltz\")\n",
    "plt.ylabel(\"Lorentz transformed x ($m$)\")\n",
    "plt.xlabel(\"time $(s)$\")\n",
    "plt.legend(loc=2)\n"
   ]
  },
  {
   "cell_type": "markdown",
   "metadata": {},
   "source": [
    "### Results of the Special Theory of Relativity\n",
    "\n",
    "What Einstein showed in 1905 was that **all physics in inertial coordinate systems remains unchanged under the Lorentz transformation.** To acheive this, however, one must correct Newton's laws of motion to allow them, too, to remain invariant under this transformation.\n",
    "\n",
    "Einstein based this on two _postulates_:\n",
    "\n",
    "- The laws of motion should have the same form in all coordinate systems moving at constant velocities to one another.\n",
    "- The speed of light in free space, $c$, is the same for all observers and is independent of the relative velocity between the source and observer.\n",
    "\n",
    "#### Exercise: Think-pair-share\n",
    "\n",
    "If the first postulate, velocity is kept constant between coordinate systems. What is the name for such coordinate systems?\n",
    "\n",
    "If the coordinate systems were accelerating with respect to each other, what quality is lost?"
   ]
  },
  {
   "cell_type": "markdown",
   "metadata": {},
   "source": [
    "### Result: Relativistic Mass\n",
    "\n",
    "The laws of motion are correct, as stated by Newton, if the mass of the object is a function of the object's speed.\n",
    "\n",
    "In 1905 Einstein showed that mass varies with an object's speed.\n",
    "\n",
    "\\begin{align}\n",
    "m = \\frac{m_o}{\\sqrt{1-\\frac{v^2}{c^2}}}\n",
    "\\end{align}\n",
    "where\n",
    "\\begin{align}\n",
    "  m_o &= \\mbox{rest mass of the object}\\\\\n",
    "  c &= \\mbox{speed of light}\\\\\n",
    "    &= 3\\times10^{8}\\frac{m}{s}\n",
    "\\end{align}\n",
    "\n",
    "#### Exercise: Think, Pair, Share\n",
    "\n",
    "If one plotted mass as a function of velocity, what could one expect the plot to look like?"
   ]
  },
  {
   "cell_type": "code",
   "execution_count": 3,
   "metadata": {},
   "outputs": [],
   "source": [
    "def m_rel(m_o, v):\n",
    "    \"\"\"Returns the relativistic mass of an object\n",
    "    \n",
    "    Parameters\n",
    "    ----------\n",
    "    m_o : double\n",
    "        rest mass of the object\n",
    "    v : double\n",
    "        velocity of the object\n",
    "    \"\"\"\n",
    "    c = 3.0e8\n",
    "    m = m_o/math.sqrt((1 - pow(v,2)/pow(c,2)))\n",
    "    return m"
   ]
  },
  {
   "cell_type": "code",
   "execution_count": 4,
   "metadata": {},
   "outputs": [
    {
     "data": {
      "text/plain": [
       "<matplotlib.legend.Legend at 0x113c28730>"
      ]
     },
     "execution_count": 4,
     "metadata": {},
     "output_type": "execute_result"
    },
    {
     "data": {
      "image/png": "[encoded data removed]",
      "text/plain": [
       "<Figure size 432x288 with 1 Axes>"
      ]
     },
     "metadata": {
      "needs_background": "light"
     },
     "output_type": "display_data"
    }
   ],
   "source": [
    "# Plot it\n",
    "vel = np.arange(0, 3.0e8, 1.0e7)\n",
    "to_plot = np.arange(0.,30.)\n",
    "for i in range(0, 30):\n",
    "    to_plot[i] = m_rel(1, vel[i])\n",
    "\n",
    "plt.plot(vel, to_plot, label=\"relativistic mass\")\n",
    "plt.ylabel(\"relativistic mass (normalized by $m_o$)\")\n",
    "plt.xlabel(\"velocity $(m/s)$\")\n",
    "plt.legend(loc=2)"
   ]
  },
  {
   "cell_type": "markdown",
   "metadata": {},
   "source": [
    "# Organizational Things -- Modern Physics Lecture 02 \n",
    "\n",
    "* What do you do if you see an error in my notes (revisit)? \n",
    "* To get you more used to my software notation, I'm going to try to explain more of the code going forward in these notebooks. **Please stop me and ask if you are uncertain about my notation.**\n",
    "\n",
    "You all had **lots** of great answers to the quiz (barn, shed, Watts, meters) about your favorite units. Mine is either the barn or the banana equivalent dose. Check out these pages if you're interested:\n",
    "* [humorous units of measurement](https://en.wikipedia.org/wiki/List_of_humorous_units_of_measurement)\n",
    "* [unusual units of measurement](https://en.wikipedia.org/wiki/List_of_unusual_units_of_measurement)"
   ]
  },
  {
   "cell_type": "markdown",
   "metadata": {},
   "source": [
    "### Result: Length Contraction\n",
    "\n",
    "The length of a moving object, in the direction of its motion, appears smaller to an observer at rest:\n",
    "\n",
    "\\begin{align}\n",
    "L&=L_o \\sqrt{1-\\frac{v^2}{c^2}}\n",
    "\\end{align}\n",
    "\n",
    "where\n",
    "\n",
    "\n",
    "\\begin{align}\n",
    "L_o &= \\mbox{proper length of the object at rest}\n",
    "\\end{align}"
   ]
  },
  {
   "cell_type": "code",
   "execution_count": 5,
   "metadata": {},
   "outputs": [
    {
     "data": {
      "text/plain": [
       "<matplotlib.legend.Legend at 0x11156c8b0>"
      ]
     },
     "execution_count": 5,
     "metadata": {},
     "output_type": "execute_result"
    },
    {
     "data": {
      "image/png": "[encoded data removed]",
      "text/plain": [
       "<Figure size 432x288 with 1 Axes>"
      ]
     },
     "metadata": {
      "needs_background": "light"
     },
     "output_type": "display_data"
    }
   ],
   "source": [
    "def l_rel(l_o, v):\n",
    "    \"\"\"Returns the relativistic length of an object\n",
    "    \n",
    "    Parameters\n",
    "    ----------\n",
    "    l_o : double\n",
    "        rest length of the object\n",
    "    v : double\n",
    "        velocity of the object\n",
    "    \"\"\"\n",
    "    c = 3.0e8\n",
    "    length = l_o*math.sqrt((1 - pow(v,2)/pow(c,2)))\n",
    "    return length\n",
    "\n",
    "# Plot it\n",
    "vel = np.arange(0, 3.0e8, 1.0e7)\n",
    "to_plot = np.arange(0.,30.)\n",
    "for i in range(0, 30):\n",
    "    to_plot[i] = l_rel(1, vel[i])\n",
    "\n",
    "plt.plot(vel, to_plot, label=\"relativistic length\")\n",
    "plt.ylabel(\"relativistic length (normalized by $L_o$)\")\n",
    "plt.xlabel(\"velocity $(m/s)$\")\n",
    "plt.legend(loc=2)"
   ]
  },
  {
   "cell_type": "markdown",
   "metadata": {},
   "source": [
    "#### Exercise: Think-Pair-Share\n",
    "\n",
    "When we talk about length in this way, in what direction are we measuring it?"
   ]
  },
  {
   "cell_type": "markdown",
   "metadata": {},
   "source": [
    "### Result: Time Dilation\n",
    "\n",
    "The passage of time appears slow in a system moving with respect to a stationary observer.\n",
    "\n",
    "\n",
    "\\begin{align}\n",
    "t &= \\frac{t_o}{\\sqrt{1-\\frac{v^2}{c^2}}}\n",
    "\\end{align}\n",
    "\n",
    "where\n",
    "\n",
    "\n",
    "\\begin{align}\n",
    "t &= \\mbox{time required for some physical phenomenon in the moving system}\\\\\n",
    "t_o &= \\mbox{time required for some physical phenomenon in the stationary system}\n",
    "\\end{align}"
   ]
  },
  {
   "cell_type": "code",
   "execution_count": 6,
   "metadata": {
    "scrolled": true
   },
   "outputs": [
    {
     "data": {
      "text/plain": [
       "<matplotlib.legend.Legend at 0x113e01310>"
      ]
     },
     "execution_count": 6,
     "metadata": {},
     "output_type": "execute_result"
    },
    {
     "data": {
      "image/png": "[encoded data removed]",
      "text/plain": [
       "<Figure size 432x288 with 1 Axes>"
      ]
     },
     "metadata": {
      "needs_background": "light"
     },
     "output_type": "display_data"
    }
   ],
   "source": [
    "def t_rel(t_o, v):\n",
    "    \"\"\"Returns the time required for some physical phenomenon in the moving system\n",
    "    \n",
    "    Parameters\n",
    "    ----------\n",
    "    t_o : double\n",
    "        time required for some physical phenomenon in the stationary system\n",
    "    v : double\n",
    "        velocity of the moving reference frame\n",
    "    \"\"\"\n",
    "    c = 3.0e8\n",
    "    time = t_o/math.sqrt((1 - pow(v,2)/pow(c,2)))\n",
    "    return time\n",
    "\n",
    "# Plot it\n",
    "vel = np.arange(0, 3.0e8, 1.0e7)\n",
    "to_plot = np.arange(0.,30.)\n",
    "for i in range(0, 30):\n",
    "    to_plot[i] = t_rel(1, vel[i])\n",
    "\n",
    "plt.plot(vel, to_plot, label=\"relativistic time\")\n",
    "plt.ylabel(\"relativistic time (normalized by $t_o$)\")\n",
    "plt.xlabel(\"velocity $(m/s)$\")\n",
    "plt.legend(loc=2)"
   ]
  },
  {
   "cell_type": "markdown",
   "metadata": {},
   "source": [
    "### Exercise: Consider twins\n",
    "\n",
    "Now, imagine two identical twins, one of whom makes a journey into space in a high-speed rocket and returns home.\n",
    "\n",
    "Other than an exciting new experience, did this trip change them at all? "
   ]
  },
  {
   "cell_type": "markdown",
   "metadata": {},
   "source": [
    "### Result: Equivalence of mass and energy \n",
    "\n",
    "The most famous result is that there is an equivalence between mass and energy:\n",
    "\n",
    "\\begin{align}\n",
    "E_{rest} = m c^2\n",
    "\\end{align}\n",
    "\n",
    "For particles with mass (such as electrons, protons, neutrons, alpha particles, etc.), the rest mass energy is\n",
    "\n",
    "\\begin{align}\n",
    "E_{rest} = m_o c^2\n",
    "\\end{align}\n",
    "\n",
    "where m_o is the mass that is given in reference tables.\n"
   ]
  },
  {
   "cell_type": "markdown",
   "metadata": {},
   "source": [
    "###  Exercise: Calculate the energy equivalent of the atomic mass unit\n",
    "\n",
    "\n"
   ]
  },
  {
   "cell_type": "markdown",
   "metadata": {},
   "source": [
    "### Total Energy\n",
    "\n",
    "The total energy ($E_{total}$) is the sum of the rest and kinetic energies.  Therefore, for relativistic particles, the total energy is:\n",
    "\n",
    "\\begin{align}\n",
    "E_{total} &= E_{rest} + E_{kinetic}\\\\\n",
    "          &= mc^2\\\\\n",
    "          &=\\frac{m_oc^2}{\\sqrt{1-\\frac{v^2}{c^2}}}\\\\\n",
    "\\end{align}\n",
    "\n",
    "\n",
    "The above can be used for any particle, though for velocities much slower than the speed of light ($<0.1c$), one can use the simpler classical mechanics expression:\n",
    "\n",
    "\\begin{align}\n",
    "          E_{total} &= E_{rest} + E_{kinetic}\\\\\n",
    "                    &=m_o c^2 + \\frac{1}{2}m_ov^2\\\\\n",
    "\\end{align}\n",
    "\n",
    "### Exercise: Think-pair-share\n",
    "Why do photons, such as gamma and X rays, have no rest mass energy ?\n"
   ]
  },
  {
   "cell_type": "markdown",
   "metadata": {},
   "source": [
    "## Photon Energy\n",
    "\n",
    "The total energy of a photon, moving at the speed of light $(c=\\lambda\\nu)$ is:\n",
    "\n",
    "\\begin{align}\n",
    "E_{total} &= h\\nu\\\\\n",
    "  &= \\frac{hc}{\\lambda}\n",
    "\\end{align}\n",
    "\n",
    "where\n",
    "\n",
    "\\begin{align}\n",
    "h &=\\mbox{Planck's constant} = 6.6260 \\times 10^{-34} J s = 4.1356 \\times 10^{-15} eV s\\\\\n",
    "\\nu &= \\mbox{frequency of the particle}\\\\\n",
    "\\lambda &= \\mbox{wavelength}\n",
    "\\end{align}\n",
    "\n"
   ]
  },
  {
   "cell_type": "markdown",
   "metadata": {
    "collapsed": true
   },
   "source": [
    "## Kinetic Energy and Momentum\n",
    "\n",
    "The equation for a particle's momentum is identical both classically and relativistically,\n",
    "\n",
    "\\begin{align}\n",
    "p=mv.\n",
    "\\end{align}\n",
    "\n",
    "Classically, we can describe the kinetic energy, $E_{kinetic}$, using the momentum.\n",
    "\n",
    "\\begin{align}\n",
    "E_{kinetic} &= \\frac{mv^2}{2}\\\\\n",
    "  &= \\frac{p^2}{2m}\\\\\n",
    "  \\implies p = \\sqrt{2mE_{kinetic}}\n",
    "\\end{align}\n",
    "\n",
    "Relativistically, the relationship between momentum and kinetic energy is, instead:\n",
    "\n",
    "\\begin{align}\n",
    "p = \\frac{1}{c}\\sqrt{E_{kinetic}^2 + 2E_{kinetic}m_oc^2}.\n",
    "\\end{align}"
   ]
  },
  {
   "cell_type": "code",
   "execution_count": 7,
   "metadata": {},
   "outputs": [
    {
     "data": {
      "text/plain": [
       "<matplotlib.legend.Legend at 0x113e2e8b0>"
      ]
     },
     "execution_count": 7,
     "metadata": {},
     "output_type": "execute_result"
    },
    {
     "data": {
      "image/png": "[encoded data removed]",
      "text/plain": [
       "<Figure size 432x288 with 1 Axes>"
      ]
     },
     "metadata": {
      "needs_background": "light"
     },
     "output_type": "display_data"
    }
   ],
   "source": [
    "def mom_class(T, m):\n",
    "    p = pow(2*m*T, 0.5)   \n",
    "    return p\n",
    "    \n",
    "def mom_rel(T, m_o):\n",
    "    c = 3.0e8\n",
    "    p = (1/c)*pow((T**2 + 2*T*m_o*c**2), 0.5)\n",
    "    return p\n",
    "\n",
    "\n",
    "# Plot it\n",
    "kinetic = np.arange(0, 3.0e8, 1.0e7)\n",
    "to_plot_rel = np.arange(0.,30.)\n",
    "to_plot_class = np.arange(0, 30.)\n",
    "m = 1\n",
    "for i in range(0, 30):\n",
    "    to_plot_rel[i] = mom_rel(kinetic[i], m)\n",
    "    to_plot_class[i] = mom_class(kinetic[i], m)\n",
    "    \n",
    "plt.plot(kinetic, to_plot_class, label=\"classical momentum\")\n",
    "plt.plot(kinetic, to_plot_rel, label=\"relativistic momentum\")\n",
    "plt.xlabel(\"kinetic energy\")\n",
    "plt.legend(loc=2)"
   ]
  },
  {
   "cell_type": "code",
   "execution_count": 8,
   "metadata": {},
   "outputs": [
    {
     "data": {
      "text/plain": [
       "<matplotlib.legend.Legend at 0x113c8a400>"
      ]
     },
     "execution_count": 8,
     "metadata": {},
     "output_type": "execute_result"
    },
    {
     "data": {
      "image/png": "[encoded data removed]",
      "text/plain": [
       "<Figure size 432x288 with 1 Axes>"
      ]
     },
     "metadata": {
      "needs_background": "light"
     },
     "output_type": "display_data"
    }
   ],
   "source": [
    "to_plot_diff = to_plot_rel - to_plot_class\n",
    "plt.plot(kinetic, to_plot_diff, label=\"mom_rel - mom_class\")\n",
    "plt.ylabel(\"relativistic momentum correction ($\\Delta p $)\")\n",
    "plt.xlabel(\"kinetic energy\")\n",
    "plt.legend(loc=2)"
   ]
  },
  {
   "cell_type": "markdown",
   "metadata": {},
   "source": [
    "## The photoelectric effect\n",
    "\n",
    "\n",
    "\n",
    "- **1887** Hertz showed that when metal surfaces were irradiated with light \"electricity\" was emitted\n",
    "- **1898** J.J. Thompson showed these were electrons (\"photoelectrons\")\n",
    "\n",
    "The classical theory explaining this was insufficient to describe the experimental results. Specifically, it failed to explain the following phenomena:\n",
    "\n",
    "- For each metal there is a minimum light frequency $\\nu$ below which no photoelectrons are emitted\n",
    "- There is no time lag between the irradiation and emission\n",
    "- The intensity of the light only impacts the _rate_ of photoelectron emission\n",
    "- The photoelectron kinetic energy only depends on frequency of light (not intensity)\n",
    "\n",
    "- **1905** Einstein, in his big year, suggested a new model. \n",
    "\n",
    "<a title=\"By Wolfmankurd (en:Inkscape) [GFDL (http://www.gnu.org/copyleft/fdl.html) or CC-BY-SA-3.0 (http://creativecommons.org/licenses/by-sa/3.0/)], via Wikimedia Commons\" href=\"https://commons.wikimedia.org/wiki/File:Photoelectric_effect.svg\"><img width=\"128\" alt=\"Photoelectric effect\" src=\"https://upload.wikimedia.org/wikipedia/commons/thumb/f/f5/Photoelectric_effect.svg/128px-Photoelectric_effect.svg.png\"></a>\n",
    "\n",
    "\n",
    "He postulated that light is made of _photons_ that have energy:\n",
    "\n",
    "\\begin{align}\n",
    "E&=h\\nu\\\\\n",
    " &=\\mbox{energy of a photon}\\\\\n",
    "\\mbox{where }&\\\\\n",
    "h&=\\mbox{Plank's constant}\\\\\n",
    " &=6.62\\times 10^{-34} [J\\cdot s]\\\\\n",
    "\\nu&=\\mbox{photon frequency}\n",
    "\\end{align}\n",
    "\n",
    "Additionally, he suggested that photons act as a whole -- never partially absorbed or emitted by an atom. Thus, the maximum kinetic energy of an electron would be:\n",
    "\n",
    "\\begin{align}\n",
    "E&=h\\nu-A\\\\\n",
    " &=\\mbox{maximum kinetic energy of a photoelectron}\\\\\n",
    " \\mbox{where }&\\\\\n",
    "A &= \\mbox{\"work function\"}\\\\\n",
    "&=\\mbox{amount of energy required to free the electron from the metal}\n",
    "\\end{align}"
   ]
  },
  {
   "cell_type": "markdown",
   "metadata": {},
   "source": [
    "## Exercise: Photoelectric effect (from Shultis & Faw)\n",
    "\n",
    "What is the maximum wavelength of light required to liberate photoelectrons from a metallic surface with a awork function of 2.35eV (energy neeced to free a valence electron)?\n",
    "\n",
    "\n",
    "The maximum wavelength has the minumum frequency. So, find the minimum frequency by assuming no energy is lost to the electron in the form of kinetic energy:\n",
    "\n",
    "\\begin{align}\n",
    "\\nu_{min} &= \\frac{A}{h}\\\\\n",
    "          &=\\frac{2.35ev}{4.136\\times10^{-15}eV}\\\\\n",
    "          &= 5.68\\times 10^{14} \\frac{1}{s}\\\\\n",
    "\\implies \\lambda_{max} &= \\frac{c}{\\nu_{min}}\\\\\n",
    "            &=\\frac{2.998\\times10^{8}\\frac{m}{s}}{5.68\\times 10^{14}\\frac{1}{s}}\\\\\n",
    "             &=\\boxed{5.28\\times10^{-7}m}\n",
    "\\end{align}"
   ]
  },
  {
   "cell_type": "markdown",
   "metadata": {},
   "source": [
    "## Compton Scattering\n",
    "\n",
    "- **1922** Compton noticed that x-rays scattered from electrons had a change in wavelength $\\Delta\\lambda = \\lambda' - \\lambda$ proportional to $(1-\\cos{\\theta_s})$\n",
    "\n",
    "<a title=\"JabberWok [GFDL (http://www.gnu.org/copyleft/fdl.html) or CC-BY-SA-3.0 (http://creativecommons.org/licenses/by-sa/3.0/)], via Wikimedia Commons\" href=\"https://commons.wikimedia.org/wiki/File:Compton-scattering.svg\"><img width=\"128\" alt=\"Compton-scattering\" src=\"https://upload.wikimedia.org/wikipedia/commons/thumb/e/e3/Compton-scattering.svg/128px-Compton-scattering.svg.png\"></a>\n",
    "\n",
    "\n"
   ]
  },
  {
   "cell_type": "markdown",
   "metadata": {},
   "source": [
    "To explain this, we must treat x-rays as particles with a linear momentum $p=\\frac{h}{\\lambda}$ and energy $E=h\\nu=pc$.\n",
    "\n",
    "In an x-ray scattering  interaction, both momentum and energy must be conserved. To conserve momentum\n",
    "\n",
    "\\begin{align}\n",
    "\\vec{p_\\lambda} = \\vec{p_{\\lambda'}}+\\vec{p_e}\n",
    "\\end{align}\n",
    "\n",
    "## Exercise: Conservation of Momentum\n",
    "\n",
    "Draw a triangle representing the relationship between $\\vec{p_\\lambda}$,$\\vec{p_{\\lambda'}}$, and $\\vec{p_e}$. Use $\\phi_e$ and $\\theta_s$ to represent the electron-photon incident angle and the scattering angle.\n"
   ]
  },
  {
   "cell_type": "code",
   "execution_count": null,
   "metadata": {},
   "outputs": [],
   "source": []
  },
  {
   "cell_type": "markdown",
   "metadata": {},
   "source": [
    "From the law of cosines:\n",
    "\n",
    "\\begin{align}\n",
    "p_e^2 &= p_\\lambda^2 + p_{\\lambda'}^2 - 2p_\\lambda p_{\\lambda'}\\cos{\\theta_s}\n",
    "\\end{align}\n",
    "\n",
    "\n",
    "From conservation of energy:\n",
    "\\begin{align}\n",
    "p_\\lambda c+m_ec^2 &=  p_{\\lambda'}c + mc^2\\\\\n",
    "\\mbox{where }&\\\\\n",
    "m_e&=\\mbox{rest mass of the electron}\\\\\n",
    "m &= \\mbox{relativistic electron mass after scattering}\n",
    "\\end{align}\n",
    "\n",
    "Combining these gives:\n",
    "\n",
    "\\begin{align}\n",
    "\\lambda' - \\lambda &= \\frac{h}{m_ec}(1-\\cos{\\theta_s})\\\\\n",
    "\\implies \\frac{1}{E'} - \\frac{1}{E} &= \\frac{1}{m_ec^2}(1-\\cos{\\theta_s})\n",
    "\\end{align}"
   ]
  },
  {
   "cell_type": "markdown",
   "metadata": {},
   "source": [
    "## Exercise: Recoil energy\n",
    "\n",
    "What is the recoil kinetic energy of the electron?\n",
    "\n",
    "First, we can find the energy of the scattered photon:\n",
    "\n",
    "\\begin{align}\n",
    "E'  &= \\left[\\frac{1}{E} + \\frac{1}{m_ec^2}(1-\\cos{\\theta_s})\\right]^{-1}\\\\\n",
    "  &= \\left[\\frac{1}{3MeV} + \\frac{1}{0.511MeV}\\left(1-\\cos{\\frac{\\pi}{4}}\\right)\\right]^{-1}\n",
    "  &= 1.10MeV\n",
    "\\end{align}\n",
    "\n",
    "The energy lost by the scattered photon is balanced by kinetic energy of the electron, $ T_e = E-E' = 3- 1.10 = 1.90MeV.$"
   ]
  },
  {
   "cell_type": "markdown",
   "metadata": {},
   "source": [
    "## Electromagnetic Radiation : Wave-Particle duality\n",
    "\n",
    "### Photon properties\n",
    "Photons must always be treated relativistically since they travel at the speed of light $c$.\n",
    "\n",
    "#### What's $\\nu$?\n",
    "\n",
    "\\begin{align}\n",
    "c = \\lambda \\nu\\\\\n",
    "\\implies \\nu = \\frac{c}{\\lambda}\n",
    "\\end{align}\n",
    "\n",
    "The momentum of the photon is of course:\n",
    "\n",
    "\\begin{align}\n",
    "p&=\\frac{E}{c}\\\\\n",
    "&= \\frac{h\\nu}{c}\\\\\n",
    "&= \\frac{h}{\\lambda}.\n",
    "\\end{align}\n",
    "\n",
    "And its relativistic mass comes from the equivalence of mass and energy:\n",
    "\n",
    "\\begin{align}\n",
    "mc^2 &= E = h\\nu\\\\\n",
    "\\implies m&=\\frac{h\\nu}{c^2}\n",
    "\\end{align}\n"
   ]
  },
  {
   "cell_type": "markdown",
   "metadata": {},
   "source": [
    "## de Broglie wavelength\n",
    "\n",
    "- **1924** de Broglie's PhD thesis proposed that electrons have wave-like and particle-like properties, just like photons.\n",
    "\n",
    "The dominance of classical vs relativistic behavior is related to the object's energy and mass. The de Broglie wavelength can be used to differentiate that threshold.\n",
    "\n",
    "By rearranging the momentum equation stated for photons, a relationship between $\\lambda$ and $p$ for the electron can be found:\n",
    "\n",
    "\\begin{align}\n",
    "\\lambda &={\\frac {h}{p}}\\\\\n",
    " &= \\frac{hc}{\\sqrt{T^2 + 2Tm_oc^2}}\n",
    "\\end{align}\n",
    "\n",
    "For a classical object, $T^2 << 2Tm_o^2$, so this equation reduces to: \n",
    "\n",
    "\\begin{align}\n",
    "\\lambda &={\\frac {h}{p}}\\\\\n",
    " &= \\frac{h}{\\sqrt{2Tm_o}}\n",
    "\\end{align}\n",
    "\n",
    "The relationship is now known to hold for all types of matter: **all matter exhibits properties of both particles and waves.** \n",
    "\n",
    "A general rule -- as the wavelength of the object becomes much less than atomic dimensions ($10^{-10}$m), it behaves more like a particle than a wave. \n",
    "\n"
   ]
  },
  {
   "cell_type": "code",
   "execution_count": null,
   "metadata": {},
   "outputs": [],
   "source": []
  }
 ],
 "metadata": {
  "kernelspec": {
   "display_name": "Python 3 (ipykernel)",
   "language": "python",
   "name": "python3"
  },
  "language_info": {
   "codemirror_mode": {
    "name": "ipython",
    "version": 3
   },
   "file_extension": ".py",
   "mimetype": "text/x-python",
   "name": "python",
   "nbconvert_exporter": "python",
   "pygments_lexer": "ipython3",
   "version": "3.9.9"
  }
 },
 "nbformat": 4,
 "nbformat_minor": 1
}

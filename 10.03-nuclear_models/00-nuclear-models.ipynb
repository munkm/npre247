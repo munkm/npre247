{
 "cells": [
  {
   "cell_type": "code",
   "execution_count": 2,
   "metadata": {
    "collapsed": true,
    "deletable": true,
    "editable": true
   },
   "outputs": [],
   "source": [
    "%matplotlib notebook\n",
    "%matplotlib inline\n",
    "import math\n",
    "import matplotlib.pyplot as plt\n",
    "import numpy as np"
   ]
  },
  {
   "cell_type": "markdown",
   "metadata": {
    "deletable": true,
    "editable": true
   },
   "source": [
    "# Nuclear Models\n",
    "\n",
    "## Learning objectives\n",
    "\n",
    "- Summarize the history of atomic theory development.\n",
    "- Recognize the radiation signatures that drove early atomic theory.\n",
    "- List atomic models: Plum Pudding, Rutherford, Bohr, Bohr with Elliptical Orbits, Quantum Mechanical\n",
    "- Differentiate various atomic models by name and physics.\n",
    "- List nuclear models: Proton-electron, Proton-neutron, Liquid-Drop, Shell\n",
    "- Differentiate nuclear models by name and physics.\n",
    "- Identify the physics captured by various nuclear models.\n",
    "- Explain the reason for the structure of most likely decays in the chart of the nuclides"
   ]
  },
  {
   "cell_type": "markdown",
   "metadata": {
    "deletable": true,
    "editable": true
   },
   "source": [
    "## Discovery of Radioactivity\n",
    "\n",
    "Electrically charged plates impose a magnetic field (out of the page). \n",
    "\n",
    "![https://opentextbc.ca/chemistry/wp-content/uploads/sites/150/2016/05/CNX_Chem_21_03_Radiation.jpg](https://opentextbc.ca/chemistry/wp-content/uploads/sites/150/2016/05/CNX_Chem_21_03_Radiation.jpg)\n",
    "\n",
    "21.3 Radioactive Decay by Rice University is licensed under a Creative Commons Attribution 4.0 International License, except where otherwise noted. (https://opentextbc.ca/chemistry/chapter/21-3-radioactive-decay/)\n",
    "\n",
    "\n",
    "- Alpha $(\\alpha)$ particles are attracted to the negative plate and deflected by a relatively small amount.\n",
    "- Beta $(\\beta)$ particles are attracted to the positive plate and deflected by a larger amount.\n",
    "- Gamma $(\\gamma)$ particles seem to be unaffected.\n",
    "\n",
    "### Exercise: Think-pair-share\n",
    "\n",
    "Based on these experimental results:\n",
    "\n",
    "1. What can one determine about the charges of the alpha, beta, and gamma particles?\n",
    "2. What can one determine about the weights of the particles?\n"
   ]
  },
  {
   "cell_type": "markdown",
   "metadata": {
    "deletable": true,
    "editable": true
   },
   "source": [
    "### Plum Pudding Model\n",
    "\n",
    "J.J. Thomson correctly identified the beta rays as electrons. \n",
    "So, electrons must be somewhere in the atom. However, atoms seemed be generally electrically neutral. \n",
    "Being british, J.J. Thomson equated this to plum pudding:\n",
    "\n",
    "![https://cdn.cupcakeproject.com/wp-content/uploads/2016/12/Christmas-Pudding-01.jpg](https://cdn.cupcakeproject.com/wp-content/uploads/2016/12/Christmas-Pudding-01.jpg)\n",
    "\n",
    "\n",
    "He had no reason to believe that the charges were not uniformly distributed.\n",
    "\n",
    "![https://upload.wikimedia.org/wikipedia/commons/f/ff/Plum_pudding_atom.svg](https://upload.wikimedia.org/wikipedia/commons/f/ff/Plum_pudding_atom.svg)\n",
    "\n",
    "\n",
    "Explains:\n",
    "\n",
    "- electrically neutral atoms\n",
    "- size of the atom $(10^{-10} m)$\n",
    "- an ion is an atom from which an electron has been lost\n",
    "- charge of a singly ionized atom is exactly one \n",
    "- number of electrons equals approximately half of the atomic weight of the atom\n"
   ]
  },
  {
   "cell_type": "markdown",
   "metadata": {
    "collapsed": true,
    "deletable": true,
    "editable": true
   },
   "source": [
    "### Rutherford Model\n",
    "\n",
    "Gold foil experiment by Geiger and Marsden. Alpha particles bombarded a very thin gold sheet/foil. Reflected alphas were very unlikely to be observed if the Thomson model was correct.\n",
    "\n",
    "<a title=\"By Kurzon [CC BY-SA 3.0 \n",
    " (https://creativecommons.org/licenses/by-sa/3.0\n",
    ")], from Wikimedia Commons\" href=\"https://commons.wikimedia.org/wiki/File:Geiger-Marsden_experiment_expectation_and_result.svg\"><img width=\"512\" alt=\"Geiger-Marsden experiment expectation and result\" src=\"https://upload.wikimedia.org/wikipedia/commons/thumb/f/f9/Geiger-Marsden_experiment_expectation_and_result.svg/512px-Geiger-Marsden_experiment_expectation_and_result.svg.png\"></a>\n",
    "\n",
    "\n",
    "In **1911** Rutherford surmised that a dense, positively charged thing must be at the center of the atom, perhaps with a diameter of $10^{-14}m$ or less.\n",
    "\n",
    "Deficiency of Rutherford’s model:\n",
    "The accelerating charge (electron) would radiate away their kinetic energy and the atom will collapse. \n"
   ]
  },
  {
   "cell_type": "markdown",
   "metadata": {
    "deletable": true,
    "editable": true
   },
   "source": [
    "### Bohr Model\n",
    "\n",
    "In the 1880s, Balmer, Rydberg, and others had observed **discrete lines** in the wavelength spectrum of atomic hydrogen when atoms are excited.\n",
    "\n",
    "<a title=\"By Merikanto, Adrignola (File:Emission spectrum-H.png) [CC0], via Wikimedia Commons\" href=\"https://commons.wikimedia.org/wiki/File:Emission_spectrum-H.svg\"><img width=\"512\" alt=\"Emission spectrum-H\" src=\"https://upload.wikimedia.org/wikipedia/commons/thumb/6/60/Emission_spectrum-H.svg/512px-Emission_spectrum-H.svg.png\"></a>\n",
    "\n",
    "The equation explaining these emission lines was well known by the early 1900s.\n",
    "\n",
    "\\begin{align}\n",
    "\\frac{1}{\\lambda} &= R_H \\left[\\frac{1}{n_o^2} - \\frac{1}{n^2} \\right]\\\\\n",
    "\\mbox{where  }&\\\\\n",
    "\\lambda &= \\mbox{the wavelength of electromagnetic radiation emitted in vacuum}\\\\\n",
    "R_H &= \\mbox{the Rydberg constant } \\\\\n",
    "&\\simeq  1.097373156850865 \\times 10^7 m^{-1} \\\\\n",
    "\\implies \\frac{1}{R} &=912 \\mbox{ angstrom}\\\\\n",
    "\\end{align}\n",
    "\n",
    "In the Bohr model, then, electrons were allowed only in certain orbits. Specifically only those orbits whose angular momentum satisfied the following relation:\n",
    "\n",
    "\\begin{align}\n",
    "\\frac{m_ev^2}{r} &= \\frac{Ze^2}{4\\pi\\epsilon_or^2}\\\\\n",
    "L &\\equiv m_evr = n\\frac{h}{2\\pi}\\\\\n",
    "\\mbox{where }&\\\\\n",
    "n&=1,2,3...\\\\\n",
    "L&=\\mbox{angular momentum}\\\\\n",
    "v&=\\mbox{velocity of the electron}\\\\\n",
    "r&=\\mbox{radius of the electron orbit}\\\\\n",
    "\\epsilon_o&=\\mbox{permittivity of free space}\\\\\n",
    "&= 8.85418782 \\times 10^{-12} m^{-3} kg^{-1} s^4 A^2\n",
    "\\end{align}\n",
    "\n",
    "Solving those relations for $r$ and $v$ :\n",
    "\n",
    "\\begin{align}\n",
    "v_n &= \\frac{Ze^2}{2\\epsilon_onh}\\\\\n",
    "r_n &= \\frac{n^2h^2\\epsilon_o}{\\pi m_e Z e^2}\n",
    "\\end{align}\n",
    "\n",
    "\n",
    "This explained the discreteness, as electrons might radiate energy only when moving from one allowed orbit to another.\n",
    "\n",
    "<a title=\"JabberWok [GFDL (http://www.gnu.org/copyleft/fdl.html) or CC-BY-SA-3.0 (http://creativecommons.org/licenses/by-sa/3.0/)], via Wikimedia Commons\" href=\"https://commons.wikimedia.org/wiki/File:Bohr-atom-PAR.svg\"><img width=\"256\" alt=\"Bohr-atom-PAR\" src=\"https://upload.wikimedia.org/wikipedia/commons/thumb/5/55/Bohr-atom-PAR.svg/256px-Bohr-atom-PAR.svg.png\"></a>\n",
    "\n",
    "\n",
    "Electron’s total energy under a certain orbit:\n",
    "\n",
    "\\begin{align}\n",
    "E_n &= \\frac{-m_e(Ze^2)^2}{8\\epsilon_o^2 n^2 h^2}\\\\\n",
    "\\end{align}\n",
    "\n",
    "\n",
    "Energy difference between two allowed orbits:\n",
    "\n",
    "\\begin{align}\n",
    "\\Delta E_{n\\rightarrow n_o} &= h\\nu_{n\\rightarrow n_o} \\\\\n",
    " &=  \\frac{-m_e(Ze^2)^2}{8\\epsilon_o^2 h^2}\\left[\\frac{1}{n_o^2} - \\frac{1}{n^2}\\right]\\\\\n",
    "\\end{align}\n",
    "\n",
    "\n",
    "This model explained a lot.\n",
    "\n",
    "<a title=\"By A_hidrogen_szinkepei.jpg: User:Szdori\n",
    "derivative work: OrangeDog (talk • contribs) (A_hidrogen_szinkepei.jpg) [CC BY 2.5 \n",
    " (https://creativecommons.org/licenses/by/2.5\n",
    "), GFDL (http://www.gnu.org/copyleft/fdl.html) or CC-BY-SA-3.0 (http://creativecommons.org/licenses/by-sa/3.0/)], via Wikimedia Commons\" href=\"https://commons.wikimedia.org/wiki/File:Hydrogen_transitions.svg\"><img width=\"512\" alt=\"Hydrogen transitions\" src=\"https://upload.wikimedia.org/wikipedia/commons/thumb/b/b2/Hydrogen_transitions.svg/512px-Hydrogen_transitions.svg.png\"></a>"
   ]
  },
  {
   "cell_type": "markdown",
   "metadata": {
    "deletable": true,
    "editable": true
   },
   "source": [
    "### Bohr Model : Elliptic Orbits\n",
    "\n",
    "Fine structure: Spectral lines are consisted of a number of lines very close together.\n",
    "\n",
    "- Except the quantum number $n$, there are some energy levels lying close to one another. \n",
    "- Sommerfeld postulated elliptic orbits as well as circular orbits and introduced another quantum number to describe the **angular momentum** of orbits. \n",
    "\n",
    "However, Sommerfeld’s theory predicted more lines than were observed in experiments.\n",
    "\n",
    "Thus, a new quantum number  $n$  needed an _ad hoc_ selection rule to limit the number of predicted lines.\n",
    "\n",
    "\n",
    "<a title=\"By Pieter Kuiper [Public domain], from Wikimedia Commons\" href=\"https://commons.wikimedia.org/wiki/File:Sommerfeld_ellipses.svg\"><img width=\"512\" alt=\"Sommerfeld ellipses\" src=\"https://upload.wikimedia.org/wikipedia/commons/thumb/7/75/Sommerfeld_ellipses.svg/512px-Sommerfeld_ellipses.svg.png\"></a>\n",
    "\n",
    "\n",
    "Splitting of the spectral lines was observed: A third quantum number $m$ needed to be introduced to revise Bohr’s model. also predicted more lines\n",
    "\n",
    "The theory failed to applied to more complicated atoms (multiplet structure is observed).\n",
    "\n",
    "Further change of Bohr’s theory can no longer resolve the difficulties. "
   ]
  },
  {
   "cell_type": "markdown",
   "metadata": {
    "deletable": true,
    "editable": true
   },
   "source": [
    "### Quantum Mechanical Model\n",
    "\n",
    "The electrons are no longer modeled as particles moving in orbits. Instead, they are modeled as a standing wave around the nucleus. The magnitude of that wave reflects the probability of finding the electron in that locations.\n",
    "\n",
    "- Schrodinger’s new approach:  **the wave function**\n",
    "- The electrons are no longer point particles; they are visualized as a standing wave around the nucleus.\n",
    "\n",
    "The three quantum numbers ($n$, $l$ , $m$) arose from the theory naturally - no ad hoc selection rules were needed. \n",
    "\n",
    "A fourth quantum number $m_s$ was introduced to explain:\n",
    "- Multiple fine-line structure\n",
    "- Splitting of lines in a strong magnetic field ( the **anomalous Zeeman effect**)\n",
    "\n",
    "<a title=\"By Danski14 [CC BY-SA 3.0 \n",
    " (https://creativecommons.org/licenses/by-sa/3.0\n",
    ")], from Wikimedia Commons\" href=\"https://commons.wikimedia.org/wiki/File:Breit-rabi-Zeeman.png\"><img width=\"512\" alt=\"Breit-rabi-Zeeman\" src=\"https://upload.wikimedia.org/wikipedia/commons/thumb/5/56/Breit-rabi-Zeeman.png/512px-Breit-rabi-Zeeman.png\"></a>\n",
    "\n",
    "The $m_s$ quantum number accounted for the inherent angular momentum of the electron equal to $\\pm\\frac{h}{2\\pi}. Later, in 1928, Dirac would show that this fourth quantum number also arises from the wave equation."
   ]
  },
  {
   "cell_type": "markdown",
   "metadata": {
    "deletable": true,
    "editable": true
   },
   "source": [
    "## Nuclear Models\n",
    "\n",
    "\n",
    "### Fundamental properties of the nucleus \n",
    "\n",
    "Some simple facts were determined about the mass of the nucleus.\n",
    "\n",
    "1. The **masses of atoms** were very nearly whole numbers if one defines the atomic mass unit as:\n",
    "\\begin{align}\n",
    "1 u = \\frac{1}{12}M(^{12}C)\n",
    "\\end{align}\n",
    "2. The **mass contribution from electrons** is quite **small**\n",
    "  - In $^{12}C$, the six electrons together only weigh $0.00329u$\n",
    "  \n",
    "  \n",
    "Also, electron scattering experiments yielded details about the density of the nucleus and its components.\n",
    "**The density of protons** inside the spherical nuclei was well understood to be a function of the radius, dropping off appreciably at the boundary of the nucleus.\n",
    "\n",
    "\\begin{align}\n",
    "\\rho_p(r) &= \\frac{\\rho_p^o}{1+e^{\\frac{(r-R)}{a}}} \\left[\\frac{\\mbox{protons}}{fm^3}\\right]\\\\\n",
    "\\mbox{where }&\\\\\n",
    "r &= \\mbox{distance to center of nucleus}\\\\\n",
    "R &= \\mbox{total 'radius' of the nucleus}\\\\\n",
    "a &= \\mbox{surface thickness}\\\\\n",
    "\\rho_p^o &= \\int\\int\\int \\rho_p(r)dV\\\\\n",
    "&= 4\\pi\\int_0^\\infty r^2\\rho_p(r)dr\\\\\n",
    "&= Z\n",
    "\\end{align}\n",
    "\n",
    "Also, the R value, the radius of the nucleus was seen empirically to be proportional to $A^{1/3}$."
   ]
  },
  {
   "cell_type": "code",
   "execution_count": null,
   "metadata": {
    "collapsed": true,
    "deletable": true,
    "editable": true
   },
   "outputs": [],
   "source": [
    "def rho_p(r, rho_po, radius, a):\n",
    "    denom = 1 + math.exp((r - radius)/a)\n",
    "    return rho_po/denom"
   ]
  },
  {
   "cell_type": "code",
   "execution_count": 21,
   "metadata": {
    "collapsed": false,
    "deletable": true,
    "editable": true
   },
   "outputs": [
    {
     "data": {
      "text/plain": [
       "<matplotlib.legend.Legend at 0x10fb0df98>"
      ]
     },
     "execution_count": 21,
     "metadata": {},
     "output_type": "execute_result"
    },
    {
     "data": {
      "image/png": "[encoded data removed]",
      "text/plain": [
       "<matplotlib.figure.Figure at 0x10f986978>"
      ]
     },
     "metadata": {},
     "output_type": "display_data"
    }
   ],
   "source": [
    "# For 16O (from table 3.2)\n",
    "o_rho_po = 0.156 # fm^{-3}\n",
    "o_radius = 2.61 # fm\n",
    "o_a = 0.513\n",
    "\n",
    "# For 109Ag (from table 3.2)\n",
    "ag_rho_po = 0.157 # fm^{-3}\n",
    "ag_radius = 5.33 # fm\n",
    "ag_a = 0.523\n",
    "\n",
    "# For 208Pb (from table 3.2)\n",
    "pb_rho_po = 0.159 # fm^{-3}\n",
    "pb_radius = 6.65 # fm\n",
    "pb_a = 0.526\n",
    "\n",
    "r = np.arange(0, 10, 0.1)\n",
    "to_plot_o = np.arange(0., 100.)\n",
    "to_plot_ag = np.arange(0., 100.)\n",
    "to_plot_pb = np.arange(0., 100.)\n",
    "\n",
    "for i in range(0, 100):\n",
    "    to_plot_o[i]  = rho_p(r[i], o_rho_po, o_radius, o_a)\n",
    "    to_plot_ag[i] = rho_p(r[i], ag_rho_po, ag_radius, ag_a)\n",
    "    to_plot_pb[i] = rho_p(r[i], pb_rho_po, pb_radius, pb_a)\n",
    "\n",
    "plt.plot(r, to_plot_o, label=\"$^{16}O$\")\n",
    "plt.plot(r, to_plot_ag, label=\"$^{109}Ag$\")\n",
    "plt.plot(r, to_plot_pb, label=\"$^{208}Pb$\")\n",
    "plt.ylabel(\"Proton density ($fm^{-3}$)\")\n",
    "plt.xlabel(\"distance from center $(fm)$\")\n",
    "plt.legend()"
   ]
  },
  {
   "cell_type": "markdown",
   "metadata": {
    "deletable": true,
    "editable": true
   },
   "source": [
    "### Proton Electron Model\n",
    "\n",
    "This model sought primarily to explain the wholeness of mass numbers. To do so, it simply assumed that all heavier nuclei were composed of multiples of the hydrogen nucleus (assumed to be a single proton), which has the smallest mass(1 amu).\n",
    "\n",
    "For this to match what was known about atomic charge, electrons would need to be in the nucleus to cancel some, but not all, of the positive charge from the protons.\n",
    "\n",
    "**In this model** an atom $^A_ZX$ would have a nucleus containing A protons and (A − Z) electrons with Z electrons surrounding the nucleus. This postulated extra electrons -- to explain it, the mass of the electrons was assumed to make a negligible contribution.\n",
    "\n",
    "Two difficulties with this P-E Model:\n",
    "\n",
    "1. Predicted angular momentum (spin) of the nuclei did not always agree with experiment. \n",
    "   **Protons and electrons both have half integer spin**, so when an even number are combined, whole integer spin should result. For example, **the model predicted integer spin for Beryllium, while experiments predicted half-integer spin.** Similarly, **the model predicted half-integer spin in nitrogen but experimental results show nitrogen has integer spin.**\n",
    "\n",
    "2. Uncertainty Principle \n",
    "\n",
    "\\begin{align}\n",
    "\\Delta p \\Delta x &\\ge \\frac{h}{4\\pi}\n",
    "\\end{align}\n",
    "   \n",
    "\n",
    "If an electron is in the nucleus, then $\\Delta x\\simeq10^{-14}m$. Accordingly:\n",
    "\\begin{align}\n",
    "min(\\Delta_p) = 1.1\\times 10^{-20}J m^{-1}s\n",
    "\\end{align}\n",
    "Since the electron’s total energy is\n",
    "\\begin{align}\n",
    "E &= T +m_oc^2 \\\\\n",
    "&=\t\\sqrt{p^2c^2 +m^2_oc^4}\\\\\n",
    "\\implies &\\\\\n",
    "&\\forall p = \\Delta p : E \\simeq T = 20 MeV\\\\\n",
    "\\end{align}\n",
    "\n",
    "Since the electron's rest-mass energy is 0.51 MeV and beta particles emitted by atoms seldom have energies above a few MeV, something was wrong with this calculation.\n",
    "\n",
    "You can do the same calculation for the proton. Because it has a much higher mass, there is no discrepancy. The energy of a free proton confined to a nucleus is its rest-mass energy (931 MeV), with $T<1MeV$."
   ]
  },
  {
   "cell_type": "markdown",
   "metadata": {
    "deletable": true,
    "editable": true
   },
   "source": [
    "### 1932: Chadwick discovers the neutron\n",
    "\n",
    "Chadwick discovers the existence of a chargeless particle with a mass just slightly greater than that of the proton.\n",
    "\n",
    "\\begin{align}\n",
    "m_n &= 1.008665 u\\\\\n",
    "m_p &= 1.007276 u\n",
    "\\end{align}\n",
    "\n"
   ]
  },
  {
   "cell_type": "markdown",
   "metadata": {
    "deletable": true,
    "editable": true
   },
   "source": [
    "### Proton-Neutron Model\n",
    "\n",
    "- **1932** Chadwick discovered the neutron. \n",
    "- **1932** Heisenberg first suggested every nucleus is composed of only protons and neutrons.\n",
    "\n",
    "**In this model**, a nucleus with a mass number A contains Z protons and N = A − Z neutrons. \n",
    "\n",
    "- This P-N Model avoids the failures of the P-E model. \n",
    "- Also is consistent with experimental results regarding radioactivity \n",
    "- Since the neutron has half-integral spin, the A neutrons and protons give appropriate spin for the total atom in all cases.\n",
    "\n",
    "Challenges for this model:\n",
    "\n",
    "- Because of Coulombic repulsive forces in the nucleus, a 'nuclear force' must hold the nucleus together\n",
    "- To hold the protons and neutrons together: \n",
    "      nuclear force : p-n , n-n , p-p\n",
    "      1.  inside the nucleus: nuclear force (attractive)\n",
    "      2. outside the nucleus: Coulombic force (repulsive)\n",
    "\n",
    "The energy needed to separate nucleus into $p_s$ & $n_s$ : binding energy\n",
    "\n",
    "\n",
    "In the image below, the nuclear potential well is shown.\n",
    "\n",
    "![nuc_potential_well.png](nuc_potential_well.png)\n",
    "**The above image was reproduced from Shultis, J. K. and Faw, R. E. “Fundamentals of Nuclear Science and Engineering” (2016).**"
   ]
  },
  {
   "cell_type": "markdown",
   "metadata": {
    "deletable": true,
    "editable": true
   },
   "source": [
    "## Nuclear Stability\n",
    "\n",
    "<a title=\"By Table_isotopes.svg: Napy1kenobi\n",
    "derivative work: Sjlegg (Table_isotopes.svg) [CC BY-SA 3.0 \n",
    " (https://creativecommons.org/licenses/by-sa/3.0\n",
    ") or GFDL (http://www.gnu.org/copyleft/fdl.html)], via Wikimedia Commons\" href=\"https://commons.wikimedia.org/wiki/File:Table_isotopes_en.svg\"><img width=\"512\" alt=\"Table isotopes en\" src=\"https://upload.wikimedia.org/wikipedia/commons/thumb/c/c4/Table_isotopes_en.svg/715px-Table_isotopes_en.svg.png\"></a>\n",
    "\n",
    "**Figure** Graph of isotopes by type of nuclear decay. Orange and blue nuclides are unstable, with the black squares between these regions representing stable nuclides. The unbroken line passing below many of the nuclides represents the theoretical position on the graph of nuclides for which proton number is the same as neutron number. The graph shows that elements with more than 20 protons must have more neutrons than protons, in order to be stable.\n",
    "\n",
    "\n",
    "![stability.png](stability.png)\n",
    "**The above image was reproduced from Shultis, J. K. and Faw, R. E. “Fundamentals of Nuclear Science and Engineering” (2016).**\n",
    "\n",
    "- many more stable isotopes with even N and/or Z\n",
    "- in a heavy nucleus, the neutrons and protons tend to group themselves into subunits of 2 neutrons and 2 protons.\n",
    "- when either Z or N equals 8, 20, 50, 82, or 126, there are relatively greater numbers of stable nuclides. "
   ]
  },
  {
   "cell_type": "markdown",
   "metadata": {
    "deletable": true,
    "editable": true
   },
   "source": [
    "### Liquid Drop Model\n",
    "\n",
    "\n",
    "1. volume term: volume binding energy is proportional to the number of nucleons (i.e. # of nucleons.)\n",
    "\n",
    "2. Surface term: Nucleons near the surface of the nucleus are not completely surrounded by other nucleons as interior nucleons.\n",
    "\n",
    "3. Coulomb term: Coulombic repulsive force decrease the stability of nucleons (reduces the BE ).\n",
    "\n",
    "4. asymmetry term: a departure from symmetry (N=Z) tends to reduce nuclear stability. (Fig.3.10 )\n",
    "\n",
    "5. pairing term : pairing neutrons and protons are more stable. (even N or Z; odd N or Z ; even N (Z), odd Z (N)) (Fig.3.11 & Fig.3.12)\n",
    "\n",
    "\n",
    "<a title=\"By Daniel FR [CC BY-SA 3.0 \n",
    " (https://creativecommons.org/licenses/by-sa/3.0\n",
    ")], via Wikimedia Commons\" href=\"https://commons.wikimedia.org/wiki/File:Liquid_drop_model.svg\"><img width=\"512\" alt=\"Liquid drop model\" src=\"https://upload.wikimedia.org/wikipedia/commons/thumb/5/5b/Liquid_drop_model.svg/512px-Liquid_drop_model.svg.png\"></a>\n",
    "\n",
    "Higher binding energy $\\implies$ a more stable nuclide."
   ]
  },
  {
   "cell_type": "markdown",
   "metadata": {
    "deletable": true,
    "editable": true
   },
   "source": [
    "### Shell Model\n",
    "\n",
    "The liquid drop model cannot explain the abnormal high stable nuclides(magic numbers:2,8,20,28,50,82,126).\n",
    "The shell model assume: (Shrodinger’s wave eq.)\n",
    "Each nucleon moves independently.\n",
    "Each nucleon moves in a potential well.\n",
    "\n",
    "When the model’s quantum-mechanical wave eq. is solved, the nucleons are found to distribute themselves into a number of energy levels.\n",
    "Filled shells are indicated by large gaps between each adjacent energy level.\n"
   ]
  },
  {
   "cell_type": "markdown",
   "metadata": {
    "deletable": true,
    "editable": true
   },
   "source": [
    "<a title=\"By Fujnky [CC BY-SA 4.0 \n",
    " (https://creativecommons.org/licenses/by-sa/4.0\n",
    ")], from Wikimedia Commons\" href=\"https://commons.wikimedia.org/wiki/File:Bethe-Weizs%C3%A4cker.png\"><img width=\"512\" alt=\"Bethe-Weizsäcker\" src=\"https://upload.wikimedia.org/wikipedia/commons/thumb/3/3b/Bethe-Weizs%C3%A4cker.png/512px-Bethe-Weizs%C3%A4cker.png\"></a>"
   ]
  },
  {
   "cell_type": "code",
   "execution_count": null,
   "metadata": {
    "collapsed": true,
    "deletable": true,
    "editable": true
   },
   "outputs": [],
   "source": []
  },
  {
   "cell_type": "code",
   "execution_count": null,
   "metadata": {
    "collapsed": true,
    "deletable": true,
    "editable": true
   },
   "outputs": [],
   "source": []
  }
 ],
 "metadata": {
  "kernelspec": {
   "display_name": "Python 3",
   "language": "python",
   "name": "python3"
  },
  "language_info": {
   "codemirror_mode": {
    "name": "ipython",
    "version": 3
   },
   "file_extension": ".py",
   "mimetype": "text/x-python",
   "name": "python",
   "nbconvert_exporter": "python",
   "pygments_lexer": "ipython3",
   "version": "3.5.2"
  }
 },
 "nbformat": 4,
 "nbformat_minor": 0
}
